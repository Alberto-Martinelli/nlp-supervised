{
 "cells": [
  {
   "cell_type": "markdown",
   "metadata": {},
   "source": [
    "# Results Interpretation"
   ]
  },
  {
   "cell_type": "markdown",
   "metadata": {},
   "source": [
    "### 1) Error analysis"
   ]
  },
  {
   "cell_type": "code",
   "execution_count": null,
   "metadata": {},
   "outputs": [],
   "source": [
    "import pandas as pd\n",
    "from sklearn.metrics import confusion_matrix, classification_report\n",
    "import seaborn as sns\n",
    "import matplotlib.pyplot as plt\n",
    "\n",
    "# Example DataFrame\n",
    "df = pd.DataFrame({\n",
    "    'review': [\"The service was great!\", \"Terrible experience.\", \"It was okay.\"],\n",
    "    'true_label': [\"positive\", \"negative\", \"neutral\"],\n",
    "    'predicted_label': [\"positive\", \"neutral\", \"neutral\"]\n",
    "})\n",
    "\n",
    "# Calculate confusion matrix\n",
    "cm = confusion_matrix(df['true_label'], df['predicted_label'], labels=[\"positive\", \"neutral\", \"negative\"])\n",
    "sns.heatmap(cm, annot=True, fmt='d', cmap='Blues', xticklabels=[\"positive\", \"neutral\", \"negative\"], yticklabels=[\"positive\", \"neutral\", \"negative\"])\n",
    "plt.title(\"Confusion Matrix\")\n",
    "plt.xlabel(\"Predicted\")\n",
    "plt.ylabel(\"True\")\n",
    "plt.show()\n",
    "\n",
    "# Classification report\n",
    "report = classification_report(df['true_label'], df['predicted_label'])\n",
    "print(report)"
   ]
  },
  {
   "cell_type": "markdown",
   "metadata": {},
   "source": [
    "### 2) Sentiment detection"
   ]
  },
  {
   "cell_type": "code",
   "execution_count": null,
   "metadata": {},
   "outputs": [],
   "source": [
    "import matplotlib.pyplot as plt\n",
    "\n",
    "# Example predictions\n",
    "df['predicted_sentiment'] = [\"positive\", \"neutral\", \"neutral\", \"negative\", \"positive\"]\n",
    "\n",
    "# Count sentiments\n",
    "sentiment_counts = df['predicted_sentiment'].value_counts()\n",
    "\n",
    "# Plot sentiment distribution\n",
    "plt.bar(sentiment_counts.index, sentiment_counts.values, color=['green', 'blue', 'red'])\n",
    "plt.title(\"Sentiment Distribution\")\n",
    "plt.xlabel(\"Sentiment\")\n",
    "plt.ylabel(\"Count\")\n",
    "plt.show()"
   ]
  },
  {
   "cell_type": "markdown",
   "metadata": {},
   "source": [
    "### 3) Classical models with themes"
   ]
  },
  {
   "cell_type": "code",
   "execution_count": null,
   "metadata": {},
   "outputs": [],
   "source": []
  }
 ],
 "metadata": {
  "language_info": {
   "name": "python"
  }
 },
 "nbformat": 4,
 "nbformat_minor": 2
}
