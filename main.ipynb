{
 "cells": [
  {
   "cell_type": "markdown",
   "metadata": {},
   "source": [
    "# 1) Data cleaning"
   ]
  },
  {
   "cell_type": "markdown",
   "metadata": {},
   "source": [
    "### Read files into dataframe"
   ]
  },
  {
   "cell_type": "code",
   "execution_count": 113,
   "metadata": {},
   "outputs": [
    {
     "data": {
      "text/html": [
       "<div>\n",
       "<style scoped>\n",
       "    .dataframe tbody tr th:only-of-type {\n",
       "        vertical-align: middle;\n",
       "    }\n",
       "\n",
       "    .dataframe tbody tr th {\n",
       "        vertical-align: top;\n",
       "    }\n",
       "\n",
       "    .dataframe thead th {\n",
       "        text-align: right;\n",
       "    }\n",
       "</style>\n",
       "<table border=\"1\" class=\"dataframe\">\n",
       "  <thead>\n",
       "    <tr style=\"text-align: right;\">\n",
       "      <th></th>\n",
       "      <th>score</th>\n",
       "      <th>username</th>\n",
       "      <th>review_fr</th>\n",
       "      <th>company</th>\n",
       "      <th>product</th>\n",
       "      <th>type</th>\n",
       "      <th>date_publication</th>\n",
       "      <th>date_exp</th>\n",
       "      <th>review_en</th>\n",
       "      <th>review_corrected_fr</th>\n",
       "      <th>review_corrected_en</th>\n",
       "    </tr>\n",
       "  </thead>\n",
       "  <tbody>\n",
       "    <tr>\n",
       "      <th>0</th>\n",
       "      <td>NaN</td>\n",
       "      <td>estelle-51227</td>\n",
       "      <td>j'ai quitté mon ancien contrat d'assurance che...</td>\n",
       "      <td>Néoliane Santé</td>\n",
       "      <td>sante</td>\n",
       "      <td>test</td>\n",
       "      <td>12/01/2017</td>\n",
       "      <td>01/01/2017</td>\n",
       "      <td>I left my former insurance contract at General...</td>\n",
       "      <td>NaN</td>\n",
       "      <td>NaN</td>\n",
       "    </tr>\n",
       "    <tr>\n",
       "      <th>1</th>\n",
       "      <td>NaN</td>\n",
       "      <td>leadum-51107</td>\n",
       "      <td>j'ai souscrit à cette mutuelle l'année dernier...</td>\n",
       "      <td>Néoliane Santé</td>\n",
       "      <td>sante</td>\n",
       "      <td>test</td>\n",
       "      <td>09/01/2017</td>\n",
       "      <td>01/01/2017</td>\n",
       "      <td>I subscribed to this mutual a year last year a...</td>\n",
       "      <td>NaN</td>\n",
       "      <td>NaN</td>\n",
       "    </tr>\n",
       "    <tr>\n",
       "      <th>2</th>\n",
       "      <td>NaN</td>\n",
       "      <td>enora-49520</td>\n",
       "      <td>Impossible d'avoir le bon service , ils raccro...</td>\n",
       "      <td>Néoliane Santé</td>\n",
       "      <td>sante</td>\n",
       "      <td>test</td>\n",
       "      <td>24/11/2016</td>\n",
       "      <td>01/11/2016</td>\n",
       "      <td>Impossible to have the right service, they han...</td>\n",
       "      <td>NaN</td>\n",
       "      <td>NaN</td>\n",
       "    </tr>\n",
       "    <tr>\n",
       "      <th>3</th>\n",
       "      <td>NaN</td>\n",
       "      <td>bea-139295</td>\n",
       "      <td>Génération est une mutuelle très chère pour un...</td>\n",
       "      <td>Génération</td>\n",
       "      <td>sante</td>\n",
       "      <td>test</td>\n",
       "      <td>09/11/2021</td>\n",
       "      <td>01/11/2021</td>\n",
       "      <td>Generation is a very expensive mutual for a re...</td>\n",
       "      <td>NaN</td>\n",
       "      <td>NaN</td>\n",
       "    </tr>\n",
       "    <tr>\n",
       "      <th>4</th>\n",
       "      <td>NaN</td>\n",
       "      <td>anna-139192</td>\n",
       "      <td>je viens d apprendre que je suis radié... j ap...</td>\n",
       "      <td>Génération</td>\n",
       "      <td>sante</td>\n",
       "      <td>test</td>\n",
       "      <td>08/11/2021</td>\n",
       "      <td>01/11/2021</td>\n",
       "      <td>I just learned that I am struck off ... I call...</td>\n",
       "      <td>NaN</td>\n",
       "      <td>NaN</td>\n",
       "    </tr>\n",
       "  </tbody>\n",
       "</table>\n",
       "</div>"
      ],
      "text/plain": [
       "   score       username                                          review_fr  \\\n",
       "0    NaN  estelle-51227  j'ai quitté mon ancien contrat d'assurance che...   \n",
       "1    NaN   leadum-51107  j'ai souscrit à cette mutuelle l'année dernier...   \n",
       "2    NaN    enora-49520  Impossible d'avoir le bon service , ils raccro...   \n",
       "3    NaN     bea-139295  Génération est une mutuelle très chère pour un...   \n",
       "4    NaN    anna-139192  je viens d apprendre que je suis radié... j ap...   \n",
       "\n",
       "          company product  type date_publication    date_exp  \\\n",
       "0  Néoliane Santé   sante  test       12/01/2017  01/01/2017   \n",
       "1  Néoliane Santé   sante  test       09/01/2017  01/01/2017   \n",
       "2  Néoliane Santé   sante  test       24/11/2016  01/11/2016   \n",
       "3      Génération   sante  test       09/11/2021  01/11/2021   \n",
       "4      Génération   sante  test       08/11/2021  01/11/2021   \n",
       "\n",
       "                                           review_en review_corrected_fr  \\\n",
       "0  I left my former insurance contract at General...                 NaN   \n",
       "1  I subscribed to this mutual a year last year a...                 NaN   \n",
       "2  Impossible to have the right service, they han...                 NaN   \n",
       "3  Generation is a very expensive mutual for a re...                 NaN   \n",
       "4  I just learned that I am struck off ... I call...                 NaN   \n",
       "\n",
       "  review_corrected_en  \n",
       "0                 NaN  \n",
       "1                 NaN  \n",
       "2                 NaN  \n",
       "3                 NaN  \n",
       "4                 NaN  "
      ]
     },
     "execution_count": 113,
     "metadata": {},
     "output_type": "execute_result"
    }
   ],
   "source": [
    "import pandas as pd \n",
    "import os\n",
    "import glob\n",
    "\n",
    "path = os.getcwd()\n",
    "folder_name = \"data\" \n",
    "xlsx_files = glob.glob(os.path.join(path+\"/\"+folder_name, \"*.xlsx\"))\n",
    "\n",
    "li = []\n",
    "col_names = ['score', 'username', 'review_fr', 'company', 'product', 'type', 'date_publication', 'date_exp', 'review_en', 'review_corrected_fr', 'review_corrected_en']\n",
    "for f in xlsx_files:\n",
    "    df = pd.read_excel(f, index_col=None, header=0, names=col_names)\n",
    "    li.append(df)\n",
    "\n",
    "dataframe = pd.concat(li, axis=0, ignore_index=True)\n",
    "dataframe.head()\n"
   ]
  },
  {
   "cell_type": "markdown",
   "metadata": {},
   "source": [
    "### Data cleaning"
   ]
  },
  {
   "cell_type": "code",
   "execution_count": 114,
   "metadata": {},
   "outputs": [
    {
     "name": "stdout",
     "output_type": "stream",
     "text": [
      "score                  10331\n",
      "username                   1\n",
      "review_fr                  0\n",
      "company                    0\n",
      "product                    0\n",
      "type                       0\n",
      "date_publication           0\n",
      "date_exp                   0\n",
      "review_en                  2\n",
      "review_corrected_fr    34000\n",
      "review_corrected_en    34004\n",
      "dtype: int64\n",
      "\n",
      "Total number of rows: 34435\n"
     ]
    }
   ],
   "source": [
    "# Show the number of missing values, and the total number of rows\n",
    "print(dataframe.isna().sum())\n",
    "\n",
    "total_rows = dataframe.shape[0]\n",
    "print()\n",
    "print(f\"Total number of rows: {total_rows}\")"
   ]
  },
  {
   "cell_type": "markdown",
   "metadata": {},
   "source": [
    "Translation"
   ]
  },
  {
   "cell_type": "code",
   "execution_count": 115,
   "metadata": {},
   "outputs": [
    {
     "name": "stdout",
     "output_type": "stream",
     "text": [
      "score                  10331\n",
      "username                   1\n",
      "review_fr                  0\n",
      "company                    0\n",
      "product                    0\n",
      "type                       0\n",
      "date_publication           0\n",
      "date_exp                   0\n",
      "review_en                  2\n",
      "review_corrected_fr    34000\n",
      "review_corrected_en    34004\n",
      "dtype: int64\n"
     ]
    }
   ],
   "source": [
    "from googletrans import Translator\n",
    "\n",
    "def translate_sentence(sentence, src_language='fr', dest_language='en'):\n",
    "    translator = Translator()\n",
    "    translation = translator.translate(sentence, src=src_language, dest=dest_language)\n",
    "    return translation.text\n",
    "\n",
    "# Fill empty entries in the 'review_en' column by translating 'review_fr'\n",
    "df['review_en'] = df.apply(lambda row: translate_sentence(row['review_fr']) if pd.isna(row['review_en']) or row['review_en'] == '' else row['review_en'], axis=1)\n",
    "print(dataframe.isna().sum())"
   ]
  },
  {
   "cell_type": "markdown",
   "metadata": {},
   "source": [
    "Handling missing values"
   ]
  },
  {
   "cell_type": "code",
   "execution_count": 116,
   "metadata": {},
   "outputs": [],
   "source": [
    "df = dataframe\n",
    "# drop rows with an undefined value for the specified column\n",
    "df.dropna(subset=['review_en'], inplace=True)\n",
    "\n",
    "#remove columns not needed\n",
    "df.drop(columns=['username', 'review_fr', 'company', 'product', 'date_publication', 'date_exp', 'review_corrected_fr', 'review_corrected_en'], inplace=True)"
   ]
  },
  {
   "cell_type": "markdown",
   "metadata": {},
   "source": [
    "Lowercasing"
   ]
  },
  {
   "cell_type": "code",
   "execution_count": 117,
   "metadata": {},
   "outputs": [],
   "source": [
    "def lowercase(frame, starting_column, final_column):\n",
    "    frame[final_column] = frame[starting_column].map(lambda r: r.lower())\n",
    "\n",
    "lowercase(df, 'review_en', 'review_cleaned')"
   ]
  },
  {
   "cell_type": "markdown",
   "metadata": {},
   "source": [
    "Remove punctuation"
   ]
  },
  {
   "cell_type": "code",
   "execution_count": 118,
   "metadata": {},
   "outputs": [],
   "source": [
    "def remove_punctuation(df, starting_column, final_column):\n",
    "    df[final_column] = df[starting_column].str.replace('[^\\w\\s]','', regex=True)\n",
    "\n",
    "remove_punctuation(df, 'review_cleaned', 'review_cleaned')"
   ]
  },
  {
   "cell_type": "code",
   "execution_count": 119,
   "metadata": {},
   "outputs": [
    {
     "data": {
      "text/html": [
       "<div>\n",
       "<style scoped>\n",
       "    .dataframe tbody tr th:only-of-type {\n",
       "        vertical-align: middle;\n",
       "    }\n",
       "\n",
       "    .dataframe tbody tr th {\n",
       "        vertical-align: top;\n",
       "    }\n",
       "\n",
       "    .dataframe thead th {\n",
       "        text-align: right;\n",
       "    }\n",
       "</style>\n",
       "<table border=\"1\" class=\"dataframe\">\n",
       "  <thead>\n",
       "    <tr style=\"text-align: right;\">\n",
       "      <th></th>\n",
       "      <th>score</th>\n",
       "      <th>type</th>\n",
       "      <th>review_en</th>\n",
       "      <th>review_cleaned</th>\n",
       "    </tr>\n",
       "  </thead>\n",
       "  <tbody>\n",
       "    <tr>\n",
       "      <th>0</th>\n",
       "      <td>NaN</td>\n",
       "      <td>test</td>\n",
       "      <td>I left my former insurance contract at General...</td>\n",
       "      <td>i left my former insurance contract at general...</td>\n",
       "    </tr>\n",
       "    <tr>\n",
       "      <th>1</th>\n",
       "      <td>NaN</td>\n",
       "      <td>test</td>\n",
       "      <td>I subscribed to this mutual a year last year a...</td>\n",
       "      <td>i subscribed to this mutual a year last year a...</td>\n",
       "    </tr>\n",
       "    <tr>\n",
       "      <th>2</th>\n",
       "      <td>NaN</td>\n",
       "      <td>test</td>\n",
       "      <td>Impossible to have the right service, they han...</td>\n",
       "      <td>impossible to have the right service they hang...</td>\n",
       "    </tr>\n",
       "    <tr>\n",
       "      <th>3</th>\n",
       "      <td>NaN</td>\n",
       "      <td>test</td>\n",
       "      <td>Generation is a very expensive mutual for a re...</td>\n",
       "      <td>generation is a very expensive mutual for a re...</td>\n",
       "    </tr>\n",
       "    <tr>\n",
       "      <th>4</th>\n",
       "      <td>NaN</td>\n",
       "      <td>test</td>\n",
       "      <td>I just learned that I am struck off ... I call...</td>\n",
       "      <td>i just learned that i am struck off  i call an...</td>\n",
       "    </tr>\n",
       "  </tbody>\n",
       "</table>\n",
       "</div>"
      ],
      "text/plain": [
       "   score  type                                          review_en  \\\n",
       "0    NaN  test  I left my former insurance contract at General...   \n",
       "1    NaN  test  I subscribed to this mutual a year last year a...   \n",
       "2    NaN  test  Impossible to have the right service, they han...   \n",
       "3    NaN  test  Generation is a very expensive mutual for a re...   \n",
       "4    NaN  test  I just learned that I am struck off ... I call...   \n",
       "\n",
       "                                      review_cleaned  \n",
       "0  i left my former insurance contract at general...  \n",
       "1  i subscribed to this mutual a year last year a...  \n",
       "2  impossible to have the right service they hang...  \n",
       "3  generation is a very expensive mutual for a re...  \n",
       "4  i just learned that i am struck off  i call an...  "
      ]
     },
     "execution_count": 119,
     "metadata": {},
     "output_type": "execute_result"
    }
   ],
   "source": [
    "df.head()"
   ]
  },
  {
   "cell_type": "markdown",
   "metadata": {},
   "source": [
    "Spelling correction"
   ]
  },
  {
   "cell_type": "code",
   "execution_count": 120,
   "metadata": {},
   "outputs": [],
   "source": [
    "# # pip install textblob\n",
    "# from textblob import TextBlob\n",
    "# from tqdm import tqdm\n",
    "\n",
    "# def correct_spelling(sentence):\n",
    "#     blob = TextBlob(sentence)\n",
    "#     return str(blob.correct())\n",
    "\n",
    "# def correct_reviews_spelling(df, starting_column, final_column):\n",
    "#     # Adding tqdm progress bar to map\n",
    "#     tqdm.pandas()  # Initialize tqdm to work with pandas apply/map\n",
    "#     df[final_column] = df[starting_column].progress_apply(lambda r: correct_spelling(r))\n",
    "\n",
    "# correct_reviews_spelling(df, 'review_cleaned', 'review_cleaned')\n",
    "# df.head()"
   ]
  },
  {
   "cell_type": "markdown",
   "metadata": {},
   "source": [
    "Stopwords removal"
   ]
  },
  {
   "cell_type": "code",
   "execution_count": 121,
   "metadata": {},
   "outputs": [],
   "source": [
    "from nltk.corpus import stopwords\n",
    "\n",
    "def remove_stopwords(df, starting_column, final_column):\n",
    "    stop = stopwords.words('english')\n",
    "    df[final_column] = df[starting_column].apply(lambda x: ' '.join([word for word in x.split() if word not in (stop)]))\n",
    "\n",
    "remove_stopwords(df, 'review_cleaned', 'review_cleaned')"
   ]
  },
  {
   "cell_type": "markdown",
   "metadata": {},
   "source": [
    "Tokenization"
   ]
  },
  {
   "cell_type": "code",
   "execution_count": 122,
   "metadata": {},
   "outputs": [],
   "source": [
    "import nltk\n",
    "\n",
    "def tokenize(df, starting_column, final_column):\n",
    "    # Adds a column 'tokenized_rev' that contains for each entry a python list of words contained in the review\n",
    "    df[final_column] = df.apply(lambda row: nltk.word_tokenize(row[starting_column]), axis=1)\n",
    "\n",
    "tokenize(df, 'review_cleaned', 'review_cleaned')"
   ]
  },
  {
   "cell_type": "markdown",
   "metadata": {},
   "source": [
    "Lemmatization"
   ]
  },
  {
   "cell_type": "code",
   "execution_count": 123,
   "metadata": {},
   "outputs": [
    {
     "name": "stderr",
     "output_type": "stream",
     "text": [
      "[nltk_data] Downloading package averaged_perceptron_tagger_eng to\n",
      "[nltk_data]     /Users/Alberto/nltk_data...\n",
      "[nltk_data]   Package averaged_perceptron_tagger_eng is already up-to-\n",
      "[nltk_data]       date!\n",
      "[nltk_data] Downloading package wordnet to /Users/Alberto/nltk_data...\n",
      "[nltk_data]   Package wordnet is already up-to-date!\n",
      "[nltk_data] Downloading package punkt to /Users/Alberto/nltk_data...\n",
      "[nltk_data]   Package punkt is already up-to-date!\n"
     ]
    }
   ],
   "source": [
    "import nltk\n",
    "nltk.download('averaged_perceptron_tagger_eng')\n",
    "nltk.download('wordnet')\n",
    "nltk.download('punkt')  # If working with tokenized data\n",
    "from nltk.stem import WordNetLemmatizer\n",
    "from nltk.corpus import wordnet\n",
    "from nltk import pos_tag\n",
    "from nltk.corpus import wordnet\n",
    "\n",
    "# Function to map NLTK POS tags to WordNet POS tags\n",
    "def get_wordnet_pos(tag):\n",
    "    if tag.startswith('J'):\n",
    "        return wordnet.ADJ\n",
    "    elif tag.startswith('V'):\n",
    "        return wordnet.VERB\n",
    "    elif tag.startswith('N'):\n",
    "        return wordnet.NOUN\n",
    "    elif tag.startswith('R'):\n",
    "        return wordnet.ADV\n",
    "    else:\n",
    "        return wordnet.NOUN  # Default as noun\n",
    "\n",
    "# Lemmatization function with POS tagging\n",
    "def lemmatize_col(df, list_column_to_lemmatize, final_column):\n",
    "    lmtzr = WordNetLemmatizer()\n",
    "    # Tokenize and apply lemmatization with POS\n",
    "    df[final_column] = df[list_column_to_lemmatize].apply(lambda lst: [lmtzr.lemmatize(word, get_wordnet_pos(tag)) for word, tag in pos_tag(lst)]\n",
    "    )\n",
    "\n",
    "lemmatize_col(df, 'review_cleaned', 'review_cleaned')"
   ]
  },
  {
   "cell_type": "code",
   "execution_count": 124,
   "metadata": {},
   "outputs": [
    {
     "data": {
      "text/html": [
       "<div>\n",
       "<style scoped>\n",
       "    .dataframe tbody tr th:only-of-type {\n",
       "        vertical-align: middle;\n",
       "    }\n",
       "\n",
       "    .dataframe tbody tr th {\n",
       "        vertical-align: top;\n",
       "    }\n",
       "\n",
       "    .dataframe thead th {\n",
       "        text-align: right;\n",
       "    }\n",
       "</style>\n",
       "<table border=\"1\" class=\"dataframe\">\n",
       "  <thead>\n",
       "    <tr style=\"text-align: right;\">\n",
       "      <th></th>\n",
       "      <th>score</th>\n",
       "      <th>type</th>\n",
       "      <th>review_en</th>\n",
       "      <th>review_cleaned</th>\n",
       "    </tr>\n",
       "  </thead>\n",
       "  <tbody>\n",
       "    <tr>\n",
       "      <th>0</th>\n",
       "      <td>NaN</td>\n",
       "      <td>test</td>\n",
       "      <td>I left my former insurance contract at General...</td>\n",
       "      <td>[leave, former, insurance, contract, general, ...</td>\n",
       "    </tr>\n",
       "    <tr>\n",
       "      <th>1</th>\n",
       "      <td>NaN</td>\n",
       "      <td>test</td>\n",
       "      <td>I subscribed to this mutual a year last year a...</td>\n",
       "      <td>[subscribe, mutual, year, last, year, stay, ye...</td>\n",
       "    </tr>\n",
       "    <tr>\n",
       "      <th>2</th>\n",
       "      <td>NaN</td>\n",
       "      <td>test</td>\n",
       "      <td>Impossible to have the right service, they han...</td>\n",
       "      <td>[impossible, right, service, hang, nose, know,...</td>\n",
       "    </tr>\n",
       "    <tr>\n",
       "      <th>3</th>\n",
       "      <td>NaN</td>\n",
       "      <td>test</td>\n",
       "      <td>Generation is a very expensive mutual for a re...</td>\n",
       "      <td>[generation, expensive, mutual, retiree, 150, ...</td>\n",
       "    </tr>\n",
       "    <tr>\n",
       "      <th>4</th>\n",
       "      <td>NaN</td>\n",
       "      <td>test</td>\n",
       "      <td>I just learned that I am struck off ... I call...</td>\n",
       "      <td>[learn, strike, call, adviser, give, answer, s...</td>\n",
       "    </tr>\n",
       "  </tbody>\n",
       "</table>\n",
       "</div>"
      ],
      "text/plain": [
       "   score  type                                          review_en  \\\n",
       "0    NaN  test  I left my former insurance contract at General...   \n",
       "1    NaN  test  I subscribed to this mutual a year last year a...   \n",
       "2    NaN  test  Impossible to have the right service, they han...   \n",
       "3    NaN  test  Generation is a very expensive mutual for a re...   \n",
       "4    NaN  test  I just learned that I am struck off ... I call...   \n",
       "\n",
       "                                      review_cleaned  \n",
       "0  [leave, former, insurance, contract, general, ...  \n",
       "1  [subscribe, mutual, year, last, year, stay, ye...  \n",
       "2  [impossible, right, service, hang, nose, know,...  \n",
       "3  [generation, expensive, mutual, retiree, 150, ...  \n",
       "4  [learn, strike, call, adviser, give, answer, s...  "
      ]
     },
     "execution_count": 124,
     "metadata": {},
     "output_type": "execute_result"
    }
   ],
   "source": [
    "df.head()"
   ]
  },
  {
   "cell_type": "markdown",
   "metadata": {},
   "source": [
    "Handling Imbalanced Data"
   ]
  },
  {
   "cell_type": "code",
   "execution_count": 125,
   "metadata": {},
   "outputs": [
    {
     "name": "stdout",
     "output_type": "stream",
     "text": [
      "score\n",
      "1.0    7271\n",
      "4.0    4885\n",
      "5.0    4849\n",
      "2.0    3716\n",
      "3.0    3382\n",
      "Name: count, dtype: int64\n"
     ]
    },
    {
     "data": {
      "image/png": "[encoded data removed]",
      "text/plain": [
       "<Figure size 640x480 with 1 Axes>"
      ]
     },
     "metadata": {},
     "output_type": "display_data"
    }
   ],
   "source": [
    "import matplotlib.pyplot as plt\n",
    "\n",
    "# Check the distribution of labels\n",
    "label_counts = df['score'].value_counts()\n",
    "print(label_counts)\n",
    "\n",
    "# Plot the distribution of labels\n",
    "label_counts.plot(kind='bar')\n",
    "plt.title('Distribution of Ratings')\n",
    "plt.xlabel('Ratings')\n",
    "plt.ylabel('Count')\n",
    "plt.show()"
   ]
  },
  {
   "cell_type": "markdown",
   "metadata": {},
   "source": [
    "Highlighting frequent words"
   ]
  },
  {
   "cell_type": "code",
   "execution_count": 126,
   "metadata": {},
   "outputs": [],
   "source": [
    "# Convert review_cleaned back to strings\n",
    "df['review_cleaned_joined'] = df['review_cleaned'].apply(lambda x: ' '.join(x))"
   ]
  },
  {
   "cell_type": "code",
   "execution_count": 127,
   "metadata": {},
   "outputs": [
    {
     "name": "stdout",
     "output_type": "stream",
     "text": [
      "Top 10 frequent words: [('insurance', 18096), ('service', 11717), ('price', 11391), ('year', 9509), ('contract', 8857), ('take', 6839), ('customer', 6509), ('satisfied', 6256), ('month', 6084), ('make', 5899)]\n"
     ]
    }
   ],
   "source": [
    "from sklearn.feature_extraction.text import CountVectorizer\n",
    "\n",
    "# Initialize CountVectorizer to count words\n",
    "vectorizer = CountVectorizer()\n",
    "\n",
    "# Fit and transform the text data into a word frequency matrix\n",
    "X = vectorizer.fit_transform(df['review_cleaned_joined'])\n",
    "\n",
    "# Get the frequency of each word\n",
    "word_freq = dict(zip(vectorizer.get_feature_names_out(), X.toarray().sum(axis=0)))\n",
    "\n",
    "# Sort by frequency\n",
    "sorted_word_freq = dict(sorted(word_freq.items(), key=lambda item: item[1], reverse=True))\n",
    "\n",
    "# Display top 10 frequent words\n",
    "print(\"Top 10 frequent words:\", list(sorted_word_freq.items())[:10])"
   ]
  },
  {
   "cell_type": "markdown",
   "metadata": {},
   "source": [
    "N-grams"
   ]
  },
  {
   "cell_type": "code",
   "execution_count": 128,
   "metadata": {},
   "outputs": [
    {
     "name": "stdout",
     "output_type": "stream",
     "text": [
      "Top 10 frequent bigrams: [(('customer', 'service'), 2422), (('satisfied', 'service'), 2323), (('direct', 'insurance'), 1824), (('take', 'care'), 1067), (('can', 'not'), 951), (('satisfied', 'price'), 881), (('take', 'account'), 813), (('service', 'price'), 774), (('2', 'month'), 733), (('insurance', 'company'), 714)]\n"
     ]
    }
   ],
   "source": [
    "from nltk.util import ngrams\n",
    "from collections import Counter\n",
    "import matplotlib.pyplot as plt\n",
    "\n",
    "# Function to extract n-grams from a list of words\n",
    "def get_ngrams(text, n=2):\n",
    "    words = text.split()\n",
    "    return list(ngrams(words, n))\n",
    "\n",
    "# Generate bigrams (2-word combinations)\n",
    "bigrams = []\n",
    "for review in df['review_cleaned_joined']:\n",
    "    bigrams.extend(get_ngrams(review, n=2))\n",
    "\n",
    "# Count bigram frequencies\n",
    "bigram_freq = Counter(bigrams)\n",
    "\n",
    "# Display top 10 frequent bigrams\n",
    "print(\"Top 10 frequent bigrams:\", bigram_freq.most_common(10))"
   ]
  },
  {
   "cell_type": "code",
   "execution_count": 129,
   "metadata": {},
   "outputs": [
    {
     "data": {
      "image/png": "[encoded data removed]",
      "text/plain": [
       "<Figure size 640x480 with 1 Axes>"
      ]
     },
     "metadata": {},
     "output_type": "display_data"
    },
    {
     "data": {
      "image/png": "[encoded data removed]",
      "text/plain": [
       "<Figure size 640x480 with 1 Axes>"
      ]
     },
     "metadata": {},
     "output_type": "display_data"
    }
   ],
   "source": [
    "# Plotting the top 10 frequent words\n",
    "top_words = list(sorted_word_freq.items())[:10]\n",
    "words, counts = zip(*top_words)\n",
    "\n",
    "plt.bar(words, counts)\n",
    "plt.xlabel('Words')\n",
    "plt.ylabel('Frequency')\n",
    "plt.title('Top 10 Frequent Words')\n",
    "plt.xticks(rotation=45)\n",
    "plt.show()\n",
    "\n",
    "# Plotting the top 10 frequent bigrams\n",
    "top_bigrams = bigram_freq.most_common(10)\n",
    "bigram_labels, bigram_counts = zip(*top_bigrams)\n",
    "\n",
    "# Convert bigrams tuple to string format for plotting\n",
    "bigram_labels = [' '.join(bigram) for bigram in bigram_labels]\n",
    "\n",
    "plt.bar(bigram_labels, bigram_counts)\n",
    "plt.xlabel('Bigrams')\n",
    "plt.ylabel('Frequency')\n",
    "plt.title('Top 10 Frequent Bigrams')\n",
    "plt.xticks(rotation=45)\n",
    "plt.show()"
   ]
  },
  {
   "cell_type": "markdown",
   "metadata": {},
   "source": [
    "# 2) Summary, Translation, and Generation"
   ]
  },
  {
   "cell_type": "code",
   "execution_count": 130,
   "metadata": {},
   "outputs": [],
   "source": [
    "# Save the results in a file\n",
    "df.to_csv('1_data_cleaned.csv', index=False)"
   ]
  },
  {
   "cell_type": "code",
   "execution_count": 131,
   "metadata": {},
   "outputs": [
    {
     "data": {
      "text/html": [
       "<div>\n",
       "<style scoped>\n",
       "    .dataframe tbody tr th:only-of-type {\n",
       "        vertical-align: middle;\n",
       "    }\n",
       "\n",
       "    .dataframe tbody tr th {\n",
       "        vertical-align: top;\n",
       "    }\n",
       "\n",
       "    .dataframe thead th {\n",
       "        text-align: right;\n",
       "    }\n",
       "</style>\n",
       "<table border=\"1\" class=\"dataframe\">\n",
       "  <thead>\n",
       "    <tr style=\"text-align: right;\">\n",
       "      <th></th>\n",
       "      <th>score</th>\n",
       "      <th>type</th>\n",
       "      <th>review_en</th>\n",
       "      <th>review_cleaned</th>\n",
       "      <th>review_cleaned_joined</th>\n",
       "    </tr>\n",
       "  </thead>\n",
       "  <tbody>\n",
       "    <tr>\n",
       "      <th>0</th>\n",
       "      <td>NaN</td>\n",
       "      <td>test</td>\n",
       "      <td>I left my former insurance contract at General...</td>\n",
       "      <td>[leave, former, insurance, contract, general, ...</td>\n",
       "      <td>leave former insurance contract general year j...</td>\n",
       "    </tr>\n",
       "    <tr>\n",
       "      <th>1</th>\n",
       "      <td>NaN</td>\n",
       "      <td>test</td>\n",
       "      <td>I subscribed to this mutual a year last year a...</td>\n",
       "      <td>[subscribe, mutual, year, last, year, stay, ye...</td>\n",
       "      <td>subscribe mutual year last year stay year find...</td>\n",
       "    </tr>\n",
       "    <tr>\n",
       "      <th>2</th>\n",
       "      <td>NaN</td>\n",
       "      <td>test</td>\n",
       "      <td>Impossible to have the right service, they han...</td>\n",
       "      <td>[impossible, right, service, hang, nose, know,...</td>\n",
       "      <td>impossible right service hang nose know answer...</td>\n",
       "    </tr>\n",
       "    <tr>\n",
       "      <th>3</th>\n",
       "      <td>NaN</td>\n",
       "      <td>test</td>\n",
       "      <td>Generation is a very expensive mutual for a re...</td>\n",
       "      <td>[generation, expensive, mutual, retiree, 150, ...</td>\n",
       "      <td>generation expensive mutual retiree 150 per mo...</td>\n",
       "    </tr>\n",
       "    <tr>\n",
       "      <th>4</th>\n",
       "      <td>NaN</td>\n",
       "      <td>test</td>\n",
       "      <td>I just learned that I am struck off ... I call...</td>\n",
       "      <td>[learn, strike, call, adviser, give, answer, s...</td>\n",
       "      <td>learn strike call adviser give answer sends nu...</td>\n",
       "    </tr>\n",
       "  </tbody>\n",
       "</table>\n",
       "</div>"
      ],
      "text/plain": [
       "   score  type                                          review_en  \\\n",
       "0    NaN  test  I left my former insurance contract at General...   \n",
       "1    NaN  test  I subscribed to this mutual a year last year a...   \n",
       "2    NaN  test  Impossible to have the right service, they han...   \n",
       "3    NaN  test  Generation is a very expensive mutual for a re...   \n",
       "4    NaN  test  I just learned that I am struck off ... I call...   \n",
       "\n",
       "                                      review_cleaned  \\\n",
       "0  [leave, former, insurance, contract, general, ...   \n",
       "1  [subscribe, mutual, year, last, year, stay, ye...   \n",
       "2  [impossible, right, service, hang, nose, know,...   \n",
       "3  [generation, expensive, mutual, retiree, 150, ...   \n",
       "4  [learn, strike, call, adviser, give, answer, s...   \n",
       "\n",
       "                               review_cleaned_joined  \n",
       "0  leave former insurance contract general year j...  \n",
       "1  subscribe mutual year last year stay year find...  \n",
       "2  impossible right service hang nose know answer...  \n",
       "3  generation expensive mutual retiree 150 per mo...  \n",
       "4  learn strike call adviser give answer sends nu...  "
      ]
     },
     "execution_count": 131,
     "metadata": {},
     "output_type": "execute_result"
    }
   ],
   "source": [
    "df.head()"
   ]
  },
  {
   "cell_type": "markdown",
   "metadata": {},
   "source": [
    "# 3) Topic modeling and Lists of Topics"
   ]
  },
  {
   "cell_type": "code",
   "execution_count": 132,
   "metadata": {},
   "outputs": [
    {
     "name": "stdout",
     "output_type": "stream",
     "text": [
      "Extracted Topics:\n",
      "Topic 1: insurance, year, vehicle, car, expert, accident, claim, pay, home, damage\n",
      "Topic 2: good, service, thank, satisfied, phone, advisor, telephone, recommend, listen, clear\n",
      "Topic 3: month, mutual, service, time, file, insurance, wait, email, customer, phone\n",
      "Topic 4: contract, insurance, year, pay, month, receive, make, send, increase, terminate\n",
      "Topic 5: price, insurance, service, satisfied, recommend, good, simple, offer, direct, customer\n"
     ]
    }
   ],
   "source": [
    "# Topic Modeling and Lists of Topics\n",
    "import pandas as pd\n",
    "from sklearn.feature_extraction.text import TfidfVectorizer, CountVectorizer\n",
    "from sklearn.decomposition import LatentDirichletAllocation\n",
    " \n",
    "# Ensure 'review_cleaned_joined' column is cleaned and ready\n",
    "df['review_cleaned_joined'] = df['review_cleaned_joined'].fillna(\"\").astype(str)\n",
    " \n",
    "# Use CountVectorizer for LDA\n",
    "vectorizer = CountVectorizer(max_features=5000, stop_words='english')\n",
    " \n",
    "doc_term_matrix = vectorizer.fit_transform(df['review_cleaned_joined'])\n",
    " \n",
    "# Define the number of topics\n",
    "n_topics = 5  # Change this value based on your preference\n",
    "lda_model = LatentDirichletAllocation(n_components=n_topics, random_state=42)\n",
    "lda_model.fit(doc_term_matrix)\n",
    " \n",
    "# Extract topics and top words\n",
    "def get_topics(model, feature_names, n_top_words):\n",
    "    topics = []\n",
    "    for topic_idx, topic in enumerate(model.components_):\n",
    "        top_words = [feature_names[i] for i in topic.argsort()[:-n_top_words - 1:-1]]\n",
    "        topics.append(f\"Topic {topic_idx + 1}: {', '.join(top_words)}\")\n",
    "    return topics\n",
    " \n",
    "n_top_words = 10  # Number of words per topic\n",
    "feature_names = vectorizer.get_feature_names_out()\n",
    "topics = get_topics(lda_model, feature_names, n_top_words)\n",
    " \n",
    "# Print or save the topics\n",
    "print(\"Extracted Topics:\")\n",
    "for topic in topics:\n",
    "    print(topic)"
   ]
  },
  {
   "cell_type": "markdown",
   "metadata": {},
   "source": [
    "# 4) Embedding to Identify Similar Words"
   ]
  },
  {
   "cell_type": "markdown",
   "metadata": {},
   "source": [
    "Word2Vec Training"
   ]
  },
  {
   "cell_type": "code",
   "execution_count": 133,
   "metadata": {},
   "outputs": [],
   "source": [
    "# pip install pandas gensim matplotlib scikit-learn"
   ]
  },
  {
   "cell_type": "code",
   "execution_count": 135,
   "metadata": {},
   "outputs": [
    {
     "name": "stderr",
     "output_type": "stream",
     "text": [
      "[nltk_data] Downloading package punkt to /Users/Alberto/nltk_data...\n",
      "[nltk_data]   Package punkt is already up-to-date!\n"
     ]
    }
   ],
   "source": [
    "from gensim.models import Word2Vec\n",
    "from nltk.tokenize import word_tokenize\n",
    "import nltk\n",
    "nltk.download('punkt')\n",
    "\n",
    "# Train a Word2Vec model\n",
    "model = Word2Vec(sentences=df[\"review_cleaned\"], vector_size=50, window=5, min_count=1, workers=1, sg=1)\n",
    "\n",
    "# Save the trained model for future use\n",
    "model.save(\"word2vec.model\")\n"
   ]
  },
  {
   "cell_type": "markdown",
   "metadata": {},
   "source": [
    "Visualization of embeddings with Matplotlib and Tensorboard"
   ]
  },
  {
   "cell_type": "code",
   "execution_count": 136,
   "metadata": {},
   "outputs": [
    {
     "name": "stderr",
     "output_type": "stream",
     "text": [
      "Plotting words: 100%|██████████| 20/20 [00:00<00:00, 796.87it/s]\n"
     ]
    },
    {
     "data": {
      "image/png": "[encoded data removed]",
      "text/plain": [
       "<Figure size 800x600 with 1 Axes>"
      ]
     },
     "metadata": {},
     "output_type": "display_data"
    }
   ],
   "source": [
    "from sklearn.decomposition import PCA\n",
    "import matplotlib.pyplot as plt\n",
    "from tqdm import tqdm\n",
    "import random\n",
    "\n",
    "# Get word vectors\n",
    "words = list(model.wv.index_to_key)\n",
    "word_vectors = [model.wv[word] for word in words]\n",
    "\n",
    "# Reduce dimensions to 2D\n",
    "pca = PCA(n_components=2)\n",
    "word_vectors_2d = pca.fit_transform(word_vectors)\n",
    "\n",
    "# Select some random words and their corresponding vectors\n",
    "random_indices = random.sample(range(len(words)), 20)\n",
    "random_words = [words[i] for i in random_indices]\n",
    "random_word_vectors_2d = word_vectors_2d[random_indices]\n",
    "\n",
    "# Plot only random word embeddings with tqdm progress bar\n",
    "plt.figure(figsize=(8, 6))\n",
    "for i, word in tqdm(enumerate(random_words), total=len(random_words), desc=\"Plotting words\"):\n",
    "    plt.scatter(random_word_vectors_2d[i, 0], random_word_vectors_2d[i, 1])\n",
    "    plt.annotate(word, (random_word_vectors_2d[i, 0], random_word_vectors_2d[i, 1]))\n",
    "\n",
    "plt.title(\"Random Word Embeddings Visualized\")\n",
    "plt.show()"
   ]
  },
  {
   "cell_type": "markdown",
   "metadata": {},
   "source": [
    "Implementation of Euclidean or cosine distance"
   ]
  },
  {
   "cell_type": "code",
   "execution_count": null,
   "metadata": {},
   "outputs": [
    {
     "name": "stdout",
     "output_type": "stream",
     "text": [
      "Words similar to 'gas': [('tricolor', 0.975225567817688), ('perception', 0.9741259217262268), ('ibsi', 0.9741145372390747)]\n"
     ]
    }
   ],
   "source": [
    "from scipy.spatial.distance import cosine\n",
    "\n",
    "# Find similar words\n",
    "def find_similar_words(word, top_n=3):\n",
    "    similar_words = model.wv.most_similar(word, topn=top_n)\n",
    "    return similar_words\n",
    "\n",
    "# Example: Find similar words to \"gas\"\n",
    "similar = find_similar_words(\"gas\")\n",
    "print(\"Words similar to 'gas':\", similar)\n"
   ]
  },
  {
   "cell_type": "markdown",
   "metadata": {},
   "source": [
    "Semantic search"
   ]
  },
  {
   "cell_type": "code",
   "execution_count": 138,
   "metadata": {},
   "outputs": [
    {
     "name": "stderr",
     "output_type": "stream",
     "text": [
      "/opt/anaconda3/lib/python3.11/site-packages/scipy/spatial/distance.py:647: RuntimeWarning: invalid value encountered in scalar divide\n",
      "  dist = 1.0 - uv / math.sqrt(uu * vv)\n"
     ]
    },
    {
     "name": "stdout",
     "output_type": "stream",
     "text": [
      "Query: Very satisfied with my mutual insurance\n",
      "Most similar sentences:\n",
      "                                   review_cleaned_joined  similarity\n",
      "5542   good insurance part happy mutual néoliane reas...    0.978881\n",
      "2085                                    satisfied mutual    0.974397\n",
      "30894  quick reimbursement advantageous price really ...    0.973999\n"
     ]
    }
   ],
   "source": [
    "import numpy as np\n",
    "\n",
    "# Get sentence embeddings by averaging word embeddings\n",
    "def get_sentence_embedding(sentence):\n",
    "    words = word_tokenize(sentence)\n",
    "    word_embeddings = [model.wv[word] for word in words if word in model.wv]\n",
    "    if word_embeddings:\n",
    "        return np.mean(word_embeddings, axis=0)\n",
    "    else:\n",
    "        return np.zeros(model.vector_size)\n",
    "\n",
    "# Search for the most similar sentences\n",
    "def semantic_search(query, df, top_n=3):\n",
    "    query_embedding = get_sentence_embedding(query)\n",
    "    df[\"similarity\"] = df[\"review_cleaned_joined\"].apply(\n",
    "        lambda x: 1 - cosine(query_embedding, get_sentence_embedding(x))\n",
    "    )\n",
    "    return df.sort_values(by=\"similarity\", ascending=False).head(top_n)\n",
    "\n",
    "# Example: Search similar sentences to \"Very satisfied with my mutual insurance\"\n",
    "query = \"Very satisfied with my mutual insurance\"\n",
    "results = semantic_search(query, df)\n",
    "print(\"Query:\", query)\n",
    "print(\"Most similar sentences:\")\n",
    "print(results[[\"review_cleaned_joined\", \"similarity\"]])\n"
   ]
  },
  {
   "cell_type": "code",
   "execution_count": 145,
   "metadata": {},
   "outputs": [],
   "source": [
    "df.drop(columns=['similarity'], inplace=True)"
   ]
  },
  {
   "cell_type": "markdown",
   "metadata": {},
   "source": [
    "# 5.1) Rating Prediction application\n",
    "\n",
    "    Model that, given a review, predicts number of stars"
   ]
  },
  {
   "cell_type": "markdown",
   "metadata": {},
   "source": [
    "Purpose of TF-IDF: counting occurrencies of the words (word frequency)\n",
    "Purpose of word embeddings: encode the semantic meaning of words\n",
    "\n",
    "Example: “good” and “great” are unrelated in TF-IDF, but very close in word embeddings\n",
    "\n",
    "We use word embeddings for deep learning models, and we use TF-IDF for simple classical ML models.\n",
    "So now we don't use word embeddings"
   ]
  },
  {
   "cell_type": "code",
   "execution_count": 158,
   "metadata": {},
   "outputs": [],
   "source": [
    "df.dropna(subset=['review_cleaned_joined'], inplace=True)"
   ]
  },
  {
   "cell_type": "markdown",
   "metadata": {},
   "source": [
    "Pre-trained text classification model for labeling the dataset"
   ]
  },
  {
   "cell_type": "code",
   "execution_count": 162,
   "metadata": {},
   "outputs": [
    {
     "name": "stderr",
     "output_type": "stream",
     "text": [
      "/opt/anaconda3/lib/python3.11/site-packages/transformers/tokenization_utils_base.py:1601: FutureWarning: `clean_up_tokenization_spaces` was not set. It will be set to `True` by default. This behavior will be depracted in transformers v4.45, and will be then set to `False` by default. For more details check this issue: https://github.com/huggingface/transformers/issues/31884\n",
      "  warnings.warn(\n",
      "Processing Reviews: 100%|██████████| 10327/10327 [02:44<00:00, 62.84it/s]\n"
     ]
    },
    {
     "name": "stdout",
     "output_type": "stream",
     "text": [
      "Updated dataset saved to data_cleaned_updated.csv.\n"
     ]
    }
   ],
   "source": [
    "from tqdm import tqdm\n",
    "import pandas as pd\n",
    "from transformers import pipeline\n",
    "\n",
    "# Load the dataset\n",
    "file_path = '1_data_cleaned.csv'\n",
    "df = pd.read_csv(file_path)\n",
    "\n",
    "# Load a Hugging Face pre-trained sentiment analysis model\n",
    "classifier = pipeline(\"text-classification\", model=\"distilbert-base-uncased-finetuned-sst-2-english\", device=0)\n",
    "\n",
    "# Filter the test data (where 'type' == 'test')\n",
    "test_df = df[df['type'] == 'test']\n",
    "\n",
    "# Clean the test reviews by dropping NaN values and converting to strings\n",
    "test_reviews = test_df['review_cleaned_joined'].dropna().astype(str).tolist()\n",
    "\n",
    "# Ensure all inputs are valid strings\n",
    "test_reviews = [review for review in test_reviews if isinstance(review, str) and len(review.strip()) > 0]\n",
    "\n",
    "# Truncate long reviews to fit within the model's 512 token limit\n",
    "MAX_TOKENS = 512\n",
    "\n",
    "def truncate_review(review, max_tokens=MAX_TOKENS):\n",
    "    return review[:max_tokens]\n",
    "\n",
    "# Apply truncation\n",
    "test_reviews_truncated = [truncate_review(review) for review in test_reviews]\n",
    "\n",
    "# Predict scores using the Hugging Face model with a progress bar\n",
    "predictions = []\n",
    "for review in tqdm(test_reviews_truncated, desc=\"Processing Reviews\"):\n",
    "    predictions.append(classifier(review)[0])  # Get the first prediction for each review\n",
    "\n",
    "# Map predictions to scores (e.g., \"LABEL_1\" -> 5, \"LABEL_0\" -> 1 for sentiment analysis)\n",
    "def map_prediction_to_score(pred):\n",
    "    if pred['label'] == \"LABEL_1\":  # Positive sentiment\n",
    "        return 5\n",
    "    else:  # Negative sentiment\n",
    "        return 1\n",
    "\n",
    "# Convert predictions to scores\n",
    "test_scores = [map_prediction_to_score(pred) for pred in predictions]\n",
    "\n",
    "# Assign the predicted scores to the test data\n",
    "test_df_cleaned = test_df.dropna(subset=['review_cleaned_joined']).copy()\n",
    "test_df_cleaned['score'] = test_scores\n",
    "\n",
    "# Update the original DataFrame\n",
    "df.update(test_df_cleaned)\n",
    "\n",
    "# Save the updated dataset\n",
    "updated_file_path = 'data_cleaned_updated.csv'\n",
    "df.to_csv(updated_file_path, index=False)\n",
    "\n",
    "print(f\"Updated dataset saved to {updated_file_path}.\")"
   ]
  },
  {
   "cell_type": "code",
   "execution_count": null,
   "metadata": {},
   "outputs": [
    {
     "name": "stdout",
     "output_type": "stream",
     "text": [
      "Query: I like Python programming\n",
      "Most similar sentences:\n",
      "                                           sentences  similarity\n",
      "0                       I love programming in Python    0.833295\n",
      "5                            Coding in Python is fun    0.444840\n",
      "1  Python and Java are popular programming languages    0.401361\n"
     ]
    }
   ],
   "source": []
  },
  {
   "cell_type": "markdown",
   "metadata": {},
   "source": [
    "> TF-IDF"
   ]
  },
  {
   "cell_type": "code",
   "execution_count": 146,
   "metadata": {},
   "outputs": [],
   "source": [
    "from sklearn.feature_extraction.text import TfidfVectorizer\n",
    "\n",
    "# Initialize and fit TF-IDF vectorizer\n",
    "tfidf = TfidfVectorizer()  # Limit features to improve efficiency max_features=5000\n",
    "tfidf_matrix = tfidf.fit_transform(df['review_cleaned_joined'])"
   ]
  },
  {
   "cell_type": "code",
   "execution_count": 147,
   "metadata": {},
   "outputs": [
    {
     "data": {
      "text/html": [
       "<div>\n",
       "<style scoped>\n",
       "    .dataframe tbody tr th:only-of-type {\n",
       "        vertical-align: middle;\n",
       "    }\n",
       "\n",
       "    .dataframe tbody tr th {\n",
       "        vertical-align: top;\n",
       "    }\n",
       "\n",
       "    .dataframe thead th {\n",
       "        text-align: right;\n",
       "    }\n",
       "</style>\n",
       "<table border=\"1\" class=\"dataframe\">\n",
       "  <thead>\n",
       "    <tr style=\"text-align: right;\">\n",
       "      <th></th>\n",
       "      <th>score</th>\n",
       "      <th>type</th>\n",
       "      <th>review_en</th>\n",
       "      <th>review_cleaned</th>\n",
       "      <th>review_cleaned_joined</th>\n",
       "    </tr>\n",
       "  </thead>\n",
       "  <tbody>\n",
       "    <tr>\n",
       "      <th>0</th>\n",
       "      <td>NaN</td>\n",
       "      <td>test</td>\n",
       "      <td>I left my former insurance contract at General...</td>\n",
       "      <td>[leave, former, insurance, contract, general, ...</td>\n",
       "      <td>leave former insurance contract general year j...</td>\n",
       "    </tr>\n",
       "    <tr>\n",
       "      <th>1</th>\n",
       "      <td>NaN</td>\n",
       "      <td>test</td>\n",
       "      <td>I subscribed to this mutual a year last year a...</td>\n",
       "      <td>[subscribe, mutual, year, last, year, stay, ye...</td>\n",
       "      <td>subscribe mutual year last year stay year find...</td>\n",
       "    </tr>\n",
       "    <tr>\n",
       "      <th>2</th>\n",
       "      <td>NaN</td>\n",
       "      <td>test</td>\n",
       "      <td>Impossible to have the right service, they han...</td>\n",
       "      <td>[impossible, right, service, hang, nose, know,...</td>\n",
       "      <td>impossible right service hang nose know answer...</td>\n",
       "    </tr>\n",
       "    <tr>\n",
       "      <th>3</th>\n",
       "      <td>NaN</td>\n",
       "      <td>test</td>\n",
       "      <td>Generation is a very expensive mutual for a re...</td>\n",
       "      <td>[generation, expensive, mutual, retiree, 150, ...</td>\n",
       "      <td>generation expensive mutual retiree 150 per mo...</td>\n",
       "    </tr>\n",
       "    <tr>\n",
       "      <th>4</th>\n",
       "      <td>NaN</td>\n",
       "      <td>test</td>\n",
       "      <td>I just learned that I am struck off ... I call...</td>\n",
       "      <td>[learn, strike, call, adviser, give, answer, s...</td>\n",
       "      <td>learn strike call adviser give answer sends nu...</td>\n",
       "    </tr>\n",
       "  </tbody>\n",
       "</table>\n",
       "</div>"
      ],
      "text/plain": [
       "   score  type                                          review_en  \\\n",
       "0    NaN  test  I left my former insurance contract at General...   \n",
       "1    NaN  test  I subscribed to this mutual a year last year a...   \n",
       "2    NaN  test  Impossible to have the right service, they han...   \n",
       "3    NaN  test  Generation is a very expensive mutual for a re...   \n",
       "4    NaN  test  I just learned that I am struck off ... I call...   \n",
       "\n",
       "                                      review_cleaned  \\\n",
       "0  [leave, former, insurance, contract, general, ...   \n",
       "1  [subscribe, mutual, year, last, year, stay, ye...   \n",
       "2  [impossible, right, service, hang, nose, know,...   \n",
       "3  [generation, expensive, mutual, retiree, 150, ...   \n",
       "4  [learn, strike, call, adviser, give, answer, s...   \n",
       "\n",
       "                               review_cleaned_joined  \n",
       "0  leave former insurance contract general year j...  \n",
       "1  subscribe mutual year last year stay year find...  \n",
       "2  impossible right service hang nose know answer...  \n",
       "3  generation expensive mutual retiree 150 per mo...  \n",
       "4  learn strike call adviser give answer sends nu...  "
      ]
     },
     "execution_count": 147,
     "metadata": {},
     "output_type": "execute_result"
    }
   ],
   "source": [
    "df.head()"
   ]
  },
  {
   "cell_type": "code",
   "execution_count": 140,
   "metadata": {},
   "outputs": [
    {
     "data": {
      "text/plain": [
       "['./logistic_regression_model.pkl']"
      ]
     },
     "execution_count": 140,
     "metadata": {},
     "output_type": "execute_result"
    }
   ],
   "source": [
    "from sklearn.linear_model import LogisticRegression\n",
    "import joblib\n",
    "\n",
    "\n",
    "# Filter the training data (where 'type' == 'train')\n",
    "train_df = df[df['type'] == 'train']\n",
    "\n",
    "# Filter the test data (where 'type' == 'test')\n",
    "test_df = df[df['type'] == 'test']\n",
    "\n",
    "# Apply TF-IDF transformation to the 'review_cleaned' column for training data\n",
    "X_train = tfidf.transform(train_df['review_cleaned_joined'])\n",
    "y_train = train_df['score']\n",
    "\n",
    "# Apply TF-IDF transformation to the 'review_cleaned' column for test data\n",
    "X_test = tfidf.transform(test_df['review_cleaned_joined'])\n",
    "y_test = test_df['score']\n",
    "\n",
    "# Initialize and train the Logistic Regression model\n",
    "log_reg = LogisticRegression(max_iter=1000)\n",
    "log_reg.fit(X_train, y_train)\n",
    "\n",
    "# Make predictions on the test data\n",
    "y_pred = log_reg.predict(X_test)\n",
    "\n",
    "# Save the trained Logistic Regression model\n",
    "joblib.dump(log_reg, './logistic_regression_model.pkl')\n",
    "\n"
   ]
  },
  {
   "cell_type": "code",
   "execution_count": 153,
   "metadata": {},
   "outputs": [
    {
     "name": "stdout",
     "output_type": "stream",
     "text": [
      "[1 3 1 ... 1 1 1]\n",
      "Number of null values in y_pred: 0\n"
     ]
    }
   ],
   "source": [
    "print(y_pred)\n",
    "print(f\"Number of null values in y_pred: {np.isnan(y_pred).sum()}\")\n",
    "# y_pred = y_pred.astype(int)\n",
    "# print(y_pred)"
   ]
  },
  {
   "cell_type": "code",
   "execution_count": 155,
   "metadata": {},
   "outputs": [
    {
     "ename": "ValueError",
     "evalue": "Found input variables with inconsistent numbers of samples: [6886, 10330]",
     "output_type": "error",
     "traceback": [
      "\u001b[0;31m---------------------------------------------------------------------------\u001b[0m",
      "\u001b[0;31mValueError\u001b[0m                                Traceback (most recent call last)",
      "Cell \u001b[0;32mIn[155], line 7\u001b[0m\n\u001b[1;32m      4\u001b[0m \u001b[38;5;28;01mimport\u001b[39;00m \u001b[38;5;21;01mmatplotlib\u001b[39;00m\u001b[38;5;21;01m.\u001b[39;00m\u001b[38;5;21;01mpyplot\u001b[39;00m \u001b[38;5;28;01mas\u001b[39;00m \u001b[38;5;21;01mplt\u001b[39;00m\n\u001b[1;32m      6\u001b[0m \u001b[38;5;66;03m# Generate the confusion matrix\u001b[39;00m\n\u001b[0;32m----> 7\u001b[0m conf_matrix \u001b[38;5;241m=\u001b[39m confusion_matrix(y_val, y_pred)\n\u001b[1;32m      9\u001b[0m \u001b[38;5;66;03m# Plot the heatmap\u001b[39;00m\n\u001b[1;32m     10\u001b[0m plt\u001b[38;5;241m.\u001b[39mfigure(figsize\u001b[38;5;241m=\u001b[39m(\u001b[38;5;241m8\u001b[39m, \u001b[38;5;241m6\u001b[39m))\n",
      "File \u001b[0;32m/opt/anaconda3/lib/python3.11/site-packages/sklearn/utils/_param_validation.py:213\u001b[0m, in \u001b[0;36mvalidate_params.<locals>.decorator.<locals>.wrapper\u001b[0;34m(*args, **kwargs)\u001b[0m\n\u001b[1;32m    207\u001b[0m \u001b[38;5;28;01mtry\u001b[39;00m:\n\u001b[1;32m    208\u001b[0m     \u001b[38;5;28;01mwith\u001b[39;00m config_context(\n\u001b[1;32m    209\u001b[0m         skip_parameter_validation\u001b[38;5;241m=\u001b[39m(\n\u001b[1;32m    210\u001b[0m             prefer_skip_nested_validation \u001b[38;5;129;01mor\u001b[39;00m global_skip_validation\n\u001b[1;32m    211\u001b[0m         )\n\u001b[1;32m    212\u001b[0m     ):\n\u001b[0;32m--> 213\u001b[0m         \u001b[38;5;28;01mreturn\u001b[39;00m func(\u001b[38;5;241m*\u001b[39margs, \u001b[38;5;241m*\u001b[39m\u001b[38;5;241m*\u001b[39mkwargs)\n\u001b[1;32m    214\u001b[0m \u001b[38;5;28;01mexcept\u001b[39;00m InvalidParameterError \u001b[38;5;28;01mas\u001b[39;00m e:\n\u001b[1;32m    215\u001b[0m     \u001b[38;5;66;03m# When the function is just a wrapper around an estimator, we allow\u001b[39;00m\n\u001b[1;32m    216\u001b[0m     \u001b[38;5;66;03m# the function to delegate validation to the estimator, but we replace\u001b[39;00m\n\u001b[1;32m    217\u001b[0m     \u001b[38;5;66;03m# the name of the estimator by the name of the function in the error\u001b[39;00m\n\u001b[1;32m    218\u001b[0m     \u001b[38;5;66;03m# message to avoid confusion.\u001b[39;00m\n\u001b[1;32m    219\u001b[0m     msg \u001b[38;5;241m=\u001b[39m re\u001b[38;5;241m.\u001b[39msub(\n\u001b[1;32m    220\u001b[0m         \u001b[38;5;124mr\u001b[39m\u001b[38;5;124m\"\u001b[39m\u001b[38;5;124mparameter of \u001b[39m\u001b[38;5;124m\\\u001b[39m\u001b[38;5;124mw+ must be\u001b[39m\u001b[38;5;124m\"\u001b[39m,\n\u001b[1;32m    221\u001b[0m         \u001b[38;5;124mf\u001b[39m\u001b[38;5;124m\"\u001b[39m\u001b[38;5;124mparameter of \u001b[39m\u001b[38;5;132;01m{\u001b[39;00mfunc\u001b[38;5;241m.\u001b[39m\u001b[38;5;18m__qualname__\u001b[39m\u001b[38;5;132;01m}\u001b[39;00m\u001b[38;5;124m must be\u001b[39m\u001b[38;5;124m\"\u001b[39m,\n\u001b[1;32m    222\u001b[0m         \u001b[38;5;28mstr\u001b[39m(e),\n\u001b[1;32m    223\u001b[0m     )\n",
      "File \u001b[0;32m/opt/anaconda3/lib/python3.11/site-packages/sklearn/metrics/_classification.py:342\u001b[0m, in \u001b[0;36mconfusion_matrix\u001b[0;34m(y_true, y_pred, labels, sample_weight, normalize)\u001b[0m\n\u001b[1;32m    247\u001b[0m \u001b[38;5;129m@validate_params\u001b[39m(\n\u001b[1;32m    248\u001b[0m     {\n\u001b[1;32m    249\u001b[0m         \u001b[38;5;124m\"\u001b[39m\u001b[38;5;124my_true\u001b[39m\u001b[38;5;124m\"\u001b[39m: [\u001b[38;5;124m\"\u001b[39m\u001b[38;5;124marray-like\u001b[39m\u001b[38;5;124m\"\u001b[39m],\n\u001b[0;32m   (...)\u001b[0m\n\u001b[1;32m    258\u001b[0m     y_true, y_pred, \u001b[38;5;241m*\u001b[39m, labels\u001b[38;5;241m=\u001b[39m\u001b[38;5;28;01mNone\u001b[39;00m, sample_weight\u001b[38;5;241m=\u001b[39m\u001b[38;5;28;01mNone\u001b[39;00m, normalize\u001b[38;5;241m=\u001b[39m\u001b[38;5;28;01mNone\u001b[39;00m\n\u001b[1;32m    259\u001b[0m ):\n\u001b[1;32m    260\u001b[0m \u001b[38;5;250m    \u001b[39m\u001b[38;5;124;03m\"\"\"Compute confusion matrix to evaluate the accuracy of a classification.\u001b[39;00m\n\u001b[1;32m    261\u001b[0m \n\u001b[1;32m    262\u001b[0m \u001b[38;5;124;03m    By definition a confusion matrix :math:`C` is such that :math:`C_{i, j}`\u001b[39;00m\n\u001b[0;32m   (...)\u001b[0m\n\u001b[1;32m    340\u001b[0m \u001b[38;5;124;03m    (0, 2, 1, 1)\u001b[39;00m\n\u001b[1;32m    341\u001b[0m \u001b[38;5;124;03m    \"\"\"\u001b[39;00m\n\u001b[0;32m--> 342\u001b[0m     y_type, y_true, y_pred \u001b[38;5;241m=\u001b[39m _check_targets(y_true, y_pred)\n\u001b[1;32m    343\u001b[0m     \u001b[38;5;28;01mif\u001b[39;00m y_type \u001b[38;5;129;01mnot\u001b[39;00m \u001b[38;5;129;01min\u001b[39;00m (\u001b[38;5;124m\"\u001b[39m\u001b[38;5;124mbinary\u001b[39m\u001b[38;5;124m\"\u001b[39m, \u001b[38;5;124m\"\u001b[39m\u001b[38;5;124mmulticlass\u001b[39m\u001b[38;5;124m\"\u001b[39m):\n\u001b[1;32m    344\u001b[0m         \u001b[38;5;28;01mraise\u001b[39;00m \u001b[38;5;167;01mValueError\u001b[39;00m(\u001b[38;5;124m\"\u001b[39m\u001b[38;5;132;01m%s\u001b[39;00m\u001b[38;5;124m is not supported\u001b[39m\u001b[38;5;124m\"\u001b[39m \u001b[38;5;241m%\u001b[39m y_type)\n",
      "File \u001b[0;32m/opt/anaconda3/lib/python3.11/site-packages/sklearn/metrics/_classification.py:103\u001b[0m, in \u001b[0;36m_check_targets\u001b[0;34m(y_true, y_pred)\u001b[0m\n\u001b[1;32m     76\u001b[0m \u001b[38;5;250m\u001b[39m\u001b[38;5;124;03m\"\"\"Check that y_true and y_pred belong to the same classification task.\u001b[39;00m\n\u001b[1;32m     77\u001b[0m \n\u001b[1;32m     78\u001b[0m \u001b[38;5;124;03mThis converts multiclass or binary types to a common shape, and raises a\u001b[39;00m\n\u001b[0;32m   (...)\u001b[0m\n\u001b[1;32m    100\u001b[0m \u001b[38;5;124;03my_pred : array or indicator matrix\u001b[39;00m\n\u001b[1;32m    101\u001b[0m \u001b[38;5;124;03m\"\"\"\u001b[39;00m\n\u001b[1;32m    102\u001b[0m xp, _ \u001b[38;5;241m=\u001b[39m get_namespace(y_true, y_pred)\n\u001b[0;32m--> 103\u001b[0m check_consistent_length(y_true, y_pred)\n\u001b[1;32m    104\u001b[0m type_true \u001b[38;5;241m=\u001b[39m type_of_target(y_true, input_name\u001b[38;5;241m=\u001b[39m\u001b[38;5;124m\"\u001b[39m\u001b[38;5;124my_true\u001b[39m\u001b[38;5;124m\"\u001b[39m)\n\u001b[1;32m    105\u001b[0m type_pred \u001b[38;5;241m=\u001b[39m type_of_target(y_pred, input_name\u001b[38;5;241m=\u001b[39m\u001b[38;5;124m\"\u001b[39m\u001b[38;5;124my_pred\u001b[39m\u001b[38;5;124m\"\u001b[39m)\n",
      "File \u001b[0;32m/opt/anaconda3/lib/python3.11/site-packages/sklearn/utils/validation.py:457\u001b[0m, in \u001b[0;36mcheck_consistent_length\u001b[0;34m(*arrays)\u001b[0m\n\u001b[1;32m    455\u001b[0m uniques \u001b[38;5;241m=\u001b[39m np\u001b[38;5;241m.\u001b[39munique(lengths)\n\u001b[1;32m    456\u001b[0m \u001b[38;5;28;01mif\u001b[39;00m \u001b[38;5;28mlen\u001b[39m(uniques) \u001b[38;5;241m>\u001b[39m \u001b[38;5;241m1\u001b[39m:\n\u001b[0;32m--> 457\u001b[0m     \u001b[38;5;28;01mraise\u001b[39;00m \u001b[38;5;167;01mValueError\u001b[39;00m(\n\u001b[1;32m    458\u001b[0m         \u001b[38;5;124m\"\u001b[39m\u001b[38;5;124mFound input variables with inconsistent numbers of samples: \u001b[39m\u001b[38;5;132;01m%r\u001b[39;00m\u001b[38;5;124m\"\u001b[39m\n\u001b[1;32m    459\u001b[0m         \u001b[38;5;241m%\u001b[39m [\u001b[38;5;28mint\u001b[39m(l) \u001b[38;5;28;01mfor\u001b[39;00m l \u001b[38;5;129;01min\u001b[39;00m lengths]\n\u001b[1;32m    460\u001b[0m     )\n",
      "\u001b[0;31mValueError\u001b[0m: Found input variables with inconsistent numbers of samples: [6886, 10330]"
     ]
    }
   ],
   "source": [
    "from sklearn.metrics import confusion_matrix\n",
    "import seaborn as sns\n",
    "\n",
    "import matplotlib.pyplot as plt\n",
    "\n",
    "# Generate the confusion matrix\n",
    "conf_matrix = confusion_matrix(y_val, y_val_pred)\n",
    "\n",
    "# Plot the heatmap\n",
    "plt.figure(figsize=(8, 6))\n",
    "sns.heatmap(conf_matrix, annot=True, fmt='d', cmap='Blues', xticklabels=['Negative', 'Positive'], yticklabels=['Negative', 'Positive'])\n",
    "plt.xlabel('Predicted')\n",
    "plt.ylabel('Actual')\n",
    "plt.title('Confusion Matrix Heatmap')\n",
    "plt.show()"
   ]
  },
  {
   "cell_type": "code",
   "execution_count": 82,
   "metadata": {},
   "outputs": [
    {
     "name": "stdout",
     "output_type": "stream",
     "text": [
      "Predicted Rating: 1.0\n"
     ]
    }
   ],
   "source": [
    "# EXAMPLE\n",
    "# Sample review for prediction\n",
    "sample_review = [\"It sucked\"]\n",
    "\n",
    "# Transform the sample review using the TF-IDF vectorizer\n",
    "sample_review_tfidf = tfidf.transform(sample_review)\n",
    "\n",
    "# Predict the rating using the trained logistic regression model\n",
    "predicted_rating = log_reg.predict(sample_review_tfidf)\n",
    "\n",
    "print(f\"Predicted Rating: {predicted_rating[0]}\")"
   ]
  },
  {
   "cell_type": "markdown",
   "metadata": {},
   "source": [
    "# 5.2) Sentiment analysis"
   ]
  },
  {
   "cell_type": "code",
   "execution_count": 156,
   "metadata": {},
   "outputs": [
    {
     "data": {
      "text/html": [
       "<div>\n",
       "<style scoped>\n",
       "    .dataframe tbody tr th:only-of-type {\n",
       "        vertical-align: middle;\n",
       "    }\n",
       "\n",
       "    .dataframe tbody tr th {\n",
       "        vertical-align: top;\n",
       "    }\n",
       "\n",
       "    .dataframe thead th {\n",
       "        text-align: right;\n",
       "    }\n",
       "</style>\n",
       "<table border=\"1\" class=\"dataframe\">\n",
       "  <thead>\n",
       "    <tr style=\"text-align: right;\">\n",
       "      <th></th>\n",
       "      <th>score</th>\n",
       "      <th>type</th>\n",
       "      <th>review_en</th>\n",
       "      <th>review_cleaned</th>\n",
       "      <th>review_cleaned_joined</th>\n",
       "    </tr>\n",
       "  </thead>\n",
       "  <tbody>\n",
       "    <tr>\n",
       "      <th>0</th>\n",
       "      <td>NaN</td>\n",
       "      <td>test</td>\n",
       "      <td>I left my former insurance contract at General...</td>\n",
       "      <td>[leave, former, insurance, contract, general, ...</td>\n",
       "      <td>leave former insurance contract general year j...</td>\n",
       "    </tr>\n",
       "    <tr>\n",
       "      <th>1</th>\n",
       "      <td>NaN</td>\n",
       "      <td>test</td>\n",
       "      <td>I subscribed to this mutual a year last year a...</td>\n",
       "      <td>[subscribe, mutual, year, last, year, stay, ye...</td>\n",
       "      <td>subscribe mutual year last year stay year find...</td>\n",
       "    </tr>\n",
       "    <tr>\n",
       "      <th>2</th>\n",
       "      <td>NaN</td>\n",
       "      <td>test</td>\n",
       "      <td>Impossible to have the right service, they han...</td>\n",
       "      <td>[impossible, right, service, hang, nose, know,...</td>\n",
       "      <td>impossible right service hang nose know answer...</td>\n",
       "    </tr>\n",
       "    <tr>\n",
       "      <th>3</th>\n",
       "      <td>NaN</td>\n",
       "      <td>test</td>\n",
       "      <td>Generation is a very expensive mutual for a re...</td>\n",
       "      <td>[generation, expensive, mutual, retiree, 150, ...</td>\n",
       "      <td>generation expensive mutual retiree 150 per mo...</td>\n",
       "    </tr>\n",
       "    <tr>\n",
       "      <th>4</th>\n",
       "      <td>NaN</td>\n",
       "      <td>test</td>\n",
       "      <td>I just learned that I am struck off ... I call...</td>\n",
       "      <td>[learn, strike, call, adviser, give, answer, s...</td>\n",
       "      <td>learn strike call adviser give answer sends nu...</td>\n",
       "    </tr>\n",
       "  </tbody>\n",
       "</table>\n",
       "</div>"
      ],
      "text/plain": [
       "   score  type                                          review_en  \\\n",
       "0    NaN  test  I left my former insurance contract at General...   \n",
       "1    NaN  test  I subscribed to this mutual a year last year a...   \n",
       "2    NaN  test  Impossible to have the right service, they han...   \n",
       "3    NaN  test  Generation is a very expensive mutual for a re...   \n",
       "4    NaN  test  I just learned that I am struck off ... I call...   \n",
       "\n",
       "                                      review_cleaned  \\\n",
       "0  [leave, former, insurance, contract, general, ...   \n",
       "1  [subscribe, mutual, year, last, year, stay, ye...   \n",
       "2  [impossible, right, service, hang, nose, know,...   \n",
       "3  [generation, expensive, mutual, retiree, 150, ...   \n",
       "4  [learn, strike, call, adviser, give, answer, s...   \n",
       "\n",
       "                               review_cleaned_joined  \n",
       "0  leave former insurance contract general year j...  \n",
       "1  subscribe mutual year last year stay year find...  \n",
       "2  impossible right service hang nose know answer...  \n",
       "3  generation expensive mutual retiree 150 per mo...  \n",
       "4  learn strike call adviser give answer sends nu...  "
      ]
     },
     "execution_count": 156,
     "metadata": {},
     "output_type": "execute_result"
    }
   ],
   "source": [
    "df.head()"
   ]
  },
  {
   "cell_type": "markdown",
   "metadata": {},
   "source": [
    "Zero-shot classification to label dataset"
   ]
  },
  {
   "cell_type": "code",
   "execution_count": null,
   "metadata": {},
   "outputs": [
    {
     "name": "stderr",
     "output_type": "stream",
     "text": [
      "Some weights of DistilBertForSequenceClassification were not initialized from the model checkpoint at distilbert-base-uncased and are newly initialized: ['classifier.bias', 'classifier.weight', 'pre_classifier.bias', 'pre_classifier.weight']\n",
      "You should probably TRAIN this model on a down-stream task to be able to use it for predictions and inference.\n",
      "Failed to determine 'entailment' label id from the label2id mapping in the model config. Setting to -1. Define a descriptive label2id mapping in the model config to ensure correct outputs.\n",
      "Processing Batches: 100%|██████████| 2153/2153 [32:44<00:00,  1.10batch/s]"
     ]
    },
    {
     "name": "stdout",
     "output_type": "stream",
     "text": [
      "                                               review_en sentiment\n",
      "0      I left my former insurance contract at General...   neutral\n",
      "1      I subscribed to this mutual a year last year a...   neutral\n",
      "2      Impossible to have the right service, they han...  negative\n",
      "3      Generation is a very expensive mutual for a re...   neutral\n",
      "4      I just learned that I am struck off ... I call...   neutral\n",
      "...                                                  ...       ...\n",
      "34430     For the moment I am satisfied with this mutual   neutral\n",
      "34431  The service and support are of very good quali...   neutral\n",
      "34432  The worst insurance in which I was.\\nDoubly of...  negative\n",
      "34433  I am satisfied. The price suits me. Cheap. The...   neutral\n",
      "34434  Very well, good speed I highly recommend, effi...  negative\n",
      "\n",
      "[34433 rows x 2 columns]\n"
     ]
    },
    {
     "name": "stderr",
     "output_type": "stream",
     "text": [
      "\n"
     ]
    }
   ],
   "source": [
    "from transformers import pipeline\n",
    "from tqdm import tqdm  # Progress bar library\n",
    "import pandas as pd\n",
    "\n",
    "# Initialize the pipeline\n",
    "model_name = \"distilbert-base-uncased\"\n",
    "classifier = pipeline(\"zero-shot-classification\", model=model_name, device=0)  # Use GPU if available\n",
    "\n",
    "# Load data\n",
    "df = pd.DataFrame(df)\n",
    "candidate_labels = [\"positive\", \"neutral\", \"negative\"]\n",
    "\n",
    "# Batch processing with tqdm\n",
    "batch_size = 16  # Adjust based on system capabilities\n",
    "sentiments = []\n",
    "for i in tqdm(range(0, len(df), batch_size), desc=\"Processing Batches\", unit=\"batch\"):\n",
    "    batch_reviews = df['review_en'][i:i + batch_size].tolist()\n",
    "    results = classifier(batch_reviews, candidate_labels=candidate_labels)\n",
    "    sentiments.extend([result['labels'][0] for result in results])\n",
    "\n",
    "df['sentiment'] = sentiments\n",
    "print(df[['review_en', 'sentiment']])"
   ]
  },
  {
   "cell_type": "code",
   "execution_count": 162,
   "metadata": {},
   "outputs": [],
   "source": [
    "# Save the dataframe with sentiments to a CSV file\n",
    "df.to_csv('sentiment_analysis_results.csv', index=False)"
   ]
  },
  {
   "cell_type": "markdown",
   "metadata": {},
   "source": [
    "Supervised learning model"
   ]
  },
  {
   "cell_type": "code",
   "execution_count": 39,
   "metadata": {},
   "outputs": [
    {
     "data": {
      "text/html": [
       "<div>\n",
       "<style scoped>\n",
       "    .dataframe tbody tr th:only-of-type {\n",
       "        vertical-align: middle;\n",
       "    }\n",
       "\n",
       "    .dataframe tbody tr th {\n",
       "        vertical-align: top;\n",
       "    }\n",
       "\n",
       "    .dataframe thead th {\n",
       "        text-align: right;\n",
       "    }\n",
       "</style>\n",
       "<table border=\"1\" class=\"dataframe\">\n",
       "  <thead>\n",
       "    <tr style=\"text-align: right;\">\n",
       "      <th></th>\n",
       "      <th>score</th>\n",
       "      <th>type</th>\n",
       "      <th>review_en</th>\n",
       "      <th>review_cleaned</th>\n",
       "      <th>review_cleaned_joined</th>\n",
       "      <th>sentiment</th>\n",
       "    </tr>\n",
       "  </thead>\n",
       "  <tbody>\n",
       "    <tr>\n",
       "      <th>0</th>\n",
       "      <td>NaN</td>\n",
       "      <td>test</td>\n",
       "      <td>I left my former insurance contract at General...</td>\n",
       "      <td>['leave', 'former', 'insurance', 'contract', '...</td>\n",
       "      <td>leave former insurance contract general year j...</td>\n",
       "      <td>neutral</td>\n",
       "    </tr>\n",
       "    <tr>\n",
       "      <th>1</th>\n",
       "      <td>NaN</td>\n",
       "      <td>test</td>\n",
       "      <td>I subscribed to this mutual a year last year a...</td>\n",
       "      <td>['subscribe', 'mutual', 'year', 'last', 'year'...</td>\n",
       "      <td>subscribe mutual year last year stay year find...</td>\n",
       "      <td>neutral</td>\n",
       "    </tr>\n",
       "    <tr>\n",
       "      <th>2</th>\n",
       "      <td>NaN</td>\n",
       "      <td>test</td>\n",
       "      <td>Impossible to have the right service, they han...</td>\n",
       "      <td>['impossible', 'right', 'service', 'hang', 'no...</td>\n",
       "      <td>impossible right service hang nose know answer...</td>\n",
       "      <td>negative</td>\n",
       "    </tr>\n",
       "    <tr>\n",
       "      <th>3</th>\n",
       "      <td>NaN</td>\n",
       "      <td>test</td>\n",
       "      <td>Generation is a very expensive mutual for a re...</td>\n",
       "      <td>['generation', 'expensive', 'mutual', 'retiree...</td>\n",
       "      <td>generation expensive mutual retiree 150 per mo...</td>\n",
       "      <td>neutral</td>\n",
       "    </tr>\n",
       "    <tr>\n",
       "      <th>4</th>\n",
       "      <td>NaN</td>\n",
       "      <td>test</td>\n",
       "      <td>I just learned that I am struck off ... I call...</td>\n",
       "      <td>['learn', 'strike', 'call', 'adviser', 'give',...</td>\n",
       "      <td>learn strike call adviser give answer sends nu...</td>\n",
       "      <td>neutral</td>\n",
       "    </tr>\n",
       "  </tbody>\n",
       "</table>\n",
       "</div>"
      ],
      "text/plain": [
       "   score  type                                          review_en  \\\n",
       "0    NaN  test  I left my former insurance contract at General...   \n",
       "1    NaN  test  I subscribed to this mutual a year last year a...   \n",
       "2    NaN  test  Impossible to have the right service, they han...   \n",
       "3    NaN  test  Generation is a very expensive mutual for a re...   \n",
       "4    NaN  test  I just learned that I am struck off ... I call...   \n",
       "\n",
       "                                      review_cleaned  \\\n",
       "0  ['leave', 'former', 'insurance', 'contract', '...   \n",
       "1  ['subscribe', 'mutual', 'year', 'last', 'year'...   \n",
       "2  ['impossible', 'right', 'service', 'hang', 'no...   \n",
       "3  ['generation', 'expensive', 'mutual', 'retiree...   \n",
       "4  ['learn', 'strike', 'call', 'adviser', 'give',...   \n",
       "\n",
       "                               review_cleaned_joined sentiment  \n",
       "0  leave former insurance contract general year j...   neutral  \n",
       "1  subscribe mutual year last year stay year find...   neutral  \n",
       "2  impossible right service hang nose know answer...  negative  \n",
       "3  generation expensive mutual retiree 150 per mo...   neutral  \n",
       "4  learn strike call adviser give answer sends nu...   neutral  "
      ]
     },
     "execution_count": 39,
     "metadata": {},
     "output_type": "execute_result"
    }
   ],
   "source": [
    "# Load the dataframe from a CSV file\n",
    "df_new = pd.read_csv('sentiment_analysis_results.csv')\n",
    "\n",
    "# Display the first few rows of the dataframe\n",
    "df_new.head()"
   ]
  },
  {
   "cell_type": "code",
   "execution_count": 44,
   "metadata": {},
   "outputs": [
    {
     "name": "stdout",
     "output_type": "stream",
     "text": [
      "score                    10327\n",
      "type                         0\n",
      "review_en                    0\n",
      "review_cleaned               0\n",
      "review_cleaned_joined        0\n",
      "sentiment                    0\n",
      "dtype: int64\n",
      "Empty DataFrame\n",
      "Columns: [score, type, review_en, review_cleaned, review_cleaned_joined, sentiment]\n",
      "Index: []\n"
     ]
    }
   ],
   "source": [
    "print(df_new.isna().sum())\n",
    "\n",
    "df_new.dropna(subset=['review_cleaned_joined'], inplace=True)\n",
    "print(df_new[df_new['review_cleaned_joined'].isna()])"
   ]
  },
  {
   "cell_type": "markdown",
   "metadata": {},
   "source": [
    "Training the model"
   ]
  },
  {
   "cell_type": "code",
   "execution_count": 59,
   "metadata": {},
   "outputs": [
    {
     "name": "stdout",
     "output_type": "stream",
     "text": [
      "Epoch 1/30\n"
     ]
    },
    {
     "name": "stderr",
     "output_type": "stream",
     "text": [
      "/opt/anaconda3/lib/python3.11/site-packages/keras/src/layers/core/embedding.py:90: UserWarning: Argument `input_length` is deprecated. Just remove it.\n",
      "  warnings.warn(\n"
     ]
    },
    {
     "name": "stdout",
     "output_type": "stream",
     "text": [
      "\u001b[1m861/861\u001b[0m \u001b[32m━━━━━━━━━━━━━━━━━━━━\u001b[0m\u001b[37m\u001b[0m \u001b[1m2s\u001b[0m 2ms/step - accuracy: 0.5929 - loss: 0.6643 - val_accuracy: 0.6567 - val_loss: 0.6265\n",
      "Epoch 2/30\n",
      "\u001b[1m861/861\u001b[0m \u001b[32m━━━━━━━━━━━━━━━━━━━━\u001b[0m\u001b[37m\u001b[0m \u001b[1m2s\u001b[0m 2ms/step - accuracy: 0.6610 - loss: 0.6098 - val_accuracy: 0.6644 - val_loss: 0.6075\n",
      "Epoch 3/30\n",
      "\u001b[1m861/861\u001b[0m \u001b[32m━━━━━━━━━━━━━━━━━━━━\u001b[0m\u001b[37m\u001b[0m \u001b[1m2s\u001b[0m 2ms/step - accuracy: 0.6911 - loss: 0.5785 - val_accuracy: 0.6599 - val_loss: 0.6120\n",
      "Epoch 4/30\n",
      "\u001b[1m861/861\u001b[0m \u001b[32m━━━━━━━━━━━━━━━━━━━━\u001b[0m\u001b[37m\u001b[0m \u001b[1m2s\u001b[0m 2ms/step - accuracy: 0.7056 - loss: 0.5566 - val_accuracy: 0.6602 - val_loss: 0.6176\n",
      "Epoch 5/30\n",
      "\u001b[1m861/861\u001b[0m \u001b[32m━━━━━━━━━━━━━━━━━━━━\u001b[0m\u001b[37m\u001b[0m \u001b[1m2s\u001b[0m 2ms/step - accuracy: 0.7131 - loss: 0.5426 - val_accuracy: 0.6619 - val_loss: 0.6173\n",
      "Epoch 6/30\n",
      "\u001b[1m861/861\u001b[0m \u001b[32m━━━━━━━━━━━━━━━━━━━━\u001b[0m\u001b[37m\u001b[0m \u001b[1m2s\u001b[0m 2ms/step - accuracy: 0.7127 - loss: 0.5473 - val_accuracy: 0.6471 - val_loss: 0.6350\n",
      "Epoch 7/30\n",
      "\u001b[1m861/861\u001b[0m \u001b[32m━━━━━━━━━━━━━━━━━━━━\u001b[0m\u001b[37m\u001b[0m \u001b[1m2s\u001b[0m 2ms/step - accuracy: 0.7231 - loss: 0.5334 - val_accuracy: 0.6602 - val_loss: 0.6303\n",
      "Epoch 8/30\n",
      "\u001b[1m861/861\u001b[0m \u001b[32m━━━━━━━━━━━━━━━━━━━━\u001b[0m\u001b[37m\u001b[0m \u001b[1m2s\u001b[0m 2ms/step - accuracy: 0.7267 - loss: 0.5230 - val_accuracy: 0.6563 - val_loss: 0.6383\n",
      "Epoch 9/30\n",
      "\u001b[1m861/861\u001b[0m \u001b[32m━━━━━━━━━━━━━━━━━━━━\u001b[0m\u001b[37m\u001b[0m \u001b[1m2s\u001b[0m 2ms/step - accuracy: 0.7211 - loss: 0.5250 - val_accuracy: 0.6577 - val_loss: 0.6384\n",
      "Epoch 10/30\n",
      "\u001b[1m861/861\u001b[0m \u001b[32m━━━━━━━━━━━━━━━━━━━━\u001b[0m\u001b[37m\u001b[0m \u001b[1m2s\u001b[0m 2ms/step - accuracy: 0.7207 - loss: 0.5280 - val_accuracy: 0.6567 - val_loss: 0.6465\n",
      "Epoch 11/30\n",
      "\u001b[1m861/861\u001b[0m \u001b[32m━━━━━━━━━━━━━━━━━━━━\u001b[0m\u001b[37m\u001b[0m \u001b[1m2s\u001b[0m 2ms/step - accuracy: 0.7315 - loss: 0.5159 - val_accuracy: 0.6548 - val_loss: 0.6493\n",
      "Epoch 12/30\n",
      "\u001b[1m861/861\u001b[0m \u001b[32m━━━━━━━━━━━━━━━━━━━━\u001b[0m\u001b[37m\u001b[0m \u001b[1m2s\u001b[0m 2ms/step - accuracy: 0.7357 - loss: 0.5143 - val_accuracy: 0.6573 - val_loss: 0.6540\n",
      "Epoch 13/30\n",
      "\u001b[1m861/861\u001b[0m \u001b[32m━━━━━━━━━━━━━━━━━━━━\u001b[0m\u001b[37m\u001b[0m \u001b[1m2s\u001b[0m 2ms/step - accuracy: 0.7346 - loss: 0.5157 - val_accuracy: 0.6526 - val_loss: 0.6620\n",
      "Epoch 14/30\n",
      "\u001b[1m861/861\u001b[0m \u001b[32m━━━━━━━━━━━━━━━━━━━━\u001b[0m\u001b[37m\u001b[0m \u001b[1m2s\u001b[0m 2ms/step - accuracy: 0.7354 - loss: 0.5109 - val_accuracy: 0.6573 - val_loss: 0.6657\n",
      "Epoch 15/30\n",
      "\u001b[1m861/861\u001b[0m \u001b[32m━━━━━━━━━━━━━━━━━━━━\u001b[0m\u001b[37m\u001b[0m \u001b[1m2s\u001b[0m 2ms/step - accuracy: 0.7369 - loss: 0.5105 - val_accuracy: 0.6433 - val_loss: 0.6758\n",
      "Epoch 16/30\n",
      "\u001b[1m861/861\u001b[0m \u001b[32m━━━━━━━━━━━━━━━━━━━━\u001b[0m\u001b[37m\u001b[0m \u001b[1m2s\u001b[0m 2ms/step - accuracy: 0.7378 - loss: 0.5079 - val_accuracy: 0.6542 - val_loss: 0.6663\n",
      "Epoch 17/30\n",
      "\u001b[1m861/861\u001b[0m \u001b[32m━━━━━━━━━━━━━━━━━━━━\u001b[0m\u001b[37m\u001b[0m \u001b[1m2s\u001b[0m 2ms/step - accuracy: 0.7373 - loss: 0.5079 - val_accuracy: 0.6417 - val_loss: 0.6846\n",
      "Epoch 18/30\n",
      "\u001b[1m861/861\u001b[0m \u001b[32m━━━━━━━━━━━━━━━━━━━━\u001b[0m\u001b[37m\u001b[0m \u001b[1m2s\u001b[0m 2ms/step - accuracy: 0.7442 - loss: 0.5011 - val_accuracy: 0.6362 - val_loss: 0.6913\n",
      "Epoch 19/30\n",
      "\u001b[1m861/861\u001b[0m \u001b[32m━━━━━━━━━━━━━━━━━━━━\u001b[0m\u001b[37m\u001b[0m \u001b[1m2s\u001b[0m 2ms/step - accuracy: 0.7383 - loss: 0.5073 - val_accuracy: 0.6346 - val_loss: 0.6992\n",
      "Epoch 20/30\n",
      "\u001b[1m861/861\u001b[0m \u001b[32m━━━━━━━━━━━━━━━━━━━━\u001b[0m\u001b[37m\u001b[0m \u001b[1m2s\u001b[0m 3ms/step - accuracy: 0.7427 - loss: 0.5051 - val_accuracy: 0.6496 - val_loss: 0.6854\n",
      "Epoch 21/30\n",
      "\u001b[1m861/861\u001b[0m \u001b[32m━━━━━━━━━━━━━━━━━━━━\u001b[0m\u001b[37m\u001b[0m \u001b[1m2s\u001b[0m 2ms/step - accuracy: 0.7413 - loss: 0.5016 - val_accuracy: 0.6529 - val_loss: 0.6875\n",
      "Epoch 22/30\n",
      "\u001b[1m861/861\u001b[0m \u001b[32m━━━━━━━━━━━━━━━━━━━━\u001b[0m\u001b[37m\u001b[0m \u001b[1m2s\u001b[0m 2ms/step - accuracy: 0.7444 - loss: 0.4985 - val_accuracy: 0.6499 - val_loss: 0.6843\n",
      "Epoch 23/30\n",
      "\u001b[1m861/861\u001b[0m \u001b[32m━━━━━━━━━━━━━━━━━━━━\u001b[0m\u001b[37m\u001b[0m \u001b[1m2s\u001b[0m 2ms/step - accuracy: 0.7447 - loss: 0.4983 - val_accuracy: 0.6406 - val_loss: 0.6963\n",
      "Epoch 24/30\n",
      "\u001b[1m861/861\u001b[0m \u001b[32m━━━━━━━━━━━━━━━━━━━━\u001b[0m\u001b[37m\u001b[0m \u001b[1m2s\u001b[0m 2ms/step - accuracy: 0.7390 - loss: 0.5023 - val_accuracy: 0.6497 - val_loss: 0.6940\n",
      "Epoch 25/30\n",
      "\u001b[1m861/861\u001b[0m \u001b[32m━━━━━━━━━━━━━━━━━━━━\u001b[0m\u001b[37m\u001b[0m \u001b[1m2s\u001b[0m 2ms/step - accuracy: 0.7397 - loss: 0.5005 - val_accuracy: 0.6459 - val_loss: 0.6951\n",
      "Epoch 26/30\n",
      "\u001b[1m861/861\u001b[0m \u001b[32m━━━━━━━━━━━━━━━━━━━━\u001b[0m\u001b[37m\u001b[0m \u001b[1m2s\u001b[0m 2ms/step - accuracy: 0.7411 - loss: 0.4997 - val_accuracy: 0.6470 - val_loss: 0.6964\n",
      "Epoch 27/30\n",
      "\u001b[1m861/861\u001b[0m \u001b[32m━━━━━━━━━━━━━━━━━━━━\u001b[0m\u001b[37m\u001b[0m \u001b[1m2s\u001b[0m 2ms/step - accuracy: 0.7403 - loss: 0.4993 - val_accuracy: 0.6484 - val_loss: 0.7016\n",
      "Epoch 28/30\n",
      "\u001b[1m861/861\u001b[0m \u001b[32m━━━━━━━━━━━━━━━━━━━━\u001b[0m\u001b[37m\u001b[0m \u001b[1m2s\u001b[0m 3ms/step - accuracy: 0.7437 - loss: 0.4954 - val_accuracy: 0.6499 - val_loss: 0.6959\n",
      "Epoch 29/30\n",
      "\u001b[1m861/861\u001b[0m \u001b[32m━━━━━━━━━━━━━━━━━━━━\u001b[0m\u001b[37m\u001b[0m \u001b[1m2s\u001b[0m 2ms/step - accuracy: 0.7485 - loss: 0.4950 - val_accuracy: 0.6480 - val_loss: 0.7048\n",
      "Epoch 30/30\n",
      "\u001b[1m861/861\u001b[0m \u001b[32m━━━━━━━━━━━━━━━━━━━━\u001b[0m\u001b[37m\u001b[0m \u001b[1m2s\u001b[0m 2ms/step - accuracy: 0.7417 - loss: 0.4953 - val_accuracy: 0.6352 - val_loss: 0.7074\n"
     ]
    },
    {
     "name": "stderr",
     "output_type": "stream",
     "text": [
      "WARNING:absl:You are saving your model as an HDF5 file via `model.save()` or `keras.saving.save_model(model)`. This file format is considered legacy. We recommend using instead the native Keras format, e.g. `model.save('my_model.keras')` or `keras.saving.save_model(model, 'my_model.keras')`. \n"
     ]
    }
   ],
   "source": [
    "import tensorflow as tf\n",
    "import pandas as pd\n",
    "from sklearn.model_selection import train_test_split\n",
    "from tensorflow.keras.preprocessing.text import Tokenizer\n",
    "from tensorflow.keras.preprocessing.sequence import pad_sequences\n",
    "from tensorflow.keras.callbacks import TensorBoard\n",
    "import os\n",
    "\n",
    "df = df_new\n",
    "\n",
    "# Text Preprocessing (tokenization, padding)\n",
    "tokenizer = Tokenizer(num_words=5000)\n",
    "tokenizer.fit_on_texts(df['review_cleaned_joined'])\n",
    "\n",
    "X = tokenizer.texts_to_sequences(df['review_cleaned_joined'])\n",
    "X = pad_sequences(X, padding='post', maxlen=50)\n",
    "\n",
    "# Convert sentiment to labels (binary or multiclass)\n",
    "y = df['sentiment'].apply(lambda x: 0 if x == 'negative' else 1).values  # For binary classification\n",
    "\n",
    "# Split data into training and validation sets\n",
    "X_train, X_val, y_train, y_val = train_test_split(X, y, test_size=0.2, random_state=42)\n",
    "\n",
    "# Model definition\n",
    "model = tf.keras.Sequential([\n",
    "    tf.keras.layers.Embedding(input_dim=5000, output_dim=128, input_length=50, name='embedding'),\n",
    "    tf.keras.layers.GlobalAveragePooling1D(),\n",
    "    tf.keras.layers.Dense(1, activation='sigmoid')  # For binary classification, change for multiclass\n",
    "])\n",
    "\n",
    "# Compile model\n",
    "model.compile(optimizer='adam', loss='binary_crossentropy', metrics=['accuracy'])\n",
    "\n",
    "\n",
    "# TensorBoard setup\n",
    "log_dir = os.path.join(\"logs\", \"embedding\")\n",
    "tensorboard_callback = TensorBoard(log_dir=log_dir, histogram_freq=1, embeddings_freq=1)\n",
    "\n",
    "# Train model\n",
    "model.fit(X_train, y_train, epochs=30, batch_size=32, validation_data=(X_val, y_val), callbacks=[tensorboard_callback])\n",
    "\n",
    "# Save the trained model for future use in a Streamlit app\n",
    "model.save(\"sentiment_analysis_model.h5\")\n",
    "\n",
    "# After training, start TensorBoard\n",
    "# In your terminal (outside Jupyter Notebook):\n",
    "# tensorboard --logdir=logs/embedding"
   ]
  },
  {
   "cell_type": "markdown",
   "metadata": {},
   "source": [
    "Example use"
   ]
  },
  {
   "cell_type": "code",
   "execution_count": 60,
   "metadata": {},
   "outputs": [
    {
     "name": "stderr",
     "output_type": "stream",
     "text": [
      "WARNING:absl:Compiled the loaded model, but the compiled metrics have yet to be built. `model.compile_metrics` will be empty until you train or evaluate the model.\n"
     ]
    },
    {
     "name": "stdout",
     "output_type": "stream",
     "text": [
      "Review: I love this! Will definitely buy again.\n",
      "\u001b[1m1/1\u001b[0m \u001b[32m━━━━━━━━━━━━━━━━━━━━\u001b[0m\u001b[37m\u001b[0m \u001b[1m0s\u001b[0m 25ms/step\n",
      "Predicted Sentiment: positive\n"
     ]
    }
   ],
   "source": [
    "from tensorflow.keras.models import load_model\n",
    "\n",
    "# Load the saved model (if needed in the future)\n",
    "model_save_path = \"sentiment_analysis_model.h5\"\n",
    "model = load_model(model_save_path)\n",
    "\n",
    "# Define the tokenizer (this should be the same tokenizer used during training)\n",
    "tokenizer = Tokenizer(num_words=5000)\n",
    "tokenizer.fit_on_texts(df_new['review_cleaned_joined'])  # Ensure the tokenizer is fit on the same training data\n",
    "\n",
    "# Function to predict sentiment for a randomly generated review\n",
    "def predict_sentiment(review):\n",
    "    # Text Preprocessing (tokenization and padding)\n",
    "    review_sequence = tokenizer.texts_to_sequences([review])\n",
    "    review_padded = pad_sequences(review_sequence, padding='post', maxlen=50)\n",
    "\n",
    "    # Predict sentiment (0 for negative, 1 for positive)\n",
    "    prediction = model.predict(review_padded)\n",
    "    sentiment = \"positive\" if prediction >= 0.5 else \"negative\"\n",
    "    return sentiment\n",
    "\n",
    "# Example: Generate a random review and predict its sentiment\n",
    "import random\n",
    "\n",
    "# Generate a random review (You can replace this with any other method of generating a review)\n",
    "random_reviews = [\n",
    "    \"The service was excellent, I am very satisfied!\",\n",
    "    \"The product broke after a few days, very disappointed.\",\n",
    "    \"Not bad, but could use some improvements.\",\n",
    "    \"I love this! Will definitely buy again.\",\n",
    "    \"Worst purchase ever. Terrible quality.\"\n",
    "]\n",
    "\n",
    "# Select a random review\n",
    "random_review = random.choice(random_reviews)\n",
    "\n",
    "# Print the review and its predicted sentiment\n",
    "print(f\"Review: {random_review}\")\n",
    "print(f\"Predicted Sentiment: {predict_sentiment(random_review)}\")"
   ]
  },
  {
   "cell_type": "markdown",
   "metadata": {},
   "source": [
    "# 6) Results Interpretation"
   ]
  },
  {
   "cell_type": "markdown",
   "metadata": {},
   "source": [
    "1. Rating prediction model"
   ]
  },
  {
   "cell_type": "code",
   "execution_count": null,
   "metadata": {},
   "outputs": [
    {
     "name": "stderr",
     "output_type": "stream",
     "text": [
      "/opt/anaconda3/lib/python3.11/site-packages/sklearn/utils/_array_api.py:390: RuntimeWarning: invalid value encountered in cast\n",
      "  return x.astype(dtype, copy=copy, casting=casting)\n"
     ]
    },
    {
     "ename": "ValueError",
     "evalue": "Input y_true contains NaN.",
     "output_type": "error",
     "traceback": [
      "\u001b[0;31m---------------------------------------------------------------------------\u001b[0m",
      "\u001b[0;31mValueError\u001b[0m                                Traceback (most recent call last)",
      "Cell \u001b[0;32mIn[89], line 7\u001b[0m\n\u001b[1;32m      4\u001b[0m \u001b[38;5;28;01mimport\u001b[39;00m \u001b[38;5;21;01mmatplotlib\u001b[39;00m\u001b[38;5;21;01m.\u001b[39;00m\u001b[38;5;21;01mpyplot\u001b[39;00m \u001b[38;5;28;01mas\u001b[39;00m \u001b[38;5;21;01mplt\u001b[39;00m\n\u001b[1;32m      6\u001b[0m \u001b[38;5;66;03m# Generate the confusion matrix\u001b[39;00m\n\u001b[0;32m----> 7\u001b[0m conf_matrix \u001b[38;5;241m=\u001b[39m confusion_matrix(y_test, y_pred)\n\u001b[1;32m      9\u001b[0m \u001b[38;5;66;03m# Plot the heatmap\u001b[39;00m\n\u001b[1;32m     10\u001b[0m plt\u001b[38;5;241m.\u001b[39mfigure(figsize\u001b[38;5;241m=\u001b[39m(\u001b[38;5;241m8\u001b[39m, \u001b[38;5;241m6\u001b[39m))\n",
      "File \u001b[0;32m/opt/anaconda3/lib/python3.11/site-packages/sklearn/utils/_param_validation.py:213\u001b[0m, in \u001b[0;36mvalidate_params.<locals>.decorator.<locals>.wrapper\u001b[0;34m(*args, **kwargs)\u001b[0m\n\u001b[1;32m    207\u001b[0m \u001b[38;5;28;01mtry\u001b[39;00m:\n\u001b[1;32m    208\u001b[0m     \u001b[38;5;28;01mwith\u001b[39;00m config_context(\n\u001b[1;32m    209\u001b[0m         skip_parameter_validation\u001b[38;5;241m=\u001b[39m(\n\u001b[1;32m    210\u001b[0m             prefer_skip_nested_validation \u001b[38;5;129;01mor\u001b[39;00m global_skip_validation\n\u001b[1;32m    211\u001b[0m         )\n\u001b[1;32m    212\u001b[0m     ):\n\u001b[0;32m--> 213\u001b[0m         \u001b[38;5;28;01mreturn\u001b[39;00m func(\u001b[38;5;241m*\u001b[39margs, \u001b[38;5;241m*\u001b[39m\u001b[38;5;241m*\u001b[39mkwargs)\n\u001b[1;32m    214\u001b[0m \u001b[38;5;28;01mexcept\u001b[39;00m InvalidParameterError \u001b[38;5;28;01mas\u001b[39;00m e:\n\u001b[1;32m    215\u001b[0m     \u001b[38;5;66;03m# When the function is just a wrapper around an estimator, we allow\u001b[39;00m\n\u001b[1;32m    216\u001b[0m     \u001b[38;5;66;03m# the function to delegate validation to the estimator, but we replace\u001b[39;00m\n\u001b[1;32m    217\u001b[0m     \u001b[38;5;66;03m# the name of the estimator by the name of the function in the error\u001b[39;00m\n\u001b[1;32m    218\u001b[0m     \u001b[38;5;66;03m# message to avoid confusion.\u001b[39;00m\n\u001b[1;32m    219\u001b[0m     msg \u001b[38;5;241m=\u001b[39m re\u001b[38;5;241m.\u001b[39msub(\n\u001b[1;32m    220\u001b[0m         \u001b[38;5;124mr\u001b[39m\u001b[38;5;124m\"\u001b[39m\u001b[38;5;124mparameter of \u001b[39m\u001b[38;5;124m\\\u001b[39m\u001b[38;5;124mw+ must be\u001b[39m\u001b[38;5;124m\"\u001b[39m,\n\u001b[1;32m    221\u001b[0m         \u001b[38;5;124mf\u001b[39m\u001b[38;5;124m\"\u001b[39m\u001b[38;5;124mparameter of \u001b[39m\u001b[38;5;132;01m{\u001b[39;00mfunc\u001b[38;5;241m.\u001b[39m\u001b[38;5;18m__qualname__\u001b[39m\u001b[38;5;132;01m}\u001b[39;00m\u001b[38;5;124m must be\u001b[39m\u001b[38;5;124m\"\u001b[39m,\n\u001b[1;32m    222\u001b[0m         \u001b[38;5;28mstr\u001b[39m(e),\n\u001b[1;32m    223\u001b[0m     )\n",
      "File \u001b[0;32m/opt/anaconda3/lib/python3.11/site-packages/sklearn/metrics/_classification.py:342\u001b[0m, in \u001b[0;36mconfusion_matrix\u001b[0;34m(y_true, y_pred, labels, sample_weight, normalize)\u001b[0m\n\u001b[1;32m    247\u001b[0m \u001b[38;5;129m@validate_params\u001b[39m(\n\u001b[1;32m    248\u001b[0m     {\n\u001b[1;32m    249\u001b[0m         \u001b[38;5;124m\"\u001b[39m\u001b[38;5;124my_true\u001b[39m\u001b[38;5;124m\"\u001b[39m: [\u001b[38;5;124m\"\u001b[39m\u001b[38;5;124marray-like\u001b[39m\u001b[38;5;124m\"\u001b[39m],\n\u001b[0;32m   (...)\u001b[0m\n\u001b[1;32m    258\u001b[0m     y_true, y_pred, \u001b[38;5;241m*\u001b[39m, labels\u001b[38;5;241m=\u001b[39m\u001b[38;5;28;01mNone\u001b[39;00m, sample_weight\u001b[38;5;241m=\u001b[39m\u001b[38;5;28;01mNone\u001b[39;00m, normalize\u001b[38;5;241m=\u001b[39m\u001b[38;5;28;01mNone\u001b[39;00m\n\u001b[1;32m    259\u001b[0m ):\n\u001b[1;32m    260\u001b[0m \u001b[38;5;250m    \u001b[39m\u001b[38;5;124;03m\"\"\"Compute confusion matrix to evaluate the accuracy of a classification.\u001b[39;00m\n\u001b[1;32m    261\u001b[0m \n\u001b[1;32m    262\u001b[0m \u001b[38;5;124;03m    By definition a confusion matrix :math:`C` is such that :math:`C_{i, j}`\u001b[39;00m\n\u001b[0;32m   (...)\u001b[0m\n\u001b[1;32m    340\u001b[0m \u001b[38;5;124;03m    (0, 2, 1, 1)\u001b[39;00m\n\u001b[1;32m    341\u001b[0m \u001b[38;5;124;03m    \"\"\"\u001b[39;00m\n\u001b[0;32m--> 342\u001b[0m     y_type, y_true, y_pred \u001b[38;5;241m=\u001b[39m _check_targets(y_true, y_pred)\n\u001b[1;32m    343\u001b[0m     \u001b[38;5;28;01mif\u001b[39;00m y_type \u001b[38;5;129;01mnot\u001b[39;00m \u001b[38;5;129;01min\u001b[39;00m (\u001b[38;5;124m\"\u001b[39m\u001b[38;5;124mbinary\u001b[39m\u001b[38;5;124m\"\u001b[39m, \u001b[38;5;124m\"\u001b[39m\u001b[38;5;124mmulticlass\u001b[39m\u001b[38;5;124m\"\u001b[39m):\n\u001b[1;32m    344\u001b[0m         \u001b[38;5;28;01mraise\u001b[39;00m \u001b[38;5;167;01mValueError\u001b[39;00m(\u001b[38;5;124m\"\u001b[39m\u001b[38;5;132;01m%s\u001b[39;00m\u001b[38;5;124m is not supported\u001b[39m\u001b[38;5;124m\"\u001b[39m \u001b[38;5;241m%\u001b[39m y_type)\n",
      "File \u001b[0;32m/opt/anaconda3/lib/python3.11/site-packages/sklearn/metrics/_classification.py:104\u001b[0m, in \u001b[0;36m_check_targets\u001b[0;34m(y_true, y_pred)\u001b[0m\n\u001b[1;32m    102\u001b[0m xp, _ \u001b[38;5;241m=\u001b[39m get_namespace(y_true, y_pred)\n\u001b[1;32m    103\u001b[0m check_consistent_length(y_true, y_pred)\n\u001b[0;32m--> 104\u001b[0m type_true \u001b[38;5;241m=\u001b[39m type_of_target(y_true, input_name\u001b[38;5;241m=\u001b[39m\u001b[38;5;124m\"\u001b[39m\u001b[38;5;124my_true\u001b[39m\u001b[38;5;124m\"\u001b[39m)\n\u001b[1;32m    105\u001b[0m type_pred \u001b[38;5;241m=\u001b[39m type_of_target(y_pred, input_name\u001b[38;5;241m=\u001b[39m\u001b[38;5;124m\"\u001b[39m\u001b[38;5;124my_pred\u001b[39m\u001b[38;5;124m\"\u001b[39m)\n\u001b[1;32m    107\u001b[0m y_type \u001b[38;5;241m=\u001b[39m {type_true, type_pred}\n",
      "File \u001b[0;32m/opt/anaconda3/lib/python3.11/site-packages/sklearn/utils/multiclass.py:398\u001b[0m, in \u001b[0;36mtype_of_target\u001b[0;34m(y, input_name)\u001b[0m\n\u001b[1;32m    396\u001b[0m     data \u001b[38;5;241m=\u001b[39m y\u001b[38;5;241m.\u001b[39mdata \u001b[38;5;28;01mif\u001b[39;00m issparse(y) \u001b[38;5;28;01melse\u001b[39;00m y\n\u001b[1;32m    397\u001b[0m     \u001b[38;5;28;01mif\u001b[39;00m xp\u001b[38;5;241m.\u001b[39many(data \u001b[38;5;241m!=\u001b[39m xp\u001b[38;5;241m.\u001b[39mastype(data, \u001b[38;5;28mint\u001b[39m)):\n\u001b[0;32m--> 398\u001b[0m         _assert_all_finite(data, input_name\u001b[38;5;241m=\u001b[39minput_name)\n\u001b[1;32m    399\u001b[0m         \u001b[38;5;28;01mreturn\u001b[39;00m \u001b[38;5;124m\"\u001b[39m\u001b[38;5;124mcontinuous\u001b[39m\u001b[38;5;124m\"\u001b[39m \u001b[38;5;241m+\u001b[39m suffix\n\u001b[1;32m    401\u001b[0m \u001b[38;5;66;03m# Check multiclass\u001b[39;00m\n",
      "File \u001b[0;32m/opt/anaconda3/lib/python3.11/site-packages/sklearn/utils/validation.py:123\u001b[0m, in \u001b[0;36m_assert_all_finite\u001b[0;34m(X, allow_nan, msg_dtype, estimator_name, input_name)\u001b[0m\n\u001b[1;32m    120\u001b[0m \u001b[38;5;28;01mif\u001b[39;00m first_pass_isfinite:\n\u001b[1;32m    121\u001b[0m     \u001b[38;5;28;01mreturn\u001b[39;00m\n\u001b[0;32m--> 123\u001b[0m _assert_all_finite_element_wise(\n\u001b[1;32m    124\u001b[0m     X,\n\u001b[1;32m    125\u001b[0m     xp\u001b[38;5;241m=\u001b[39mxp,\n\u001b[1;32m    126\u001b[0m     allow_nan\u001b[38;5;241m=\u001b[39mallow_nan,\n\u001b[1;32m    127\u001b[0m     msg_dtype\u001b[38;5;241m=\u001b[39mmsg_dtype,\n\u001b[1;32m    128\u001b[0m     estimator_name\u001b[38;5;241m=\u001b[39mestimator_name,\n\u001b[1;32m    129\u001b[0m     input_name\u001b[38;5;241m=\u001b[39minput_name,\n\u001b[1;32m    130\u001b[0m )\n",
      "File \u001b[0;32m/opt/anaconda3/lib/python3.11/site-packages/sklearn/utils/validation.py:172\u001b[0m, in \u001b[0;36m_assert_all_finite_element_wise\u001b[0;34m(X, xp, allow_nan, msg_dtype, estimator_name, input_name)\u001b[0m\n\u001b[1;32m    155\u001b[0m \u001b[38;5;28;01mif\u001b[39;00m estimator_name \u001b[38;5;129;01mand\u001b[39;00m input_name \u001b[38;5;241m==\u001b[39m \u001b[38;5;124m\"\u001b[39m\u001b[38;5;124mX\u001b[39m\u001b[38;5;124m\"\u001b[39m \u001b[38;5;129;01mand\u001b[39;00m has_nan_error:\n\u001b[1;32m    156\u001b[0m     \u001b[38;5;66;03m# Improve the error message on how to handle missing values in\u001b[39;00m\n\u001b[1;32m    157\u001b[0m     \u001b[38;5;66;03m# scikit-learn.\u001b[39;00m\n\u001b[1;32m    158\u001b[0m     msg_err \u001b[38;5;241m+\u001b[39m\u001b[38;5;241m=\u001b[39m (\n\u001b[1;32m    159\u001b[0m         \u001b[38;5;124mf\u001b[39m\u001b[38;5;124m\"\u001b[39m\u001b[38;5;130;01m\\n\u001b[39;00m\u001b[38;5;132;01m{\u001b[39;00mestimator_name\u001b[38;5;132;01m}\u001b[39;00m\u001b[38;5;124m does not accept missing values\u001b[39m\u001b[38;5;124m\"\u001b[39m\n\u001b[1;32m    160\u001b[0m         \u001b[38;5;124m\"\u001b[39m\u001b[38;5;124m encoded as NaN natively. For supervised learning, you might want\u001b[39m\u001b[38;5;124m\"\u001b[39m\n\u001b[0;32m   (...)\u001b[0m\n\u001b[1;32m    170\u001b[0m         \u001b[38;5;124m\"\u001b[39m\u001b[38;5;124m#estimators-that-handle-nan-values\u001b[39m\u001b[38;5;124m\"\u001b[39m\n\u001b[1;32m    171\u001b[0m     )\n\u001b[0;32m--> 172\u001b[0m \u001b[38;5;28;01mraise\u001b[39;00m \u001b[38;5;167;01mValueError\u001b[39;00m(msg_err)\n",
      "\u001b[0;31mValueError\u001b[0m: Input y_true contains NaN."
     ]
    }
   ],
   "source": [
    "from sklearn.metrics import confusion_matrix\n",
    "import seaborn as sns\n",
    "\n",
    "import matplotlib.pyplot as plt\n",
    "\n",
    "# Generate the confusion matrix\n",
    "conf_matrix = confusion_matrix(y_val, y_val_pred)\n",
    "\n",
    "# Plot the heatmap\n",
    "plt.figure(figsize=(8, 6))\n",
    "sns.heatmap(conf_matrix, annot=True, fmt='d', cmap='Blues', xticklabels=['Negative', 'Positive'], yticklabels=['Negative', 'Positive'])\n",
    "plt.xlabel('Predicted')\n",
    "plt.ylabel('Actual')\n",
    "plt.title('Confusion Matrix Heatmap')\n",
    "plt.show()"
   ]
  },
  {
   "cell_type": "code",
   "execution_count": 86,
   "metadata": {},
   "outputs": [
    {
     "name": "stdout",
     "output_type": "stream",
     "text": [
      "\u001b[1m216/216\u001b[0m \u001b[32m━━━━━━━━━━━━━━━━━━━━\u001b[0m\u001b[37m\u001b[0m \u001b[1m0s\u001b[0m 383us/step\n",
      "              precision    recall  f1-score   support\n",
      "\n",
      "    negative       0.60      0.53      0.56      3024\n",
      "    positive       0.66      0.72      0.69      3862\n",
      "\n",
      "    accuracy                           0.64      6886\n",
      "   macro avg       0.63      0.62      0.62      6886\n",
      "weighted avg       0.63      0.64      0.63      6886\n",
      "\n"
     ]
    }
   ],
   "source": [
    "from sklearn.metrics import classification_report\n",
    "\n",
    "# Predict the sentiment on the validation set\n",
    "y_val_pred = (model.predict(X_val) >= 0.5).astype(int)\n",
    "\n",
    "# Generate the classification report\n",
    "report = classification_report(y_val, y_val_pred, target_names=['negative', 'positive'])\n",
    "print(report)"
   ]
  },
  {
   "cell_type": "markdown",
   "metadata": {},
   "source": [
    "2. Sentiment analysis model"
   ]
  },
  {
   "cell_type": "code",
   "execution_count": 88,
   "metadata": {},
   "outputs": [
    {
     "data": {
      "image/png": "[encoded data removed]",
      "text/plain": [
       "<Figure size 800x600 with 2 Axes>"
      ]
     },
     "metadata": {},
     "output_type": "display_data"
    }
   ],
   "source": [
    "from sklearn.metrics import confusion_matrix\n",
    "import seaborn as sns\n",
    "\n",
    "import matplotlib.pyplot as plt\n",
    "\n",
    "# Generate the confusion matrix\n",
    "conf_matrix = confusion_matrix(y_val, y_val_pred)\n",
    "\n",
    "# Plot the heatmap\n",
    "plt.figure(figsize=(8, 6))\n",
    "sns.heatmap(conf_matrix, annot=True, fmt='d', cmap='Blues', xticklabels=['Negative', 'Positive'], yticklabels=['Negative', 'Positive'])\n",
    "plt.xlabel('Predicted')\n",
    "plt.ylabel('Actual')\n",
    "plt.title('Confusion Matrix Heatmap')\n",
    "plt.show()"
   ]
  },
  {
   "cell_type": "code",
   "execution_count": 61,
   "metadata": {},
   "outputs": [
    {
     "name": "stdout",
     "output_type": "stream",
     "text": [
      "\u001b[1m216/216\u001b[0m \u001b[32m━━━━━━━━━━━━━━━━━━━━\u001b[0m\u001b[37m\u001b[0m \u001b[1m0s\u001b[0m 359us/step\n",
      "              precision    recall  f1-score   support\n",
      "\n",
      "    negative       0.60      0.53      0.56      3024\n",
      "    positive       0.66      0.72      0.69      3862\n",
      "\n",
      "    accuracy                           0.64      6886\n",
      "   macro avg       0.63      0.62      0.62      6886\n",
      "weighted avg       0.63      0.64      0.63      6886\n",
      "\n"
     ]
    }
   ],
   "source": [
    "from sklearn.metrics import classification_report\n",
    "\n",
    "# Predict the sentiment on the validation set\n",
    "y_val_pred = (model.predict(X_val) >= 0.5).astype(int)\n",
    "\n",
    "# Generate the classification report\n",
    "report = classification_report(y_val, y_val_pred, target_names=['negative', 'positive'])\n",
    "print(report)"
   ]
  }
 ],
 "metadata": {
  "kernelspec": {
   "display_name": "base",
   "language": "python",
   "name": "python3"
  },
  "language_info": {
   "codemirror_mode": {
    "name": "ipython",
    "version": 3
   },
   "file_extension": ".py",
   "mimetype": "text/x-python",
   "name": "python",
   "nbconvert_exporter": "python",
   "pygments_lexer": "ipython3",
   "version": "3.11.8"
  }
 },
 "nbformat": 4,
 "nbformat_minor": 2
}
