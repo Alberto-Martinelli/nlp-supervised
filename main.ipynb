{
 "cells": [
  {
   "cell_type": "markdown",
   "metadata": {},
   "source": [
    "# 1) Data cleaning"
   ]
  },
  {
   "cell_type": "markdown",
   "metadata": {},
   "source": [
    "### Read files into dataframe"
   ]
  },
  {
   "cell_type": "code",
   "execution_count": 1,
   "metadata": {},
   "outputs": [
    {
     "data": {
      "text/html": [
       "<div>\n",
       "<style scoped>\n",
       "    .dataframe tbody tr th:only-of-type {\n",
       "        vertical-align: middle;\n",
       "    }\n",
       "\n",
       "    .dataframe tbody tr th {\n",
       "        vertical-align: top;\n",
       "    }\n",
       "\n",
       "    .dataframe thead th {\n",
       "        text-align: right;\n",
       "    }\n",
       "</style>\n",
       "<table border=\"1\" class=\"dataframe\">\n",
       "  <thead>\n",
       "    <tr style=\"text-align: right;\">\n",
       "      <th></th>\n",
       "      <th>score</th>\n",
       "      <th>username</th>\n",
       "      <th>review_fr</th>\n",
       "      <th>company</th>\n",
       "      <th>product</th>\n",
       "      <th>type</th>\n",
       "      <th>date_publication</th>\n",
       "      <th>date_exp</th>\n",
       "      <th>review_en</th>\n",
       "      <th>review_corrected_fr</th>\n",
       "      <th>review_corrected_en</th>\n",
       "    </tr>\n",
       "  </thead>\n",
       "  <tbody>\n",
       "    <tr>\n",
       "      <th>0</th>\n",
       "      <td>NaN</td>\n",
       "      <td>estelle-51227</td>\n",
       "      <td>j'ai quitté mon ancien contrat d'assurance che...</td>\n",
       "      <td>Néoliane Santé</td>\n",
       "      <td>sante</td>\n",
       "      <td>test</td>\n",
       "      <td>12/01/2017</td>\n",
       "      <td>01/01/2017</td>\n",
       "      <td>I left my former insurance contract at General...</td>\n",
       "      <td>NaN</td>\n",
       "      <td>NaN</td>\n",
       "    </tr>\n",
       "    <tr>\n",
       "      <th>1</th>\n",
       "      <td>NaN</td>\n",
       "      <td>leadum-51107</td>\n",
       "      <td>j'ai souscrit à cette mutuelle l'année dernier...</td>\n",
       "      <td>Néoliane Santé</td>\n",
       "      <td>sante</td>\n",
       "      <td>test</td>\n",
       "      <td>09/01/2017</td>\n",
       "      <td>01/01/2017</td>\n",
       "      <td>I subscribed to this mutual a year last year a...</td>\n",
       "      <td>NaN</td>\n",
       "      <td>NaN</td>\n",
       "    </tr>\n",
       "    <tr>\n",
       "      <th>2</th>\n",
       "      <td>NaN</td>\n",
       "      <td>enora-49520</td>\n",
       "      <td>Impossible d'avoir le bon service , ils raccro...</td>\n",
       "      <td>Néoliane Santé</td>\n",
       "      <td>sante</td>\n",
       "      <td>test</td>\n",
       "      <td>24/11/2016</td>\n",
       "      <td>01/11/2016</td>\n",
       "      <td>Impossible to have the right service, they han...</td>\n",
       "      <td>NaN</td>\n",
       "      <td>NaN</td>\n",
       "    </tr>\n",
       "    <tr>\n",
       "      <th>3</th>\n",
       "      <td>NaN</td>\n",
       "      <td>bea-139295</td>\n",
       "      <td>Génération est une mutuelle très chère pour un...</td>\n",
       "      <td>Génération</td>\n",
       "      <td>sante</td>\n",
       "      <td>test</td>\n",
       "      <td>09/11/2021</td>\n",
       "      <td>01/11/2021</td>\n",
       "      <td>Generation is a very expensive mutual for a re...</td>\n",
       "      <td>NaN</td>\n",
       "      <td>NaN</td>\n",
       "    </tr>\n",
       "    <tr>\n",
       "      <th>4</th>\n",
       "      <td>NaN</td>\n",
       "      <td>anna-139192</td>\n",
       "      <td>je viens d apprendre que je suis radié... j ap...</td>\n",
       "      <td>Génération</td>\n",
       "      <td>sante</td>\n",
       "      <td>test</td>\n",
       "      <td>08/11/2021</td>\n",
       "      <td>01/11/2021</td>\n",
       "      <td>I just learned that I am struck off ... I call...</td>\n",
       "      <td>NaN</td>\n",
       "      <td>NaN</td>\n",
       "    </tr>\n",
       "  </tbody>\n",
       "</table>\n",
       "</div>"
      ],
      "text/plain": [
       "   score       username                                          review_fr  \\\n",
       "0    NaN  estelle-51227  j'ai quitté mon ancien contrat d'assurance che...   \n",
       "1    NaN   leadum-51107  j'ai souscrit à cette mutuelle l'année dernier...   \n",
       "2    NaN    enora-49520  Impossible d'avoir le bon service , ils raccro...   \n",
       "3    NaN     bea-139295  Génération est une mutuelle très chère pour un...   \n",
       "4    NaN    anna-139192  je viens d apprendre que je suis radié... j ap...   \n",
       "\n",
       "          company product  type date_publication    date_exp  \\\n",
       "0  Néoliane Santé   sante  test       12/01/2017  01/01/2017   \n",
       "1  Néoliane Santé   sante  test       09/01/2017  01/01/2017   \n",
       "2  Néoliane Santé   sante  test       24/11/2016  01/11/2016   \n",
       "3      Génération   sante  test       09/11/2021  01/11/2021   \n",
       "4      Génération   sante  test       08/11/2021  01/11/2021   \n",
       "\n",
       "                                           review_en review_corrected_fr  \\\n",
       "0  I left my former insurance contract at General...                 NaN   \n",
       "1  I subscribed to this mutual a year last year a...                 NaN   \n",
       "2  Impossible to have the right service, they han...                 NaN   \n",
       "3  Generation is a very expensive mutual for a re...                 NaN   \n",
       "4  I just learned that I am struck off ... I call...                 NaN   \n",
       "\n",
       "  review_corrected_en  \n",
       "0                 NaN  \n",
       "1                 NaN  \n",
       "2                 NaN  \n",
       "3                 NaN  \n",
       "4                 NaN  "
      ]
     },
     "execution_count": 1,
     "metadata": {},
     "output_type": "execute_result"
    }
   ],
   "source": [
    "import pandas as pd \n",
    "import os\n",
    "import glob\n",
    "\n",
    "path = os.getcwd()\n",
    "folder_name = \"data\" \n",
    "xlsx_files = glob.glob(os.path.join(path+\"/\"+folder_name, \"*.xlsx\"))\n",
    "\n",
    "li = []\n",
    "col_names = ['score', 'username', 'review_fr', 'company', 'product', 'type', 'date_publication', 'date_exp', 'review_en', 'review_corrected_fr', 'review_corrected_en']\n",
    "for f in xlsx_files:\n",
    "    df = pd.read_excel(f, index_col=None, header=0, names=col_names)\n",
    "    li.append(df)\n",
    "\n",
    "dataframe = pd.concat(li, axis=0, ignore_index=True)\n",
    "dataframe.head()\n"
   ]
  },
  {
   "cell_type": "markdown",
   "metadata": {},
   "source": [
    "### Data cleaning"
   ]
  },
  {
   "cell_type": "code",
   "execution_count": 2,
   "metadata": {},
   "outputs": [
    {
     "name": "stdout",
     "output_type": "stream",
     "text": [
      "score                  10331\n",
      "username                   1\n",
      "review_fr                  0\n",
      "company                    0\n",
      "product                    0\n",
      "type                       0\n",
      "date_publication           0\n",
      "date_exp                   0\n",
      "review_en                  2\n",
      "review_corrected_fr    34000\n",
      "review_corrected_en    34004\n",
      "dtype: int64\n",
      "\n",
      "Total number of rows: 34435\n"
     ]
    }
   ],
   "source": [
    "# Show the number of missing values, and the total number of rows\n",
    "print(dataframe.isna().sum())\n",
    "\n",
    "total_rows = dataframe.shape[0]\n",
    "print()\n",
    "print(f\"Total number of rows: {total_rows}\")"
   ]
  },
  {
   "cell_type": "markdown",
   "metadata": {},
   "source": [
    "Translation"
   ]
  },
  {
   "cell_type": "code",
   "execution_count": 3,
   "metadata": {},
   "outputs": [
    {
     "name": "stdout",
     "output_type": "stream",
     "text": [
      "score                  10331\n",
      "username                   1\n",
      "review_fr                  0\n",
      "company                    0\n",
      "product                    0\n",
      "type                       0\n",
      "date_publication           0\n",
      "date_exp                   0\n",
      "review_en                  2\n",
      "review_corrected_fr    34000\n",
      "review_corrected_en    34004\n",
      "dtype: int64\n"
     ]
    }
   ],
   "source": [
    "from googletrans import Translator\n",
    "\n",
    "def translate_sentence(sentence, src_language='fr', dest_language='en'):\n",
    "    translator = Translator()\n",
    "    translation = translator.translate(sentence, src=src_language, dest=dest_language)\n",
    "    return translation.text\n",
    "\n",
    "# Fill empty entries in the 'review_en' column by translating 'review_fr'\n",
    "df['review_en'] = df.apply(lambda row: translate_sentence(row['review_fr']) if pd.isna(row['review_en']) or row['review_en'] == '' else row['review_en'], axis=1)\n",
    "print(dataframe.isna().sum())"
   ]
  },
  {
   "cell_type": "markdown",
   "metadata": {},
   "source": [
    "Handling missing values"
   ]
  },
  {
   "cell_type": "code",
   "execution_count": 4,
   "metadata": {},
   "outputs": [],
   "source": [
    "df = dataframe\n",
    "# drop rows with an undefined value for the specified column\n",
    "df.dropna(subset=['review_en'], inplace=True)\n",
    "\n",
    "#remove columns not needed\n",
    "df.drop(columns=['username', 'review_fr', 'company', 'product', 'date_publication', 'date_exp', 'review_corrected_fr', 'review_corrected_en'], inplace=True)"
   ]
  },
  {
   "cell_type": "markdown",
   "metadata": {},
   "source": [
    "Lowercasing"
   ]
  },
  {
   "cell_type": "code",
   "execution_count": 5,
   "metadata": {},
   "outputs": [],
   "source": [
    "def lowercase(frame, starting_column, final_column):\n",
    "    frame[final_column] = frame[starting_column].map(lambda r: r.lower())\n",
    "\n",
    "lowercase(df, 'review_en', 'review_cleaned')"
   ]
  },
  {
   "cell_type": "markdown",
   "metadata": {},
   "source": [
    "Remove punctuation"
   ]
  },
  {
   "cell_type": "code",
   "execution_count": 6,
   "metadata": {},
   "outputs": [],
   "source": [
    "def remove_punctuation(df, starting_column, final_column):\n",
    "    df[final_column] = df[starting_column].str.replace('[^\\w\\s]','', regex=True)\n",
    "\n",
    "remove_punctuation(df, 'review_cleaned', 'review_cleaned')"
   ]
  },
  {
   "cell_type": "code",
   "execution_count": 7,
   "metadata": {},
   "outputs": [
    {
     "data": {
      "text/html": [
       "<div>\n",
       "<style scoped>\n",
       "    .dataframe tbody tr th:only-of-type {\n",
       "        vertical-align: middle;\n",
       "    }\n",
       "\n",
       "    .dataframe tbody tr th {\n",
       "        vertical-align: top;\n",
       "    }\n",
       "\n",
       "    .dataframe thead th {\n",
       "        text-align: right;\n",
       "    }\n",
       "</style>\n",
       "<table border=\"1\" class=\"dataframe\">\n",
       "  <thead>\n",
       "    <tr style=\"text-align: right;\">\n",
       "      <th></th>\n",
       "      <th>score</th>\n",
       "      <th>type</th>\n",
       "      <th>review_en</th>\n",
       "      <th>review_cleaned</th>\n",
       "    </tr>\n",
       "  </thead>\n",
       "  <tbody>\n",
       "    <tr>\n",
       "      <th>0</th>\n",
       "      <td>NaN</td>\n",
       "      <td>test</td>\n",
       "      <td>I left my former insurance contract at General...</td>\n",
       "      <td>i left my former insurance contract at general...</td>\n",
       "    </tr>\n",
       "    <tr>\n",
       "      <th>1</th>\n",
       "      <td>NaN</td>\n",
       "      <td>test</td>\n",
       "      <td>I subscribed to this mutual a year last year a...</td>\n",
       "      <td>i subscribed to this mutual a year last year a...</td>\n",
       "    </tr>\n",
       "    <tr>\n",
       "      <th>2</th>\n",
       "      <td>NaN</td>\n",
       "      <td>test</td>\n",
       "      <td>Impossible to have the right service, they han...</td>\n",
       "      <td>impossible to have the right service they hang...</td>\n",
       "    </tr>\n",
       "    <tr>\n",
       "      <th>3</th>\n",
       "      <td>NaN</td>\n",
       "      <td>test</td>\n",
       "      <td>Generation is a very expensive mutual for a re...</td>\n",
       "      <td>generation is a very expensive mutual for a re...</td>\n",
       "    </tr>\n",
       "    <tr>\n",
       "      <th>4</th>\n",
       "      <td>NaN</td>\n",
       "      <td>test</td>\n",
       "      <td>I just learned that I am struck off ... I call...</td>\n",
       "      <td>i just learned that i am struck off  i call an...</td>\n",
       "    </tr>\n",
       "  </tbody>\n",
       "</table>\n",
       "</div>"
      ],
      "text/plain": [
       "   score  type                                          review_en  \\\n",
       "0    NaN  test  I left my former insurance contract at General...   \n",
       "1    NaN  test  I subscribed to this mutual a year last year a...   \n",
       "2    NaN  test  Impossible to have the right service, they han...   \n",
       "3    NaN  test  Generation is a very expensive mutual for a re...   \n",
       "4    NaN  test  I just learned that I am struck off ... I call...   \n",
       "\n",
       "                                      review_cleaned  \n",
       "0  i left my former insurance contract at general...  \n",
       "1  i subscribed to this mutual a year last year a...  \n",
       "2  impossible to have the right service they hang...  \n",
       "3  generation is a very expensive mutual for a re...  \n",
       "4  i just learned that i am struck off  i call an...  "
      ]
     },
     "execution_count": 7,
     "metadata": {},
     "output_type": "execute_result"
    }
   ],
   "source": [
    "df.head()"
   ]
  },
  {
   "cell_type": "markdown",
   "metadata": {},
   "source": [
    "Spelling correction"
   ]
  },
  {
   "cell_type": "code",
   "execution_count": 8,
   "metadata": {},
   "outputs": [],
   "source": [
    "# # pip install textblob\n",
    "# from textblob import TextBlob\n",
    "# from tqdm import tqdm\n",
    "\n",
    "# def correct_spelling(sentence):\n",
    "#     blob = TextBlob(sentence)\n",
    "#     return str(blob.correct())\n",
    "\n",
    "# def correct_reviews_spelling(df, starting_column, final_column):\n",
    "#     # Adding tqdm progress bar to map\n",
    "#     tqdm.pandas()  # Initialize tqdm to work with pandas apply/map\n",
    "#     df[final_column] = df[starting_column].progress_apply(lambda r: correct_spelling(r))\n",
    "\n",
    "# correct_reviews_spelling(df, 'review_cleaned', 'review_cleaned')\n",
    "# df.head()"
   ]
  },
  {
   "cell_type": "markdown",
   "metadata": {},
   "source": [
    "Stopwords removal"
   ]
  },
  {
   "cell_type": "code",
   "execution_count": 9,
   "metadata": {},
   "outputs": [],
   "source": [
    "from nltk.corpus import stopwords\n",
    "\n",
    "def remove_stopwords(df, starting_column, final_column):\n",
    "    stop = stopwords.words('english')\n",
    "    df[final_column] = df[starting_column].apply(lambda x: ' '.join([word for word in x.split() if word not in (stop)]))\n",
    "\n",
    "remove_stopwords(df, 'review_cleaned', 'review_cleaned')"
   ]
  },
  {
   "cell_type": "markdown",
   "metadata": {},
   "source": [
    "Tokenization"
   ]
  },
  {
   "cell_type": "code",
   "execution_count": 10,
   "metadata": {},
   "outputs": [],
   "source": [
    "import nltk\n",
    "\n",
    "def tokenize(df, starting_column, final_column):\n",
    "    # Adds a column 'tokenized_rev' that contains for each entry a python list of words contained in the review\n",
    "    df[final_column] = df.apply(lambda row: nltk.word_tokenize(row[starting_column]), axis=1)\n",
    "\n",
    "tokenize(df, 'review_cleaned', 'review_cleaned')"
   ]
  },
  {
   "cell_type": "markdown",
   "metadata": {},
   "source": [
    "Lemmatization"
   ]
  },
  {
   "cell_type": "code",
   "execution_count": 11,
   "metadata": {},
   "outputs": [
    {
     "name": "stderr",
     "output_type": "stream",
     "text": [
      "[nltk_data] Downloading package averaged_perceptron_tagger_eng to\n",
      "[nltk_data]     /Users/Alberto/nltk_data...\n",
      "[nltk_data]   Package averaged_perceptron_tagger_eng is already up-to-\n",
      "[nltk_data]       date!\n",
      "[nltk_data] Downloading package wordnet to /Users/Alberto/nltk_data...\n",
      "[nltk_data]   Package wordnet is already up-to-date!\n",
      "[nltk_data] Downloading package punkt to /Users/Alberto/nltk_data...\n",
      "[nltk_data]   Package punkt is already up-to-date!\n"
     ]
    }
   ],
   "source": [
    "import nltk\n",
    "nltk.download('averaged_perceptron_tagger_eng')\n",
    "nltk.download('wordnet')\n",
    "nltk.download('punkt')  # If working with tokenized data\n",
    "from nltk.stem import WordNetLemmatizer\n",
    "from nltk.corpus import wordnet\n",
    "from nltk import pos_tag\n",
    "from nltk.corpus import wordnet\n",
    "\n",
    "# Function to map NLTK POS tags to WordNet POS tags\n",
    "def get_wordnet_pos(tag):\n",
    "    if tag.startswith('J'):\n",
    "        return wordnet.ADJ\n",
    "    elif tag.startswith('V'):\n",
    "        return wordnet.VERB\n",
    "    elif tag.startswith('N'):\n",
    "        return wordnet.NOUN\n",
    "    elif tag.startswith('R'):\n",
    "        return wordnet.ADV\n",
    "    else:\n",
    "        return wordnet.NOUN  # Default as noun\n",
    "\n",
    "# Lemmatization function with POS tagging\n",
    "def lemmatize_col(df, list_column_to_lemmatize, final_column):\n",
    "    lmtzr = WordNetLemmatizer()\n",
    "    # Tokenize and apply lemmatization with POS\n",
    "    df[final_column] = df[list_column_to_lemmatize].apply(lambda lst: [lmtzr.lemmatize(word, get_wordnet_pos(tag)) for word, tag in pos_tag(lst)]\n",
    "    )\n",
    "\n",
    "lemmatize_col(df, 'review_cleaned', 'review_cleaned')"
   ]
  },
  {
   "cell_type": "code",
   "execution_count": 12,
   "metadata": {},
   "outputs": [
    {
     "data": {
      "text/html": [
       "<div>\n",
       "<style scoped>\n",
       "    .dataframe tbody tr th:only-of-type {\n",
       "        vertical-align: middle;\n",
       "    }\n",
       "\n",
       "    .dataframe tbody tr th {\n",
       "        vertical-align: top;\n",
       "    }\n",
       "\n",
       "    .dataframe thead th {\n",
       "        text-align: right;\n",
       "    }\n",
       "</style>\n",
       "<table border=\"1\" class=\"dataframe\">\n",
       "  <thead>\n",
       "    <tr style=\"text-align: right;\">\n",
       "      <th></th>\n",
       "      <th>score</th>\n",
       "      <th>type</th>\n",
       "      <th>review_en</th>\n",
       "      <th>review_cleaned</th>\n",
       "    </tr>\n",
       "  </thead>\n",
       "  <tbody>\n",
       "    <tr>\n",
       "      <th>0</th>\n",
       "      <td>NaN</td>\n",
       "      <td>test</td>\n",
       "      <td>I left my former insurance contract at General...</td>\n",
       "      <td>[leave, former, insurance, contract, general, ...</td>\n",
       "    </tr>\n",
       "    <tr>\n",
       "      <th>1</th>\n",
       "      <td>NaN</td>\n",
       "      <td>test</td>\n",
       "      <td>I subscribed to this mutual a year last year a...</td>\n",
       "      <td>[subscribe, mutual, year, last, year, stay, ye...</td>\n",
       "    </tr>\n",
       "    <tr>\n",
       "      <th>2</th>\n",
       "      <td>NaN</td>\n",
       "      <td>test</td>\n",
       "      <td>Impossible to have the right service, they han...</td>\n",
       "      <td>[impossible, right, service, hang, nose, know,...</td>\n",
       "    </tr>\n",
       "    <tr>\n",
       "      <th>3</th>\n",
       "      <td>NaN</td>\n",
       "      <td>test</td>\n",
       "      <td>Generation is a very expensive mutual for a re...</td>\n",
       "      <td>[generation, expensive, mutual, retiree, 150, ...</td>\n",
       "    </tr>\n",
       "    <tr>\n",
       "      <th>4</th>\n",
       "      <td>NaN</td>\n",
       "      <td>test</td>\n",
       "      <td>I just learned that I am struck off ... I call...</td>\n",
       "      <td>[learn, strike, call, adviser, give, answer, s...</td>\n",
       "    </tr>\n",
       "  </tbody>\n",
       "</table>\n",
       "</div>"
      ],
      "text/plain": [
       "   score  type                                          review_en  \\\n",
       "0    NaN  test  I left my former insurance contract at General...   \n",
       "1    NaN  test  I subscribed to this mutual a year last year a...   \n",
       "2    NaN  test  Impossible to have the right service, they han...   \n",
       "3    NaN  test  Generation is a very expensive mutual for a re...   \n",
       "4    NaN  test  I just learned that I am struck off ... I call...   \n",
       "\n",
       "                                      review_cleaned  \n",
       "0  [leave, former, insurance, contract, general, ...  \n",
       "1  [subscribe, mutual, year, last, year, stay, ye...  \n",
       "2  [impossible, right, service, hang, nose, know,...  \n",
       "3  [generation, expensive, mutual, retiree, 150, ...  \n",
       "4  [learn, strike, call, adviser, give, answer, s...  "
      ]
     },
     "execution_count": 12,
     "metadata": {},
     "output_type": "execute_result"
    }
   ],
   "source": [
    "df.head()"
   ]
  },
  {
   "cell_type": "markdown",
   "metadata": {},
   "source": [
    "Handling Imbalanced Data"
   ]
  },
  {
   "cell_type": "code",
   "execution_count": 13,
   "metadata": {},
   "outputs": [
    {
     "name": "stdout",
     "output_type": "stream",
     "text": [
      "score\n",
      "1.0    7271\n",
      "4.0    4885\n",
      "5.0    4849\n",
      "2.0    3716\n",
      "3.0    3382\n",
      "Name: count, dtype: int64\n"
     ]
    },
    {
     "data": {
      "image/png": "[encoded data removed]",
      "text/plain": [
       "<Figure size 640x480 with 1 Axes>"
      ]
     },
     "metadata": {},
     "output_type": "display_data"
    }
   ],
   "source": [
    "import matplotlib.pyplot as plt\n",
    "\n",
    "# Check the distribution of labels\n",
    "label_counts = df['score'].value_counts()\n",
    "print(label_counts)\n",
    "\n",
    "# Plot the distribution of labels\n",
    "label_counts.plot(kind='bar')\n",
    "plt.title('Distribution of Ratings')\n",
    "plt.xlabel('Ratings')\n",
    "plt.ylabel('Count')\n",
    "plt.show()"
   ]
  },
  {
   "cell_type": "markdown",
   "metadata": {},
   "source": [
    "Highlighting frequent words"
   ]
  },
  {
   "cell_type": "code",
   "execution_count": 14,
   "metadata": {},
   "outputs": [],
   "source": [
    "# Convert review_cleaned back to strings\n",
    "df['review_cleaned_joined'] = df['review_cleaned'].apply(lambda x: ' '.join(x))"
   ]
  },
  {
   "cell_type": "code",
   "execution_count": 15,
   "metadata": {},
   "outputs": [
    {
     "name": "stdout",
     "output_type": "stream",
     "text": [
      "Top 10 frequent words: [('insurance', 18096), ('service', 11717), ('price', 11391), ('year', 9509), ('contract', 8857), ('take', 6839), ('customer', 6509), ('satisfied', 6256), ('month', 6084), ('make', 5899)]\n"
     ]
    }
   ],
   "source": [
    "from sklearn.feature_extraction.text import CountVectorizer\n",
    "\n",
    "# Initialize CountVectorizer to count words\n",
    "vectorizer = CountVectorizer()\n",
    "\n",
    "# Fit and transform the text data into a word frequency matrix\n",
    "X = vectorizer.fit_transform(df['review_cleaned_joined'])\n",
    "\n",
    "# Get the frequency of each word\n",
    "word_freq = dict(zip(vectorizer.get_feature_names_out(), X.toarray().sum(axis=0)))\n",
    "\n",
    "# Sort by frequency\n",
    "sorted_word_freq = dict(sorted(word_freq.items(), key=lambda item: item[1], reverse=True))\n",
    "\n",
    "# Display top 10 frequent words\n",
    "print(\"Top 10 frequent words:\", list(sorted_word_freq.items())[:10])"
   ]
  },
  {
   "cell_type": "markdown",
   "metadata": {},
   "source": [
    "N-grams"
   ]
  },
  {
   "cell_type": "code",
   "execution_count": 16,
   "metadata": {},
   "outputs": [
    {
     "name": "stdout",
     "output_type": "stream",
     "text": [
      "Top 10 frequent bigrams: [(('customer', 'service'), 2422), (('satisfied', 'service'), 2323), (('direct', 'insurance'), 1824), (('take', 'care'), 1067), (('can', 'not'), 951), (('satisfied', 'price'), 881), (('take', 'account'), 813), (('service', 'price'), 774), (('2', 'month'), 733), (('insurance', 'company'), 714)]\n"
     ]
    }
   ],
   "source": [
    "from nltk.util import ngrams\n",
    "from collections import Counter\n",
    "import matplotlib.pyplot as plt\n",
    "\n",
    "# Function to extract n-grams from a list of words\n",
    "def get_ngrams(text, n=2):\n",
    "    words = text.split()\n",
    "    return list(ngrams(words, n))\n",
    "\n",
    "# Generate bigrams (2-word combinations)\n",
    "bigrams = []\n",
    "for review in df['review_cleaned_joined']:\n",
    "    bigrams.extend(get_ngrams(review, n=2))\n",
    "\n",
    "# Count bigram frequencies\n",
    "bigram_freq = Counter(bigrams)\n",
    "\n",
    "# Display top 10 frequent bigrams\n",
    "print(\"Top 10 frequent bigrams:\", bigram_freq.most_common(10))"
   ]
  },
  {
   "cell_type": "code",
   "execution_count": 17,
   "metadata": {},
   "outputs": [
    {
     "data": {
      "image/png": "[encoded data removed]",
      "text/plain": [
       "<Figure size 640x480 with 1 Axes>"
      ]
     },
     "metadata": {},
     "output_type": "display_data"
    },
    {
     "data": {
      "image/png": "[encoded data removed]",
      "text/plain": [
       "<Figure size 640x480 with 1 Axes>"
      ]
     },
     "metadata": {},
     "output_type": "display_data"
    }
   ],
   "source": [
    "# Plotting the top 10 frequent words\n",
    "top_words = list(sorted_word_freq.items())[:10]\n",
    "words, counts = zip(*top_words)\n",
    "\n",
    "plt.bar(words, counts)\n",
    "plt.xlabel('Words')\n",
    "plt.ylabel('Frequency')\n",
    "plt.title('Top 10 Frequent Words')\n",
    "plt.xticks(rotation=45)\n",
    "plt.show()\n",
    "\n",
    "# Plotting the top 10 frequent bigrams\n",
    "top_bigrams = bigram_freq.most_common(10)\n",
    "bigram_labels, bigram_counts = zip(*top_bigrams)\n",
    "\n",
    "# Convert bigrams tuple to string format for plotting\n",
    "bigram_labels = [' '.join(bigram) for bigram in bigram_labels]\n",
    "\n",
    "plt.bar(bigram_labels, bigram_counts)\n",
    "plt.xlabel('Bigrams')\n",
    "plt.ylabel('Frequency')\n",
    "plt.title('Top 10 Frequent Bigrams')\n",
    "plt.xticks(rotation=45)\n",
    "plt.show()"
   ]
  },
  {
   "cell_type": "markdown",
   "metadata": {},
   "source": [
    "# 2) Summary, Translation, and Generation"
   ]
  },
  {
   "cell_type": "code",
   "execution_count": 18,
   "metadata": {},
   "outputs": [],
   "source": [
    "# Save the results in a file\n",
    "df.to_csv('data_cleaned.csv', index=False)"
   ]
  },
  {
   "cell_type": "code",
   "execution_count": 19,
   "metadata": {},
   "outputs": [
    {
     "data": {
      "text/html": [
       "<div>\n",
       "<style scoped>\n",
       "    .dataframe tbody tr th:only-of-type {\n",
       "        vertical-align: middle;\n",
       "    }\n",
       "\n",
       "    .dataframe tbody tr th {\n",
       "        vertical-align: top;\n",
       "    }\n",
       "\n",
       "    .dataframe thead th {\n",
       "        text-align: right;\n",
       "    }\n",
       "</style>\n",
       "<table border=\"1\" class=\"dataframe\">\n",
       "  <thead>\n",
       "    <tr style=\"text-align: right;\">\n",
       "      <th></th>\n",
       "      <th>score</th>\n",
       "      <th>type</th>\n",
       "      <th>review_en</th>\n",
       "      <th>review_cleaned</th>\n",
       "      <th>review_cleaned_joined</th>\n",
       "    </tr>\n",
       "  </thead>\n",
       "  <tbody>\n",
       "    <tr>\n",
       "      <th>0</th>\n",
       "      <td>NaN</td>\n",
       "      <td>test</td>\n",
       "      <td>I left my former insurance contract at General...</td>\n",
       "      <td>[leave, former, insurance, contract, general, ...</td>\n",
       "      <td>leave former insurance contract general year j...</td>\n",
       "    </tr>\n",
       "    <tr>\n",
       "      <th>1</th>\n",
       "      <td>NaN</td>\n",
       "      <td>test</td>\n",
       "      <td>I subscribed to this mutual a year last year a...</td>\n",
       "      <td>[subscribe, mutual, year, last, year, stay, ye...</td>\n",
       "      <td>subscribe mutual year last year stay year find...</td>\n",
       "    </tr>\n",
       "    <tr>\n",
       "      <th>2</th>\n",
       "      <td>NaN</td>\n",
       "      <td>test</td>\n",
       "      <td>Impossible to have the right service, they han...</td>\n",
       "      <td>[impossible, right, service, hang, nose, know,...</td>\n",
       "      <td>impossible right service hang nose know answer...</td>\n",
       "    </tr>\n",
       "    <tr>\n",
       "      <th>3</th>\n",
       "      <td>NaN</td>\n",
       "      <td>test</td>\n",
       "      <td>Generation is a very expensive mutual for a re...</td>\n",
       "      <td>[generation, expensive, mutual, retiree, 150, ...</td>\n",
       "      <td>generation expensive mutual retiree 150 per mo...</td>\n",
       "    </tr>\n",
       "    <tr>\n",
       "      <th>4</th>\n",
       "      <td>NaN</td>\n",
       "      <td>test</td>\n",
       "      <td>I just learned that I am struck off ... I call...</td>\n",
       "      <td>[learn, strike, call, adviser, give, answer, s...</td>\n",
       "      <td>learn strike call adviser give answer sends nu...</td>\n",
       "    </tr>\n",
       "  </tbody>\n",
       "</table>\n",
       "</div>"
      ],
      "text/plain": [
       "   score  type                                          review_en  \\\n",
       "0    NaN  test  I left my former insurance contract at General...   \n",
       "1    NaN  test  I subscribed to this mutual a year last year a...   \n",
       "2    NaN  test  Impossible to have the right service, they han...   \n",
       "3    NaN  test  Generation is a very expensive mutual for a re...   \n",
       "4    NaN  test  I just learned that I am struck off ... I call...   \n",
       "\n",
       "                                      review_cleaned  \\\n",
       "0  [leave, former, insurance, contract, general, ...   \n",
       "1  [subscribe, mutual, year, last, year, stay, ye...   \n",
       "2  [impossible, right, service, hang, nose, know,...   \n",
       "3  [generation, expensive, mutual, retiree, 150, ...   \n",
       "4  [learn, strike, call, adviser, give, answer, s...   \n",
       "\n",
       "                               review_cleaned_joined  \n",
       "0  leave former insurance contract general year j...  \n",
       "1  subscribe mutual year last year stay year find...  \n",
       "2  impossible right service hang nose know answer...  \n",
       "3  generation expensive mutual retiree 150 per mo...  \n",
       "4  learn strike call adviser give answer sends nu...  "
      ]
     },
     "execution_count": 19,
     "metadata": {},
     "output_type": "execute_result"
    }
   ],
   "source": [
    "df.head()"
   ]
  },
  {
   "cell_type": "markdown",
   "metadata": {},
   "source": [
    "# 3) Topic modeling and Lists of Topics"
   ]
  },
  {
   "cell_type": "code",
   "execution_count": 20,
   "metadata": {},
   "outputs": [
    {
     "name": "stdout",
     "output_type": "stream",
     "text": [
      "Extracted Topics:\n",
      "Topic 1: insurance, year, vehicle, car, expert, accident, claim, pay, home, damage\n",
      "Topic 2: good, service, thank, satisfied, phone, advisor, telephone, recommend, listen, clear\n",
      "Topic 3: month, mutual, service, time, file, insurance, wait, email, customer, phone\n",
      "Topic 4: contract, insurance, year, pay, month, receive, make, send, increase, terminate\n",
      "Topic 5: price, insurance, service, satisfied, recommend, good, simple, offer, direct, customer\n"
     ]
    }
   ],
   "source": [
    "# Topic Modeling and Lists of Topics\n",
    "import pandas as pd\n",
    "from sklearn.feature_extraction.text import TfidfVectorizer, CountVectorizer\n",
    "from sklearn.decomposition import LatentDirichletAllocation\n",
    " \n",
    "# Ensure 'review_cleaned_joined' column is cleaned and ready\n",
    "df['review_cleaned_joined'] = df['review_cleaned_joined'].fillna(\"\").astype(str)\n",
    " \n",
    "# Use CountVectorizer for LDA\n",
    "vectorizer = CountVectorizer(max_features=5000, stop_words='english')\n",
    " \n",
    "doc_term_matrix = vectorizer.fit_transform(df['review_cleaned_joined'])\n",
    " \n",
    "# Define the number of topics\n",
    "n_topics = 5  # Change this value based on your preference\n",
    "lda_model = LatentDirichletAllocation(n_components=n_topics, random_state=42)\n",
    "lda_model.fit(doc_term_matrix)\n",
    " \n",
    "# Extract topics and top words\n",
    "def get_topics(model, feature_names, n_top_words):\n",
    "    topics = []\n",
    "    for topic_idx, topic in enumerate(model.components_):\n",
    "        top_words = [feature_names[i] for i in topic.argsort()[:-n_top_words - 1:-1]]\n",
    "        topics.append(f\"Topic {topic_idx + 1}: {', '.join(top_words)}\")\n",
    "    return topics\n",
    " \n",
    "n_top_words = 10  # Number of words per topic\n",
    "feature_names = vectorizer.get_feature_names_out()\n",
    "topics = get_topics(lda_model, feature_names, n_top_words)\n",
    " \n",
    "# Print or save the topics\n",
    "print(\"Extracted Topics:\")\n",
    "for topic in topics:\n",
    "    print(topic)"
   ]
  },
  {
   "cell_type": "markdown",
   "metadata": {},
   "source": [
    "# 4) Embedding to Identify Similar Words"
   ]
  },
  {
   "cell_type": "markdown",
   "metadata": {},
   "source": [
    "Word2Vec Training"
   ]
  },
  {
   "cell_type": "code",
   "execution_count": 21,
   "metadata": {},
   "outputs": [],
   "source": [
    "# pip install pandas gensim matplotlib scikit-learn"
   ]
  },
  {
   "cell_type": "code",
   "execution_count": 22,
   "metadata": {},
   "outputs": [
    {
     "name": "stderr",
     "output_type": "stream",
     "text": [
      "[nltk_data] Downloading package punkt to /Users/Alberto/nltk_data...\n",
      "[nltk_data]   Package punkt is already up-to-date!\n"
     ]
    }
   ],
   "source": [
    "from gensim.models import Word2Vec\n",
    "from nltk.tokenize import word_tokenize\n",
    "import nltk\n",
    "nltk.download('punkt')\n",
    "\n",
    "# Train a Word2Vec model\n",
    "model = Word2Vec(sentences=df[\"review_cleaned\"], vector_size=50, window=5, min_count=1, workers=1, sg=1)\n",
    "\n",
    "# Save the trained model for future use\n",
    "model.save(\"word2vec.model\")\n"
   ]
  },
  {
   "cell_type": "markdown",
   "metadata": {},
   "source": [
    "Visualization of embeddings with Matplotlib and Tensorboard"
   ]
  },
  {
   "cell_type": "code",
   "execution_count": 23,
   "metadata": {},
   "outputs": [
    {
     "name": "stderr",
     "output_type": "stream",
     "text": [
      "Plotting words: 100%|██████████| 20/20 [00:00<00:00, 636.44it/s]\n"
     ]
    },
    {
     "data": {
      "image/png": "[encoded data removed]",
      "text/plain": [
       "<Figure size 800x600 with 1 Axes>"
      ]
     },
     "metadata": {},
     "output_type": "display_data"
    }
   ],
   "source": [
    "from sklearn.decomposition import PCA\n",
    "import matplotlib.pyplot as plt\n",
    "from tqdm import tqdm\n",
    "import random\n",
    "\n",
    "# Get word vectors\n",
    "words = list(model.wv.index_to_key)\n",
    "word_vectors = [model.wv[word] for word in words]\n",
    "\n",
    "# Reduce dimensions to 2D\n",
    "pca = PCA(n_components=2)\n",
    "word_vectors_2d = pca.fit_transform(word_vectors)\n",
    "\n",
    "# Select some random words and their corresponding vectors\n",
    "random_indices = random.sample(range(len(words)), 20)\n",
    "random_words = [words[i] for i in random_indices]\n",
    "random_word_vectors_2d = word_vectors_2d[random_indices]\n",
    "\n",
    "# Plot only random word embeddings with tqdm progress bar\n",
    "plt.figure(figsize=(8, 6))\n",
    "for i, word in tqdm(enumerate(random_words), total=len(random_words), desc=\"Plotting words\"):\n",
    "    plt.scatter(random_word_vectors_2d[i, 0], random_word_vectors_2d[i, 1])\n",
    "    plt.annotate(word, (random_word_vectors_2d[i, 0], random_word_vectors_2d[i, 1]))\n",
    "\n",
    "plt.title(\"Random Word Embeddings Visualized\")\n",
    "plt.show()"
   ]
  },
  {
   "cell_type": "markdown",
   "metadata": {},
   "source": [
    "Implementation of Euclidean or cosine distance"
   ]
  },
  {
   "cell_type": "code",
   "execution_count": 24,
   "metadata": {},
   "outputs": [
    {
     "name": "stdout",
     "output_type": "stream",
     "text": [
      "Words similar to 'gas': [('tricolor', 0.975225567817688), ('perception', 0.9741259217262268), ('ibsi', 0.9741145372390747)]\n"
     ]
    }
   ],
   "source": [
    "from scipy.spatial.distance import cosine\n",
    "\n",
    "# Find similar words\n",
    "def find_similar_words(word, top_n=3):\n",
    "    similar_words = model.wv.most_similar(word, topn=top_n)\n",
    "    return similar_words\n",
    "\n",
    "# Example: Find similar words to \"gas\"\n",
    "similar = find_similar_words(\"gas\")\n",
    "print(\"Words similar to 'gas':\", similar)\n"
   ]
  },
  {
   "cell_type": "markdown",
   "metadata": {},
   "source": [
    "Semantic search"
   ]
  },
  {
   "cell_type": "code",
   "execution_count": 25,
   "metadata": {},
   "outputs": [
    {
     "name": "stderr",
     "output_type": "stream",
     "text": [
      "/opt/anaconda3/lib/python3.11/site-packages/scipy/spatial/distance.py:647: RuntimeWarning: invalid value encountered in scalar divide\n",
      "  dist = 1.0 - uv / math.sqrt(uu * vv)\n"
     ]
    },
    {
     "name": "stdout",
     "output_type": "stream",
     "text": [
      "Query: Very satisfied with my mutual insurance\n",
      "Most similar sentences:\n",
      "                                   review_cleaned_joined  similarity\n",
      "5542   good insurance part happy mutual néoliane reas...    0.978881\n",
      "2085                                    satisfied mutual    0.974397\n",
      "30894  quick reimbursement advantageous price really ...    0.973999\n"
     ]
    }
   ],
   "source": [
    "import numpy as np\n",
    "\n",
    "# Get sentence embeddings by averaging word embeddings\n",
    "def get_sentence_embedding(sentence):\n",
    "    words = word_tokenize(sentence)\n",
    "    word_embeddings = [model.wv[word] for word in words if word in model.wv]\n",
    "    if word_embeddings:\n",
    "        return np.mean(word_embeddings, axis=0)\n",
    "    else:\n",
    "        return np.zeros(model.vector_size)\n",
    "\n",
    "# Search for the most similar sentences\n",
    "def semantic_search(query, df, top_n=3):\n",
    "    query_embedding = get_sentence_embedding(query)\n",
    "    df[\"similarity\"] = df[\"review_cleaned_joined\"].apply(\n",
    "        lambda x: 1 - cosine(query_embedding, get_sentence_embedding(x))\n",
    "    )\n",
    "    return df.sort_values(by=\"similarity\", ascending=False).head(top_n)\n",
    "\n",
    "# Example: Search similar sentences to \"Very satisfied with my mutual insurance\"\n",
    "query = \"Very satisfied with my mutual insurance\"\n",
    "results = semantic_search(query, df)\n",
    "print(\"Query:\", query)\n",
    "print(\"Most similar sentences:\")\n",
    "print(results[[\"review_cleaned_joined\", \"similarity\"]])\n"
   ]
  },
  {
   "cell_type": "code",
   "execution_count": 26,
   "metadata": {},
   "outputs": [],
   "source": [
    "df.drop(columns=['similarity'], inplace=True)"
   ]
  },
  {
   "cell_type": "markdown",
   "metadata": {},
   "source": [
    "# 5.1) Rating Prediction application\n",
    "\n",
    "    Model that, given a review, predicts number of stars"
   ]
  },
  {
   "cell_type": "markdown",
   "metadata": {},
   "source": [
    "Purpose of TF-IDF: counting occurrencies of the words (word frequency)\n",
    "Purpose of word embeddings: encode the semantic meaning of words\n",
    "\n",
    "Example: “good” and “great” are unrelated in TF-IDF, but very close in word embeddings\n",
    "\n",
    "We use word embeddings for deep learning models, and we use TF-IDF for simple classical ML models.\n",
    "So now we don't use word embeddings"
   ]
  },
  {
   "cell_type": "markdown",
   "metadata": {},
   "source": [
    "> TF-IDF"
   ]
  },
  {
   "cell_type": "code",
   "execution_count": 27,
   "metadata": {},
   "outputs": [],
   "source": [
    "from sklearn.feature_extraction.text import TfidfVectorizer\n",
    "\n",
    "# Initialize and fit TF-IDF vectorizer\n",
    "tfidf = TfidfVectorizer()  # Limit features to improve efficiency max_features=5000\n",
    "tfidf_matrix = tfidf.fit_transform(df['review_cleaned_joined'])"
   ]
  },
  {
   "cell_type": "code",
   "execution_count": 28,
   "metadata": {},
   "outputs": [
    {
     "data": {
      "text/html": [
       "<div>\n",
       "<style scoped>\n",
       "    .dataframe tbody tr th:only-of-type {\n",
       "        vertical-align: middle;\n",
       "    }\n",
       "\n",
       "    .dataframe tbody tr th {\n",
       "        vertical-align: top;\n",
       "    }\n",
       "\n",
       "    .dataframe thead th {\n",
       "        text-align: right;\n",
       "    }\n",
       "</style>\n",
       "<table border=\"1\" class=\"dataframe\">\n",
       "  <thead>\n",
       "    <tr style=\"text-align: right;\">\n",
       "      <th></th>\n",
       "      <th>score</th>\n",
       "      <th>type</th>\n",
       "      <th>review_en</th>\n",
       "      <th>review_cleaned</th>\n",
       "      <th>review_cleaned_joined</th>\n",
       "    </tr>\n",
       "  </thead>\n",
       "  <tbody>\n",
       "    <tr>\n",
       "      <th>0</th>\n",
       "      <td>NaN</td>\n",
       "      <td>test</td>\n",
       "      <td>I left my former insurance contract at General...</td>\n",
       "      <td>[leave, former, insurance, contract, general, ...</td>\n",
       "      <td>leave former insurance contract general year j...</td>\n",
       "    </tr>\n",
       "    <tr>\n",
       "      <th>1</th>\n",
       "      <td>NaN</td>\n",
       "      <td>test</td>\n",
       "      <td>I subscribed to this mutual a year last year a...</td>\n",
       "      <td>[subscribe, mutual, year, last, year, stay, ye...</td>\n",
       "      <td>subscribe mutual year last year stay year find...</td>\n",
       "    </tr>\n",
       "    <tr>\n",
       "      <th>2</th>\n",
       "      <td>NaN</td>\n",
       "      <td>test</td>\n",
       "      <td>Impossible to have the right service, they han...</td>\n",
       "      <td>[impossible, right, service, hang, nose, know,...</td>\n",
       "      <td>impossible right service hang nose know answer...</td>\n",
       "    </tr>\n",
       "    <tr>\n",
       "      <th>3</th>\n",
       "      <td>NaN</td>\n",
       "      <td>test</td>\n",
       "      <td>Generation is a very expensive mutual for a re...</td>\n",
       "      <td>[generation, expensive, mutual, retiree, 150, ...</td>\n",
       "      <td>generation expensive mutual retiree 150 per mo...</td>\n",
       "    </tr>\n",
       "    <tr>\n",
       "      <th>4</th>\n",
       "      <td>NaN</td>\n",
       "      <td>test</td>\n",
       "      <td>I just learned that I am struck off ... I call...</td>\n",
       "      <td>[learn, strike, call, adviser, give, answer, s...</td>\n",
       "      <td>learn strike call adviser give answer sends nu...</td>\n",
       "    </tr>\n",
       "  </tbody>\n",
       "</table>\n",
       "</div>"
      ],
      "text/plain": [
       "   score  type                                          review_en  \\\n",
       "0    NaN  test  I left my former insurance contract at General...   \n",
       "1    NaN  test  I subscribed to this mutual a year last year a...   \n",
       "2    NaN  test  Impossible to have the right service, they han...   \n",
       "3    NaN  test  Generation is a very expensive mutual for a re...   \n",
       "4    NaN  test  I just learned that I am struck off ... I call...   \n",
       "\n",
       "                                      review_cleaned  \\\n",
       "0  [leave, former, insurance, contract, general, ...   \n",
       "1  [subscribe, mutual, year, last, year, stay, ye...   \n",
       "2  [impossible, right, service, hang, nose, know,...   \n",
       "3  [generation, expensive, mutual, retiree, 150, ...   \n",
       "4  [learn, strike, call, adviser, give, answer, s...   \n",
       "\n",
       "                               review_cleaned_joined  \n",
       "0  leave former insurance contract general year j...  \n",
       "1  subscribe mutual year last year stay year find...  \n",
       "2  impossible right service hang nose know answer...  \n",
       "3  generation expensive mutual retiree 150 per mo...  \n",
       "4  learn strike call adviser give answer sends nu...  "
      ]
     },
     "execution_count": 28,
     "metadata": {},
     "output_type": "execute_result"
    }
   ],
   "source": [
    "df.head()"
   ]
  },
  {
   "cell_type": "code",
   "execution_count": 29,
   "metadata": {},
   "outputs": [
    {
     "data": {
      "text/plain": [
       "['./logistic_regression_model.pkl']"
      ]
     },
     "execution_count": 29,
     "metadata": {},
     "output_type": "execute_result"
    }
   ],
   "source": [
    "from sklearn.linear_model import LogisticRegression\n",
    "import joblib\n",
    "from sklearn.model_selection import train_test_split\n",
    "\n",
    "# Drop rows where 'score' is NaN\n",
    "df_new = df.dropna(subset=['score'])\n",
    "\n",
    "# Generate the dataset using TF-IDF vectorizer\n",
    "X = tfidf.fit_transform(df_new['review_cleaned_joined'])\n",
    "y = df_new['score']\n",
    "\n",
    "# Split the dataset into training and test sets\n",
    "X_train, X_test, y_train, y_test = train_test_split(X, y, test_size=0.2, random_state=42)\n",
    "\n",
    "# Initialize and train the Logistic Regression model\n",
    "log_reg = LogisticRegression(max_iter=1000)\n",
    "log_reg.fit(X_train, y_train)\n",
    "\n",
    "# Make predictions on the test data\n",
    "y_pred = log_reg.predict(X_test)\n",
    "\n",
    "# Save the trained Logistic Regression model\n",
    "joblib.dump(log_reg, './logistic_regression_model.pkl')"
   ]
  },
  {
   "cell_type": "code",
   "execution_count": 30,
   "metadata": {},
   "outputs": [
    {
     "name": "stdout",
     "output_type": "stream",
     "text": [
      "Predicted Rating: 4.0\n"
     ]
    }
   ],
   "source": [
    "# EXAMPLE\n",
    "# Sample review for prediction\n",
    "sample_review = [\"Very good\"]\n",
    "\n",
    "# Transform the sample review using the TF-IDF vectorizer\n",
    "sample_review_tfidf = tfidf.transform(sample_review)\n",
    "\n",
    "# Predict the rating using the trained logistic regression model\n",
    "predicted_rating = log_reg.predict(sample_review_tfidf)\n",
    "\n",
    "print(f\"Predicted Rating: {predicted_rating[0]}\")"
   ]
  },
  {
   "cell_type": "markdown",
   "metadata": {},
   "source": [
    "# 5.2) Sentiment analysis"
   ]
  },
  {
   "cell_type": "code",
   "execution_count": 31,
   "metadata": {},
   "outputs": [
    {
     "data": {
      "text/html": [
       "<div>\n",
       "<style scoped>\n",
       "    .dataframe tbody tr th:only-of-type {\n",
       "        vertical-align: middle;\n",
       "    }\n",
       "\n",
       "    .dataframe tbody tr th {\n",
       "        vertical-align: top;\n",
       "    }\n",
       "\n",
       "    .dataframe thead th {\n",
       "        text-align: right;\n",
       "    }\n",
       "</style>\n",
       "<table border=\"1\" class=\"dataframe\">\n",
       "  <thead>\n",
       "    <tr style=\"text-align: right;\">\n",
       "      <th></th>\n",
       "      <th>score</th>\n",
       "      <th>type</th>\n",
       "      <th>review_en</th>\n",
       "      <th>review_cleaned</th>\n",
       "      <th>review_cleaned_joined</th>\n",
       "    </tr>\n",
       "  </thead>\n",
       "  <tbody>\n",
       "    <tr>\n",
       "      <th>0</th>\n",
       "      <td>NaN</td>\n",
       "      <td>test</td>\n",
       "      <td>I left my former insurance contract at General...</td>\n",
       "      <td>[leave, former, insurance, contract, general, ...</td>\n",
       "      <td>leave former insurance contract general year j...</td>\n",
       "    </tr>\n",
       "    <tr>\n",
       "      <th>1</th>\n",
       "      <td>NaN</td>\n",
       "      <td>test</td>\n",
       "      <td>I subscribed to this mutual a year last year a...</td>\n",
       "      <td>[subscribe, mutual, year, last, year, stay, ye...</td>\n",
       "      <td>subscribe mutual year last year stay year find...</td>\n",
       "    </tr>\n",
       "    <tr>\n",
       "      <th>2</th>\n",
       "      <td>NaN</td>\n",
       "      <td>test</td>\n",
       "      <td>Impossible to have the right service, they han...</td>\n",
       "      <td>[impossible, right, service, hang, nose, know,...</td>\n",
       "      <td>impossible right service hang nose know answer...</td>\n",
       "    </tr>\n",
       "    <tr>\n",
       "      <th>3</th>\n",
       "      <td>NaN</td>\n",
       "      <td>test</td>\n",
       "      <td>Generation is a very expensive mutual for a re...</td>\n",
       "      <td>[generation, expensive, mutual, retiree, 150, ...</td>\n",
       "      <td>generation expensive mutual retiree 150 per mo...</td>\n",
       "    </tr>\n",
       "    <tr>\n",
       "      <th>4</th>\n",
       "      <td>NaN</td>\n",
       "      <td>test</td>\n",
       "      <td>I just learned that I am struck off ... I call...</td>\n",
       "      <td>[learn, strike, call, adviser, give, answer, s...</td>\n",
       "      <td>learn strike call adviser give answer sends nu...</td>\n",
       "    </tr>\n",
       "  </tbody>\n",
       "</table>\n",
       "</div>"
      ],
      "text/plain": [
       "   score  type                                          review_en  \\\n",
       "0    NaN  test  I left my former insurance contract at General...   \n",
       "1    NaN  test  I subscribed to this mutual a year last year a...   \n",
       "2    NaN  test  Impossible to have the right service, they han...   \n",
       "3    NaN  test  Generation is a very expensive mutual for a re...   \n",
       "4    NaN  test  I just learned that I am struck off ... I call...   \n",
       "\n",
       "                                      review_cleaned  \\\n",
       "0  [leave, former, insurance, contract, general, ...   \n",
       "1  [subscribe, mutual, year, last, year, stay, ye...   \n",
       "2  [impossible, right, service, hang, nose, know,...   \n",
       "3  [generation, expensive, mutual, retiree, 150, ...   \n",
       "4  [learn, strike, call, adviser, give, answer, s...   \n",
       "\n",
       "                               review_cleaned_joined  \n",
       "0  leave former insurance contract general year j...  \n",
       "1  subscribe mutual year last year stay year find...  \n",
       "2  impossible right service hang nose know answer...  \n",
       "3  generation expensive mutual retiree 150 per mo...  \n",
       "4  learn strike call adviser give answer sends nu...  "
      ]
     },
     "execution_count": 31,
     "metadata": {},
     "output_type": "execute_result"
    }
   ],
   "source": [
    "df.head()"
   ]
  },
  {
   "cell_type": "markdown",
   "metadata": {},
   "source": [
    "Zero-shot classification to label dataset"
   ]
  },
  {
   "cell_type": "code",
   "execution_count": 32,
   "metadata": {},
   "outputs": [
    {
     "name": "stderr",
     "output_type": "stream",
     "text": [
      "Some weights of DistilBertForSequenceClassification were not initialized from the model checkpoint at distilbert-base-uncased and are newly initialized: ['classifier.bias', 'classifier.weight', 'pre_classifier.bias', 'pre_classifier.weight']\n",
      "You should probably TRAIN this model on a down-stream task to be able to use it for predictions and inference.\n",
      "/opt/anaconda3/lib/python3.11/site-packages/transformers/tokenization_utils_base.py:1601: FutureWarning: `clean_up_tokenization_spaces` was not set. It will be set to `True` by default. This behavior will be depracted in transformers v4.45, and will be then set to `False` by default. For more details check this issue: https://github.com/huggingface/transformers/issues/31884\n",
      "  warnings.warn(\n",
      "Failed to determine 'entailment' label id from the label2id mapping in the model config. Setting to -1. Define a descriptive label2id mapping in the model config to ensure correct outputs.\n",
      "Processing Batches: 100%|██████████| 2153/2153 [4:48:14<00:00,  8.03s/batch]    \n"
     ]
    },
    {
     "name": "stdout",
     "output_type": "stream",
     "text": [
      "                                               review_en sentiment\n",
      "0      I left my former insurance contract at General...  negative\n",
      "1      I subscribed to this mutual a year last year a...  negative\n",
      "2      Impossible to have the right service, they han...  negative\n",
      "3      Generation is a very expensive mutual for a re...  negative\n",
      "4      I just learned that I am struck off ... I call...  negative\n",
      "...                                                  ...       ...\n",
      "34430     For the moment I am satisfied with this mutual  positive\n",
      "34431  The service and support are of very good quali...  negative\n",
      "34432  The worst insurance in which I was.\\nDoubly of...  negative\n",
      "34433  I am satisfied. The price suits me. Cheap. The...  negative\n",
      "34434  Very well, good speed I highly recommend, effi...  positive\n",
      "\n",
      "[34433 rows x 2 columns]\n"
     ]
    }
   ],
   "source": [
    "from transformers import pipeline\n",
    "from tqdm import tqdm  # Progress bar library\n",
    "import pandas as pd\n",
    "\n",
    "# Initialize the pipeline\n",
    "model_name = \"distilbert-base-uncased\"\n",
    "classifier = pipeline(\"zero-shot-classification\", model=model_name, device=0)  # Use GPU if available\n",
    "\n",
    "# Load data\n",
    "df = pd.DataFrame(df)\n",
    "candidate_labels = [\"positive\", \"neutral\", \"negative\"]\n",
    "\n",
    "# Batch processing with tqdm\n",
    "batch_size = 16  # Adjust based on system capabilities\n",
    "sentiments = []\n",
    "for i in tqdm(range(0, len(df), batch_size), desc=\"Processing Batches\", unit=\"batch\"):\n",
    "    batch_reviews = df['review_en'][i:i + batch_size].tolist()\n",
    "    results = classifier(batch_reviews, candidate_labels=candidate_labels)\n",
    "    sentiments.extend([result['labels'][0] for result in results])\n",
    "\n",
    "df['sentiment'] = sentiments\n",
    "print(df[['review_en', 'sentiment']])"
   ]
  },
  {
   "cell_type": "code",
   "execution_count": 43,
   "metadata": {},
   "outputs": [],
   "source": [
    "# Save the dataframe with sentiments to a CSV file\n",
    "df.to_csv('sentiment_analysis_results.csv', index=False)"
   ]
  },
  {
   "cell_type": "markdown",
   "metadata": {},
   "source": [
    "Supervised learning model"
   ]
  },
  {
   "cell_type": "code",
   "execution_count": 44,
   "metadata": {},
   "outputs": [
    {
     "data": {
      "text/html": [
       "<div>\n",
       "<style scoped>\n",
       "    .dataframe tbody tr th:only-of-type {\n",
       "        vertical-align: middle;\n",
       "    }\n",
       "\n",
       "    .dataframe tbody tr th {\n",
       "        vertical-align: top;\n",
       "    }\n",
       "\n",
       "    .dataframe thead th {\n",
       "        text-align: right;\n",
       "    }\n",
       "</style>\n",
       "<table border=\"1\" class=\"dataframe\">\n",
       "  <thead>\n",
       "    <tr style=\"text-align: right;\">\n",
       "      <th></th>\n",
       "      <th>score</th>\n",
       "      <th>type</th>\n",
       "      <th>review_en</th>\n",
       "      <th>review_cleaned</th>\n",
       "      <th>review_cleaned_joined</th>\n",
       "      <th>sentiment</th>\n",
       "    </tr>\n",
       "  </thead>\n",
       "  <tbody>\n",
       "    <tr>\n",
       "      <th>0</th>\n",
       "      <td>NaN</td>\n",
       "      <td>test</td>\n",
       "      <td>I left my former insurance contract at General...</td>\n",
       "      <td>['leave', 'former', 'insurance', 'contract', '...</td>\n",
       "      <td>leave former insurance contract general year j...</td>\n",
       "      <td>negative</td>\n",
       "    </tr>\n",
       "    <tr>\n",
       "      <th>1</th>\n",
       "      <td>NaN</td>\n",
       "      <td>test</td>\n",
       "      <td>I subscribed to this mutual a year last year a...</td>\n",
       "      <td>['subscribe', 'mutual', 'year', 'last', 'year'...</td>\n",
       "      <td>subscribe mutual year last year stay year find...</td>\n",
       "      <td>negative</td>\n",
       "    </tr>\n",
       "    <tr>\n",
       "      <th>2</th>\n",
       "      <td>NaN</td>\n",
       "      <td>test</td>\n",
       "      <td>Impossible to have the right service, they han...</td>\n",
       "      <td>['impossible', 'right', 'service', 'hang', 'no...</td>\n",
       "      <td>impossible right service hang nose know answer...</td>\n",
       "      <td>negative</td>\n",
       "    </tr>\n",
       "    <tr>\n",
       "      <th>3</th>\n",
       "      <td>NaN</td>\n",
       "      <td>test</td>\n",
       "      <td>Generation is a very expensive mutual for a re...</td>\n",
       "      <td>['generation', 'expensive', 'mutual', 'retiree...</td>\n",
       "      <td>generation expensive mutual retiree 150 per mo...</td>\n",
       "      <td>negative</td>\n",
       "    </tr>\n",
       "    <tr>\n",
       "      <th>4</th>\n",
       "      <td>NaN</td>\n",
       "      <td>test</td>\n",
       "      <td>I just learned that I am struck off ... I call...</td>\n",
       "      <td>['learn', 'strike', 'call', 'adviser', 'give',...</td>\n",
       "      <td>learn strike call adviser give answer sends nu...</td>\n",
       "      <td>negative</td>\n",
       "    </tr>\n",
       "  </tbody>\n",
       "</table>\n",
       "</div>"
      ],
      "text/plain": [
       "   score  type                                          review_en  \\\n",
       "0    NaN  test  I left my former insurance contract at General...   \n",
       "1    NaN  test  I subscribed to this mutual a year last year a...   \n",
       "2    NaN  test  Impossible to have the right service, they han...   \n",
       "3    NaN  test  Generation is a very expensive mutual for a re...   \n",
       "4    NaN  test  I just learned that I am struck off ... I call...   \n",
       "\n",
       "                                      review_cleaned  \\\n",
       "0  ['leave', 'former', 'insurance', 'contract', '...   \n",
       "1  ['subscribe', 'mutual', 'year', 'last', 'year'...   \n",
       "2  ['impossible', 'right', 'service', 'hang', 'no...   \n",
       "3  ['generation', 'expensive', 'mutual', 'retiree...   \n",
       "4  ['learn', 'strike', 'call', 'adviser', 'give',...   \n",
       "\n",
       "                               review_cleaned_joined sentiment  \n",
       "0  leave former insurance contract general year j...  negative  \n",
       "1  subscribe mutual year last year stay year find...  negative  \n",
       "2  impossible right service hang nose know answer...  negative  \n",
       "3  generation expensive mutual retiree 150 per mo...  negative  \n",
       "4  learn strike call adviser give answer sends nu...  negative  "
      ]
     },
     "execution_count": 44,
     "metadata": {},
     "output_type": "execute_result"
    }
   ],
   "source": [
    "# Load the dataframe from a CSV file\n",
    "df = pd.read_csv('sentiment_analysis_results.csv')\n",
    "\n",
    "# Display the first few rows of the dataframe\n",
    "df.head()"
   ]
  },
  {
   "cell_type": "code",
   "execution_count": 45,
   "metadata": {},
   "outputs": [
    {
     "name": "stdout",
     "output_type": "stream",
     "text": [
      "score                    10327\n",
      "type                         0\n",
      "review_en                    0\n",
      "review_cleaned               0\n",
      "review_cleaned_joined        0\n",
      "sentiment                    0\n",
      "dtype: int64\n",
      "Empty DataFrame\n",
      "Columns: [score, type, review_en, review_cleaned, review_cleaned_joined, sentiment]\n",
      "Index: []\n"
     ]
    }
   ],
   "source": [
    "print(df.isna().sum())\n",
    "\n",
    "df.dropna(subset=['review_cleaned_joined'], inplace=True)\n",
    "print(df[df['review_cleaned_joined'].isna()])"
   ]
  },
  {
   "cell_type": "markdown",
   "metadata": {},
   "source": [
    "Training the model"
   ]
  },
  {
   "cell_type": "code",
   "execution_count": 46,
   "metadata": {},
   "outputs": [
    {
     "name": "stdout",
     "output_type": "stream",
     "text": [
      "Epoch 1/30\n"
     ]
    },
    {
     "name": "stderr",
     "output_type": "stream",
     "text": [
      "/opt/anaconda3/lib/python3.11/site-packages/keras/src/layers/core/embedding.py:90: UserWarning: Argument `input_length` is deprecated. Just remove it.\n",
      "  warnings.warn(\n"
     ]
    },
    {
     "name": "stdout",
     "output_type": "stream",
     "text": [
      "\u001b[1m861/861\u001b[0m \u001b[32m━━━━━━━━━━━━━━━━━━━━\u001b[0m\u001b[37m\u001b[0m \u001b[1m3s\u001b[0m 3ms/step - accuracy: 0.8392 - loss: 0.4478 - val_accuracy: 0.8642 - val_loss: 0.3727\n",
      "Epoch 2/30\n",
      "\u001b[1m861/861\u001b[0m \u001b[32m━━━━━━━━━━━━━━━━━━━━\u001b[0m\u001b[37m\u001b[0m \u001b[1m2s\u001b[0m 2ms/step - accuracy: 0.8725 - loss: 0.3485 - val_accuracy: 0.8556 - val_loss: 0.3854\n",
      "Epoch 3/30\n",
      "\u001b[1m861/861\u001b[0m \u001b[32m━━━━━━━━━━━━━━━━━━━━\u001b[0m\u001b[37m\u001b[0m \u001b[1m2s\u001b[0m 2ms/step - accuracy: 0.8740 - loss: 0.3280 - val_accuracy: 0.8660 - val_loss: 0.3487\n",
      "Epoch 4/30\n",
      "\u001b[1m861/861\u001b[0m \u001b[32m━━━━━━━━━━━━━━━━━━━━\u001b[0m\u001b[37m\u001b[0m \u001b[1m2s\u001b[0m 2ms/step - accuracy: 0.8768 - loss: 0.3053 - val_accuracy: 0.8661 - val_loss: 0.3487\n",
      "Epoch 5/30\n",
      "\u001b[1m861/861\u001b[0m \u001b[32m━━━━━━━━━━━━━━━━━━━━\u001b[0m\u001b[37m\u001b[0m \u001b[1m2s\u001b[0m 2ms/step - accuracy: 0.8811 - loss: 0.2916 - val_accuracy: 0.8626 - val_loss: 0.3559\n",
      "Epoch 6/30\n",
      "\u001b[1m861/861\u001b[0m \u001b[32m━━━━━━━━━━━━━━━━━━━━\u001b[0m\u001b[37m\u001b[0m \u001b[1m2s\u001b[0m 2ms/step - accuracy: 0.8848 - loss: 0.2856 - val_accuracy: 0.8617 - val_loss: 0.3611\n",
      "Epoch 7/30\n",
      "\u001b[1m861/861\u001b[0m \u001b[32m━━━━━━━━━━━━━━━━━━━━\u001b[0m\u001b[37m\u001b[0m \u001b[1m2s\u001b[0m 2ms/step - accuracy: 0.8825 - loss: 0.2801 - val_accuracy: 0.8587 - val_loss: 0.3682\n",
      "Epoch 8/30\n",
      "\u001b[1m861/861\u001b[0m \u001b[32m━━━━━━━━━━━━━━━━━━━━\u001b[0m\u001b[37m\u001b[0m \u001b[1m2s\u001b[0m 2ms/step - accuracy: 0.8858 - loss: 0.2762 - val_accuracy: 0.8565 - val_loss: 0.3782\n",
      "Epoch 9/30\n",
      "\u001b[1m861/861\u001b[0m \u001b[32m━━━━━━━━━━━━━━━━━━━━\u001b[0m\u001b[37m\u001b[0m \u001b[1m2s\u001b[0m 2ms/step - accuracy: 0.8865 - loss: 0.2668 - val_accuracy: 0.8500 - val_loss: 0.3942\n",
      "Epoch 10/30\n",
      "\u001b[1m861/861\u001b[0m \u001b[32m━━━━━━━━━━━━━━━━━━━━\u001b[0m\u001b[37m\u001b[0m \u001b[1m2s\u001b[0m 2ms/step - accuracy: 0.8899 - loss: 0.2619 - val_accuracy: 0.8587 - val_loss: 0.4008\n",
      "Epoch 11/30\n",
      "\u001b[1m861/861\u001b[0m \u001b[32m━━━━━━━━━━━━━━━━━━━━\u001b[0m\u001b[37m\u001b[0m \u001b[1m2s\u001b[0m 2ms/step - accuracy: 0.8906 - loss: 0.2623 - val_accuracy: 0.8604 - val_loss: 0.4128\n",
      "Epoch 12/30\n",
      "\u001b[1m861/861\u001b[0m \u001b[32m━━━━━━━━━━━━━━━━━━━━\u001b[0m\u001b[37m\u001b[0m \u001b[1m2s\u001b[0m 2ms/step - accuracy: 0.8895 - loss: 0.2615 - val_accuracy: 0.8552 - val_loss: 0.4084\n",
      "Epoch 13/30\n",
      "\u001b[1m861/861\u001b[0m \u001b[32m━━━━━━━━━━━━━━━━━━━━\u001b[0m\u001b[37m\u001b[0m \u001b[1m2s\u001b[0m 2ms/step - accuracy: 0.8909 - loss: 0.2525 - val_accuracy: 0.8519 - val_loss: 0.4140\n",
      "Epoch 14/30\n",
      "\u001b[1m861/861\u001b[0m \u001b[32m━━━━━━━━━━━━━━━━━━━━\u001b[0m\u001b[37m\u001b[0m \u001b[1m2s\u001b[0m 2ms/step - accuracy: 0.8945 - loss: 0.2540 - val_accuracy: 0.8504 - val_loss: 0.4234\n",
      "Epoch 15/30\n",
      "\u001b[1m861/861\u001b[0m \u001b[32m━━━━━━━━━━━━━━━━━━━━\u001b[0m\u001b[37m\u001b[0m \u001b[1m2s\u001b[0m 2ms/step - accuracy: 0.8977 - loss: 0.2504 - val_accuracy: 0.8504 - val_loss: 0.4306\n",
      "Epoch 16/30\n",
      "\u001b[1m861/861\u001b[0m \u001b[32m━━━━━━━━━━━━━━━━━━━━\u001b[0m\u001b[37m\u001b[0m \u001b[1m2s\u001b[0m 2ms/step - accuracy: 0.8965 - loss: 0.2470 - val_accuracy: 0.8567 - val_loss: 0.4578\n",
      "Epoch 17/30\n",
      "\u001b[1m861/861\u001b[0m \u001b[32m━━━━━━━━━━━━━━━━━━━━\u001b[0m\u001b[37m\u001b[0m \u001b[1m2s\u001b[0m 2ms/step - accuracy: 0.8942 - loss: 0.2470 - val_accuracy: 0.8510 - val_loss: 0.4386\n",
      "Epoch 18/30\n",
      "\u001b[1m861/861\u001b[0m \u001b[32m━━━━━━━━━━━━━━━━━━━━\u001b[0m\u001b[37m\u001b[0m \u001b[1m2s\u001b[0m 2ms/step - accuracy: 0.8931 - loss: 0.2493 - val_accuracy: 0.8520 - val_loss: 0.4553\n",
      "Epoch 19/30\n",
      "\u001b[1m861/861\u001b[0m \u001b[32m━━━━━━━━━━━━━━━━━━━━\u001b[0m\u001b[37m\u001b[0m \u001b[1m2s\u001b[0m 2ms/step - accuracy: 0.8963 - loss: 0.2396 - val_accuracy: 0.8500 - val_loss: 0.4502\n",
      "Epoch 20/30\n",
      "\u001b[1m861/861\u001b[0m \u001b[32m━━━━━━━━━━━━━━━━━━━━\u001b[0m\u001b[37m\u001b[0m \u001b[1m2s\u001b[0m 2ms/step - accuracy: 0.8987 - loss: 0.2415 - val_accuracy: 0.8530 - val_loss: 0.4705\n",
      "Epoch 21/30\n",
      "\u001b[1m861/861\u001b[0m \u001b[32m━━━━━━━━━━━━━━━━━━━━\u001b[0m\u001b[37m\u001b[0m \u001b[1m2s\u001b[0m 2ms/step - accuracy: 0.9002 - loss: 0.2409 - val_accuracy: 0.8465 - val_loss: 0.4613\n",
      "Epoch 22/30\n",
      "\u001b[1m861/861\u001b[0m \u001b[32m━━━━━━━━━━━━━━━━━━━━\u001b[0m\u001b[37m\u001b[0m \u001b[1m2s\u001b[0m 2ms/step - accuracy: 0.8963 - loss: 0.2405 - val_accuracy: 0.8565 - val_loss: 0.5292\n",
      "Epoch 23/30\n",
      "\u001b[1m861/861\u001b[0m \u001b[32m━━━━━━━━━━━━━━━━━━━━\u001b[0m\u001b[37m\u001b[0m \u001b[1m2s\u001b[0m 2ms/step - accuracy: 0.8935 - loss: 0.2460 - val_accuracy: 0.8465 - val_loss: 0.4712\n",
      "Epoch 24/30\n",
      "\u001b[1m861/861\u001b[0m \u001b[32m━━━━━━━━━━━━━━━━━━━━\u001b[0m\u001b[37m\u001b[0m \u001b[1m2s\u001b[0m 2ms/step - accuracy: 0.8986 - loss: 0.2384 - val_accuracy: 0.8556 - val_loss: 0.5033\n",
      "Epoch 25/30\n",
      "\u001b[1m861/861\u001b[0m \u001b[32m━━━━━━━━━━━━━━━━━━━━\u001b[0m\u001b[37m\u001b[0m \u001b[1m2s\u001b[0m 2ms/step - accuracy: 0.8988 - loss: 0.2377 - val_accuracy: 0.8564 - val_loss: 0.5116\n",
      "Epoch 26/30\n",
      "\u001b[1m861/861\u001b[0m \u001b[32m━━━━━━━━━━━━━━━━━━━━\u001b[0m\u001b[37m\u001b[0m \u001b[1m2s\u001b[0m 2ms/step - accuracy: 0.9010 - loss: 0.2338 - val_accuracy: 0.8420 - val_loss: 0.4899\n",
      "Epoch 27/30\n",
      "\u001b[1m861/861\u001b[0m \u001b[32m━━━━━━━━━━━━━━━━━━━━\u001b[0m\u001b[37m\u001b[0m \u001b[1m2s\u001b[0m 2ms/step - accuracy: 0.9009 - loss: 0.2359 - val_accuracy: 0.8480 - val_loss: 0.4933\n",
      "Epoch 28/30\n",
      "\u001b[1m861/861\u001b[0m \u001b[32m━━━━━━━━━━━━━━━━━━━━\u001b[0m\u001b[37m\u001b[0m \u001b[1m2s\u001b[0m 2ms/step - accuracy: 0.9020 - loss: 0.2321 - val_accuracy: 0.8432 - val_loss: 0.4969\n",
      "Epoch 29/30\n",
      "\u001b[1m861/861\u001b[0m \u001b[32m━━━━━━━━━━━━━━━━━━━━\u001b[0m\u001b[37m\u001b[0m \u001b[1m2s\u001b[0m 2ms/step - accuracy: 0.9068 - loss: 0.2253 - val_accuracy: 0.8424 - val_loss: 0.5017\n",
      "Epoch 30/30\n",
      "\u001b[1m861/861\u001b[0m \u001b[32m━━━━━━━━━━━━━━━━━━━━\u001b[0m\u001b[37m\u001b[0m \u001b[1m2s\u001b[0m 2ms/step - accuracy: 0.8978 - loss: 0.2376 - val_accuracy: 0.8517 - val_loss: 0.5166\n"
     ]
    },
    {
     "name": "stderr",
     "output_type": "stream",
     "text": [
      "WARNING:absl:You are saving your model as an HDF5 file via `model.save()` or `keras.saving.save_model(model)`. This file format is considered legacy. We recommend using instead the native Keras format, e.g. `model.save('my_model.keras')` or `keras.saving.save_model(model, 'my_model.keras')`. \n"
     ]
    },
    {
     "name": "stdout",
     "output_type": "stream",
     "text": [
      "\u001b[1m216/216\u001b[0m \u001b[32m━━━━━━━━━━━━━━━━━━━━\u001b[0m\u001b[37m\u001b[0m \u001b[1m0s\u001b[0m 556us/step\n"
     ]
    }
   ],
   "source": [
    "import tensorflow as tf\n",
    "import pandas as pd\n",
    "from sklearn.model_selection import train_test_split\n",
    "from tensorflow.keras.preprocessing.text import Tokenizer\n",
    "from tensorflow.keras.preprocessing.sequence import pad_sequences\n",
    "from tensorflow.keras.callbacks import TensorBoard\n",
    "import os\n",
    "\n",
    "# Text Preprocessing (tokenization, padding)\n",
    "tokenizer = Tokenizer(num_words=5000)\n",
    "tokenizer.fit_on_texts(df['review_cleaned_joined'])\n",
    "\n",
    "X = tokenizer.texts_to_sequences(df['review_cleaned_joined'])\n",
    "X = pad_sequences(X, padding='post', maxlen=50)\n",
    "\n",
    "# Convert sentiment to labels (binary or multiclass)\n",
    "y = df['sentiment'].apply(lambda x: 0 if x == 'negative' else 1).values  # For binary classification\n",
    "\n",
    "# Split data into training and validation sets\n",
    "X_train, X_val, y_train, y_val = train_test_split(X, y, test_size=0.2, random_state=42)\n",
    "\n",
    "# Model definition\n",
    "model = tf.keras.Sequential([\n",
    "    tf.keras.layers.Embedding(input_dim=5000, output_dim=128, input_length=50, name='embedding'),\n",
    "    tf.keras.layers.GlobalAveragePooling1D(),\n",
    "    tf.keras.layers.Dense(1, activation='sigmoid')  # For binary classification, change for multiclass\n",
    "])\n",
    "\n",
    "# Compile model\n",
    "model.compile(optimizer='adam', loss='binary_crossentropy', metrics=['accuracy'])\n",
    "\n",
    "\n",
    "# TensorBoard setup\n",
    "log_dir = os.path.join(\"logs\", \"embedding\")\n",
    "tensorboard_callback = TensorBoard(log_dir=log_dir, histogram_freq=1, embeddings_freq=1)\n",
    "\n",
    "# Train model\n",
    "model.fit(X_train, y_train, epochs=30, batch_size=32, validation_data=(X_val, y_val), callbacks=[tensorboard_callback])\n",
    "\n",
    "# Save the trained model for future use in a Streamlit app\n",
    "model.save(\"sentiment_analysis_model.h5\")\n",
    "\n",
    "# Predict the sentiment on the validation set\n",
    "y_val_pred = (model.predict(X_val) >= 0.5).astype(int)\n",
    "\n",
    "# After training, start TensorBoard\n",
    "# In your terminal (outside Jupyter Notebook):\n",
    "# tensorboard --logdir=logs/embedding"
   ]
  },
  {
   "cell_type": "markdown",
   "metadata": {},
   "source": [
    "Example use"
   ]
  },
  {
   "cell_type": "code",
   "execution_count": 47,
   "metadata": {},
   "outputs": [
    {
     "name": "stderr",
     "output_type": "stream",
     "text": [
      "WARNING:absl:Compiled the loaded model, but the compiled metrics have yet to be built. `model.compile_metrics` will be empty until you train or evaluate the model.\n"
     ]
    },
    {
     "name": "stdout",
     "output_type": "stream",
     "text": [
      "Review: Worst purchase ever. Terrible quality.\n",
      "\u001b[1m1/1\u001b[0m \u001b[32m━━━━━━━━━━━━━━━━━━━━\u001b[0m\u001b[37m\u001b[0m \u001b[1m0s\u001b[0m 21ms/step\n",
      "Predicted Sentiment: negative\n"
     ]
    }
   ],
   "source": [
    "from tensorflow.keras.models import load_model\n",
    "\n",
    "# Load the saved model (if needed in the future)\n",
    "model_save_path = \"sentiment_analysis_model.h5\"\n",
    "model = load_model(model_save_path)\n",
    "\n",
    "# Define the tokenizer (this should be the same tokenizer used during training)\n",
    "tokenizer = Tokenizer(num_words=5000)\n",
    "tokenizer.fit_on_texts(df_new['review_cleaned_joined'])  # Ensure the tokenizer is fit on the same training data\n",
    "\n",
    "# Function to predict sentiment for a randomly generated review\n",
    "def predict_sentiment(review):\n",
    "    # Text Preprocessing (tokenization and padding)\n",
    "    review_sequence = tokenizer.texts_to_sequences([review])\n",
    "    review_padded = pad_sequences(review_sequence, padding='post', maxlen=50)\n",
    "\n",
    "    # Predict sentiment (0 for negative, 1 for positive)\n",
    "    prediction = model.predict(review_padded)\n",
    "    sentiment = \"positive\" if prediction >= 0.5 else \"negative\"\n",
    "    return sentiment\n",
    "\n",
    "# Example: Generate a random review and predict its sentiment\n",
    "import random\n",
    "\n",
    "# Generate a random review (You can replace this with any other method of generating a review)\n",
    "random_reviews = [\n",
    "    \"The service was excellent, I am very satisfied!\",\n",
    "    \"The product broke after a few days, very disappointed.\",\n",
    "    \"Not bad, but could use some improvements.\",\n",
    "    \"I love this! Will definitely buy again.\",\n",
    "    \"Worst purchase ever. Terrible quality.\"\n",
    "]\n",
    "\n",
    "# Select a random review\n",
    "random_review = random.choice(random_reviews)\n",
    "\n",
    "# Print the review and its predicted sentiment\n",
    "print(f\"Review: {random_review}\")\n",
    "print(f\"Predicted Sentiment: {predict_sentiment(random_review)}\")"
   ]
  },
  {
   "cell_type": "markdown",
   "metadata": {},
   "source": [
    "# 6) Results Interpretation"
   ]
  },
  {
   "cell_type": "markdown",
   "metadata": {},
   "source": [
    "1. Rating prediction model"
   ]
  },
  {
   "cell_type": "code",
   "execution_count": 48,
   "metadata": {},
   "outputs": [
    {
     "data": {
      "image/png": "[encoded data removed]",
      "text/plain": [
       "<Figure size 800x600 with 2 Axes>"
      ]
     },
     "metadata": {},
     "output_type": "display_data"
    }
   ],
   "source": [
    "from sklearn.metrics import confusion_matrix\n",
    "import seaborn as sns\n",
    "\n",
    "import matplotlib.pyplot as plt\n",
    "\n",
    "# Generate the confusion matrix\n",
    "conf_matrix = confusion_matrix(y_test, y_pred)\n",
    "\n",
    "# Plot the heatmap\n",
    "plt.figure(figsize=(8, 6))\n",
    "sns.heatmap(conf_matrix, annot=True, fmt='d', cmap='Blues', xticklabels=['1', '2', '3', '4', '5'], yticklabels=['1', '2', '3', '4', '5'])\n",
    "plt.xlabel('Predicted')\n",
    "plt.ylabel('Actual')\n",
    "plt.title('Confusion Matrix Heatmap')\n",
    "plt.show()\n"
   ]
  },
  {
   "cell_type": "code",
   "execution_count": 49,
   "metadata": {},
   "outputs": [
    {
     "name": "stdout",
     "output_type": "stream",
     "text": [
      "              precision    recall  f1-score   support\n",
      "\n",
      "           1       0.59      0.86      0.70      1454\n",
      "           2       0.36      0.17      0.23       744\n",
      "           3       0.33      0.16      0.21       676\n",
      "           4       0.44      0.45      0.44       971\n",
      "           5       0.57      0.60      0.58       976\n",
      "\n",
      "    accuracy                           0.52      4821\n",
      "   macro avg       0.46      0.45      0.43      4821\n",
      "weighted avg       0.48      0.52      0.48      4821\n",
      "\n"
     ]
    }
   ],
   "source": [
    "from sklearn.metrics import classification_report\n",
    "\n",
    "# Generate the classification report\n",
    "report = classification_report(y_test, y_pred, target_names=['1', '2', '3', '4', '5'])\n",
    "print(report)"
   ]
  },
  {
   "cell_type": "markdown",
   "metadata": {},
   "source": [
    "2. Sentiment analysis model"
   ]
  },
  {
   "cell_type": "code",
   "execution_count": 50,
   "metadata": {},
   "outputs": [
    {
     "data": {
      "image/png": "[encoded data removed]",
      "text/plain": [
       "<Figure size 800x600 with 2 Axes>"
      ]
     },
     "metadata": {},
     "output_type": "display_data"
    }
   ],
   "source": [
    "from sklearn.metrics import confusion_matrix\n",
    "import seaborn as sns\n",
    "\n",
    "import matplotlib.pyplot as plt\n",
    "\n",
    "# Generate the confusion matrix\n",
    "conf_matrix = confusion_matrix(y_val, y_val_pred)\n",
    "\n",
    "# Plot the heatmap\n",
    "plt.figure(figsize=(8, 6))\n",
    "sns.heatmap(conf_matrix, annot=True, fmt='d', cmap='Blues', xticklabels=['Negative', 'Positive'], yticklabels=['Negative', 'Positive'])\n",
    "plt.xlabel('Predicted')\n",
    "plt.ylabel('Actual')\n",
    "plt.title('Confusion Matrix Heatmap')\n",
    "plt.show()"
   ]
  },
  {
   "cell_type": "code",
   "execution_count": 51,
   "metadata": {},
   "outputs": [
    {
     "name": "stdout",
     "output_type": "stream",
     "text": [
      "              precision    recall  f1-score   support\n",
      "\n",
      "    negative       0.87      0.97      0.92      5738\n",
      "    positive       0.63      0.28      0.38      1148\n",
      "\n",
      "    accuracy                           0.85      6886\n",
      "   macro avg       0.75      0.62      0.65      6886\n",
      "weighted avg       0.83      0.85      0.83      6886\n",
      "\n"
     ]
    }
   ],
   "source": [
    "from sklearn.metrics import classification_report\n",
    "\n",
    "\n",
    "# Generate the classification report\n",
    "report = classification_report(y_val, y_val_pred, target_names=['negative', 'positive'])\n",
    "print(report)"
   ]
  },
  {
   "cell_type": "code",
   "execution_count": 52,
   "metadata": {},
   "outputs": [
    {
     "name": "stdout",
     "output_type": "stream",
     "text": [
      "sentiment\n",
      "negative    28830\n",
      "positive     4956\n",
      "neutral       643\n",
      "Name: count, dtype: int64\n"
     ]
    },
    {
     "data": {
      "image/png": "[encoded data removed]",
      "text/plain": [
       "<Figure size 640x480 with 1 Axes>"
      ]
     },
     "metadata": {},
     "output_type": "display_data"
    }
   ],
   "source": [
    "import matplotlib.pyplot as plt\n",
    "\n",
    "# Count the sentiments\n",
    "sentiment_counts = df['sentiment'].value_counts()\n",
    "print(sentiment_counts)\n",
    "\n",
    "# Plot the sentiment distribution\n",
    "sentiment_counts.plot(kind='bar')\n",
    "plt.title('Sentiment Distribution')\n",
    "plt.xlabel('Sentiment')\n",
    "plt.ylabel('Count')\n",
    "plt.show()"
   ]
  }
 ],
 "metadata": {
  "kernelspec": {
   "display_name": "base",
   "language": "python",
   "name": "python3"
  },
  "language_info": {
   "codemirror_mode": {
    "name": "ipython",
    "version": 3
   },
   "file_extension": ".py",
   "mimetype": "text/x-python",
   "name": "python",
   "nbconvert_exporter": "python",
   "pygments_lexer": "ipython3",
   "version": "3.11.8"
  }
 },
 "nbformat": 4,
 "nbformat_minor": 2
}
