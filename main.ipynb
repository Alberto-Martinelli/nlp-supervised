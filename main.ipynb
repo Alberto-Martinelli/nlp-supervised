{
 "cells": [
  {
   "cell_type": "markdown",
   "metadata": {},
   "source": [
    "# 1) Data cleaning"
   ]
  },
  {
   "cell_type": "markdown",
   "metadata": {},
   "source": [
    "### Read files into dataframe"
   ]
  },
  {
   "cell_type": "code",
   "execution_count": 199,
   "metadata": {},
   "outputs": [
    {
     "data": {
      "text/html": [
       "<div>\n",
       "<style scoped>\n",
       "    .dataframe tbody tr th:only-of-type {\n",
       "        vertical-align: middle;\n",
       "    }\n",
       "\n",
       "    .dataframe tbody tr th {\n",
       "        vertical-align: top;\n",
       "    }\n",
       "\n",
       "    .dataframe thead th {\n",
       "        text-align: right;\n",
       "    }\n",
       "</style>\n",
       "<table border=\"1\" class=\"dataframe\">\n",
       "  <thead>\n",
       "    <tr style=\"text-align: right;\">\n",
       "      <th></th>\n",
       "      <th>score</th>\n",
       "      <th>username</th>\n",
       "      <th>review_fr</th>\n",
       "      <th>company</th>\n",
       "      <th>product</th>\n",
       "      <th>type</th>\n",
       "      <th>date_publication</th>\n",
       "      <th>date_exp</th>\n",
       "      <th>review_en</th>\n",
       "      <th>review_corrected_fr</th>\n",
       "      <th>review_corrected_en</th>\n",
       "    </tr>\n",
       "  </thead>\n",
       "  <tbody>\n",
       "    <tr>\n",
       "      <th>0</th>\n",
       "      <td>NaN</td>\n",
       "      <td>estelle-51227</td>\n",
       "      <td>j'ai quitté mon ancien contrat d'assurance chez Générali l'année derniere pour rejoindre le groupe Néoliane et je peux dire maitnenant après un an que la seule chose qui change... c'est le prix ! Je suis assuré de la même façon et pourtant je paye 30% de moins par mois ce uqi sur un an me fait économiser une fortune. Donc resté assuré aujourd'hui chez le même prouve bien que la seule chose que nous gagnons ce sont des hausses de cotisations. Marre de payer.</td>\n",
       "      <td>Néoliane Santé</td>\n",
       "      <td>sante</td>\n",
       "      <td>test</td>\n",
       "      <td>12/01/2017</td>\n",
       "      <td>01/01/2017</td>\n",
       "      <td>I left my former insurance contract at General for the year to join the Néoliane group and I can say mastering after a year that the only thing that changes ... It's the price! I am assured in the same way and yet I pay 30% less per month this UQI over a year saves me a fortune. So remained assured today in the same proves that the only thing we earn are contributions of contributions. Tired of paying.</td>\n",
       "      <td>NaN</td>\n",
       "      <td>NaN</td>\n",
       "    </tr>\n",
       "    <tr>\n",
       "      <th>1</th>\n",
       "      <td>NaN</td>\n",
       "      <td>leadum-51107</td>\n",
       "      <td>j'ai souscrit à cette mutuelle l'année derniere et je suis restée un an, j'ai trouvé la formule très avantageuse car le tarif était très intéressant pour mes lentilles et lunettes. J'ai pris la décision d'en changer car j'ai besoin d'orthodoncie et je ne l'avais pas par contre dans ma formule précédente.</td>\n",
       "      <td>Néoliane Santé</td>\n",
       "      <td>sante</td>\n",
       "      <td>test</td>\n",
       "      <td>09/01/2017</td>\n",
       "      <td>01/01/2017</td>\n",
       "      <td>I subscribed to this mutual a year last year and I stayed for a year, I found the formula very advantageous because the price was very interesting for my lenses and glasses. I made the decision to change it because I need orthodonia and I did not have it in my previous formula.</td>\n",
       "      <td>NaN</td>\n",
       "      <td>NaN</td>\n",
       "    </tr>\n",
       "    <tr>\n",
       "      <th>2</th>\n",
       "      <td>NaN</td>\n",
       "      <td>enora-49520</td>\n",
       "      <td>Impossible d'avoir le bon service , ils raccroche au nez quand il ne savent pas quoi répondre ils nous balade de service en service les papiers il faut les envoyer plusieurs fois et c'est jamais la même adresse ils sont mal poli je vous déconseillé cette mutuelle sincèrement</td>\n",
       "      <td>Néoliane Santé</td>\n",
       "      <td>sante</td>\n",
       "      <td>test</td>\n",
       "      <td>24/11/2016</td>\n",
       "      <td>01/11/2016</td>\n",
       "      <td>Impossible to have the right service, they hang up on the nose when they do not know what to answer they walk from service to service the papers we must send them several times and it is never the same address they are badly polished I advise you this mutual</td>\n",
       "      <td>NaN</td>\n",
       "      <td>NaN</td>\n",
       "    </tr>\n",
       "    <tr>\n",
       "      <th>3</th>\n",
       "      <td>NaN</td>\n",
       "      <td>bea-139295</td>\n",
       "      <td>Génération est une mutuelle très chère pour un retraité : + de 150 € par mois ! et malgré cela, impossible d'avoir un conseiller en ligne ! à part une voix électronique qui répète toujours la même chose. comment se fait il que pour une question simple posée sur votre site, on n'ait toujours pas de réponse 5 jours après ???\\npour une fois que j'essaie de vous contacter par téléphone, je suis très déçue.\\nje n'ose imaginer le jour où on doit vous contacter pour une hospitalisation urgente.... !</td>\n",
       "      <td>Génération</td>\n",
       "      <td>sante</td>\n",
       "      <td>test</td>\n",
       "      <td>09/11/2021</td>\n",
       "      <td>01/11/2021</td>\n",
       "      <td>Generation is a very expensive mutual for a retiree: more than 150 € per month! And despite this, it is impossible to have an online advisor! Apart from an electronic voice that always repeats the same thing. How is it that for a simple question asked on your site, we still have no answer 5 days after ???\\nFor once I try to contact you by phone, I am very disappointed.\\nI dare not imagine the day when you have to contact you for urgent hospitalization ....!</td>\n",
       "      <td>NaN</td>\n",
       "      <td>NaN</td>\n",
       "    </tr>\n",
       "    <tr>\n",
       "      <th>4</th>\n",
       "      <td>NaN</td>\n",
       "      <td>anna-139192</td>\n",
       "      <td>je viens d apprendre que je suis radié... j appel, une conseillere ne peux me donner de reponse me renvoie a un numero ... le sien, que je viens de faire et auquel j ai passé plus de 5 minutes a attendre plus les 9 minutes quand elle a essaye de me mettre en relation avec une autre personne ( 21.54minutes en tout). L autre numero que la conseillere m a donné me recroche au bout de 4.26minutes c est moins long!.\\nLors de mon adhesion j ai eu un probleme j etais deja chez eux en tant que salarié, j ai voulu garder mon contrat en tant que particulier : ils ne savent pas faire a priori puisqu il m ont changé mon centre de CPAM d un autre departement en me disant comme il etait question d un nouveau contrat j aurai dut transmettre mon attestation de CPAM, je suis d accord mais pourquoi me mettre dans un autre centre de securité sociale et en plus pas le meme departement! A ce jour aucune reponse depuis 2019.\\nAujourd hui la conseillere que j ai eu me dit qu ils ont gardé mon ancien RIB ( de 2018) pour me prelever et mon nouveau RIB  ( donné lors de mon nouveau contrat) pour me rembourser.\\nReponses evasives de la conseillere ( heureusement qu ils enregistrent...) , ne sait pas, ne voit pas, est d accord avec moi, ne peut rien faire pour moi, me comprend.\\n\\nVRAIMENT PAS SERIEUX, LAMENTABLE, INCOMPETENT, A FUIR!!\\n</td>\n",
       "      <td>Génération</td>\n",
       "      <td>sante</td>\n",
       "      <td>test</td>\n",
       "      <td>08/11/2021</td>\n",
       "      <td>01/11/2021</td>\n",
       "      <td>I just learned that I am struck off ... I call, an adviser can not give me an answer sends me to a number ... hers, whom I have just done and to which I spent more than 5 minutes to wait more The 9 minutes when she tried to put me in touch with another person (21.54 minutes in all). The other number that the adviser gave me hinders me after 4.26 minutes is less long!.\\nDuring my adhesion I had a problem I was already at home as an employee, I wanted to keep my contract as an individual: they do not know how to do a priori since he changed my center of CPAM from another department By telling me that it was question of a new contract I would have had to transmit my certificate of CPAM, I agree but why put myself in another social security center and in addition not the same department! To date, no response since 2019.\\nToday it advises her that I had told me that they kept my old RIB (from 2018) to get me up and my new RIB (given during my new contract) to reimburse me.\\nEvasive answers of the adviser (fortunately they record ...), does not know, does not see, agree with me, can do nothing for me, understands me.\\n\\nReally not serious, lamentable, incompetent, to flee !!\\n</td>\n",
       "      <td>NaN</td>\n",
       "      <td>NaN</td>\n",
       "    </tr>\n",
       "  </tbody>\n",
       "</table>\n",
       "</div>"
      ],
      "text/plain": [
       "   score       username  \\\n",
       "0    NaN  estelle-51227   \n",
       "1    NaN   leadum-51107   \n",
       "2    NaN    enora-49520   \n",
       "3    NaN     bea-139295   \n",
       "4    NaN    anna-139192   \n",
       "\n",
       "                                                                                                                                                                                                                                                                                                                                                                                                                                                                                                                                                                                                                                                                                                                                                                                                                                                                                                                                                                                                                                                                                                                                                                                                                                                                                                                                                                            review_fr  \\\n",
       "0                                                                                                                                                                                                                                                                                                                                                                                                                                                                                                                                                                                                                                                                                                                                                                                                                                                                                                       j'ai quitté mon ancien contrat d'assurance chez Générali l'année derniere pour rejoindre le groupe Néoliane et je peux dire maitnenant après un an que la seule chose qui change... c'est le prix ! Je suis assuré de la même façon et pourtant je paye 30% de moins par mois ce uqi sur un an me fait économiser une fortune. Donc resté assuré aujourd'hui chez le même prouve bien que la seule chose que nous gagnons ce sont des hausses de cotisations. Marre de payer.   \n",
       "1                                                                                                                                                                                                                                                                                                                                                                                                                                                                                                                                                                                                                                                                                                                                                                                                                                                                                                                                                                                                                                                                 j'ai souscrit à cette mutuelle l'année derniere et je suis restée un an, j'ai trouvé la formule très avantageuse car le tarif était très intéressant pour mes lentilles et lunettes. J'ai pris la décision d'en changer car j'ai besoin d'orthodoncie et je ne l'avais pas par contre dans ma formule précédente.     \n",
       "2                                                                                                                                                                                                                                                                                                                                                                                                                                                                                                                                                                                                                                                                                                                                                                                                                                                                                                                                                                                                                                                                                                Impossible d'avoir le bon service , ils raccroche au nez quand il ne savent pas quoi répondre ils nous balade de service en service les papiers il faut les envoyer plusieurs fois et c'est jamais la même adresse ils sont mal poli je vous déconseillé cette mutuelle sincèrement    \n",
       "3                                                                                                                                                                                                                                                                                                                                                                                                                                                                                                                                                                                                                                                                                                                                                                                                                                                                   Génération est une mutuelle très chère pour un retraité : + de 150 € par mois ! et malgré cela, impossible d'avoir un conseiller en ligne ! à part une voix électronique qui répète toujours la même chose. comment se fait il que pour une question simple posée sur votre site, on n'ait toujours pas de réponse 5 jours après ???\\npour une fois que j'essaie de vous contacter par téléphone, je suis très déçue.\\nje n'ose imaginer le jour où on doit vous contacter pour une hospitalisation urgente.... !   \n",
       "4  je viens d apprendre que je suis radié... j appel, une conseillere ne peux me donner de reponse me renvoie a un numero ... le sien, que je viens de faire et auquel j ai passé plus de 5 minutes a attendre plus les 9 minutes quand elle a essaye de me mettre en relation avec une autre personne ( 21.54minutes en tout). L autre numero que la conseillere m a donné me recroche au bout de 4.26minutes c est moins long!.\\nLors de mon adhesion j ai eu un probleme j etais deja chez eux en tant que salarié, j ai voulu garder mon contrat en tant que particulier : ils ne savent pas faire a priori puisqu il m ont changé mon centre de CPAM d un autre departement en me disant comme il etait question d un nouveau contrat j aurai dut transmettre mon attestation de CPAM, je suis d accord mais pourquoi me mettre dans un autre centre de securité sociale et en plus pas le meme departement! A ce jour aucune reponse depuis 2019.\\nAujourd hui la conseillere que j ai eu me dit qu ils ont gardé mon ancien RIB ( de 2018) pour me prelever et mon nouveau RIB  ( donné lors de mon nouveau contrat) pour me rembourser.\\nReponses evasives de la conseillere ( heureusement qu ils enregistrent...) , ne sait pas, ne voit pas, est d accord avec moi, ne peut rien faire pour moi, me comprend.\\n\\nVRAIMENT PAS SERIEUX, LAMENTABLE, INCOMPETENT, A FUIR!!\\n   \n",
       "\n",
       "          company product  type date_publication    date_exp  \\\n",
       "0  Néoliane Santé   sante  test       12/01/2017  01/01/2017   \n",
       "1  Néoliane Santé   sante  test       09/01/2017  01/01/2017   \n",
       "2  Néoliane Santé   sante  test       24/11/2016  01/11/2016   \n",
       "3      Génération   sante  test       09/11/2021  01/11/2021   \n",
       "4      Génération   sante  test       08/11/2021  01/11/2021   \n",
       "\n",
       "                                                                                                                                                                                                                                                                                                                                                                                                                                                                                                                                                                                                                                                                                                                                                                                                                                                                                                                                                                                                                                                                                                                                                                                                                               review_en  \\\n",
       "0                                                                                                                                                                                                                                                                                                                                                                                                                                                                                                                                                                                                                                                                                                                                                                                                                  I left my former insurance contract at General for the year to join the Néoliane group and I can say mastering after a year that the only thing that changes ... It's the price! I am assured in the same way and yet I pay 30% less per month this UQI over a year saves me a fortune. So remained assured today in the same proves that the only thing we earn are contributions of contributions. Tired of paying.   \n",
       "1                                                                                                                                                                                                                                                                                                                                                                                                                                                                                                                                                                                                                                                                                                                                                                                                                                                                                                                                                 I subscribed to this mutual a year last year and I stayed for a year, I found the formula very advantageous because the price was very interesting for my lenses and glasses. I made the decision to change it because I need orthodonia and I did not have it in my previous formula.   \n",
       "2                                                                                                                                                                                                                                                                                                                                                                                                                                                                                                                                                                                                                                                                                                                                                                                                                                                                                                                                                                     Impossible to have the right service, they hang up on the nose when they do not know what to answer they walk from service to service the papers we must send them several times and it is never the same address they are badly polished I advise you this mutual   \n",
       "3                                                                                                                                                                                                                                                                                                                                                                                                                                                                                                                                                                                                                                                                                                                                                          Generation is a very expensive mutual for a retiree: more than 150 € per month! And despite this, it is impossible to have an online advisor! Apart from an electronic voice that always repeats the same thing. How is it that for a simple question asked on your site, we still have no answer 5 days after ???\\nFor once I try to contact you by phone, I am very disappointed.\\nI dare not imagine the day when you have to contact you for urgent hospitalization ....!   \n",
       "4  I just learned that I am struck off ... I call, an adviser can not give me an answer sends me to a number ... hers, whom I have just done and to which I spent more than 5 minutes to wait more The 9 minutes when she tried to put me in touch with another person (21.54 minutes in all). The other number that the adviser gave me hinders me after 4.26 minutes is less long!.\\nDuring my adhesion I had a problem I was already at home as an employee, I wanted to keep my contract as an individual: they do not know how to do a priori since he changed my center of CPAM from another department By telling me that it was question of a new contract I would have had to transmit my certificate of CPAM, I agree but why put myself in another social security center and in addition not the same department! To date, no response since 2019.\\nToday it advises her that I had told me that they kept my old RIB (from 2018) to get me up and my new RIB (given during my new contract) to reimburse me.\\nEvasive answers of the adviser (fortunately they record ...), does not know, does not see, agree with me, can do nothing for me, understands me.\\n\\nReally not serious, lamentable, incompetent, to flee !!\\n   \n",
       "\n",
       "  review_corrected_fr review_corrected_en  \n",
       "0                 NaN                 NaN  \n",
       "1                 NaN                 NaN  \n",
       "2                 NaN                 NaN  \n",
       "3                 NaN                 NaN  \n",
       "4                 NaN                 NaN  "
      ]
     },
     "execution_count": 199,
     "metadata": {},
     "output_type": "execute_result"
    }
   ],
   "source": [
    "import pandas as pd \n",
    "import os\n",
    "import glob\n",
    "\n",
    "path = os.getcwd()\n",
    "folder_name = \"data\" \n",
    "xlsx_files = glob.glob(os.path.join(path+\"/\"+folder_name, \"*.xlsx\"))\n",
    "\n",
    "li = []\n",
    "col_names = ['score', 'username', 'review_fr', 'company', 'product', 'type', 'date_publication', 'date_exp', 'review_en', 'review_corrected_fr', 'review_corrected_en']\n",
    "for f in xlsx_files:\n",
    "    df = pd.read_excel(f, index_col=None, header=0, names=col_names)\n",
    "    li.append(df)\n",
    "\n",
    "dataframe = pd.concat(li, axis=0, ignore_index=True)\n",
    "dataframe.head()\n"
   ]
  },
  {
   "cell_type": "markdown",
   "metadata": {},
   "source": [
    "### Data cleaning"
   ]
  },
  {
   "cell_type": "code",
   "execution_count": 200,
   "metadata": {},
   "outputs": [
    {
     "name": "stdout",
     "output_type": "stream",
     "text": [
      "score                  10331\n",
      "username                   1\n",
      "review_fr                  0\n",
      "company                    0\n",
      "product                    0\n",
      "type                       0\n",
      "date_publication           0\n",
      "date_exp                   0\n",
      "review_en                  2\n",
      "review_corrected_fr    34000\n",
      "review_corrected_en    34004\n",
      "dtype: int64\n",
      "Total number of rows: 34435\n"
     ]
    }
   ],
   "source": [
    "print(dataframe.isna().sum())\n",
    "total_rows = dataframe.shape[0]\n",
    "print(f\"Total number of rows: {total_rows}\")"
   ]
  },
  {
   "cell_type": "markdown",
   "metadata": {},
   "source": [
    "Handling missing values"
   ]
  },
  {
   "cell_type": "code",
   "execution_count": 201,
   "metadata": {},
   "outputs": [],
   "source": [
    "df.dropna(subset=['score', 'review_en'], inplace=True)\n",
    "\n",
    "#remove columns not needed\n",
    "df.drop(columns=['username', 'review_fr', 'company', 'product', 'type', 'date_publication', 'date_exp', 'review_corrected_fr', 'review_corrected_en'], inplace=True)"
   ]
  },
  {
   "cell_type": "markdown",
   "metadata": {},
   "source": [
    "Lowercasing"
   ]
  },
  {
   "cell_type": "code",
   "execution_count": 202,
   "metadata": {},
   "outputs": [],
   "source": [
    "def lowercase(frame):\n",
    "    frame['review_en'] = frame['review_en'].map(lambda r: r.lower())\n",
    "\n",
    "lowercase(df)"
   ]
  },
  {
   "cell_type": "markdown",
   "metadata": {},
   "source": [
    "Remove punctuation"
   ]
  },
  {
   "cell_type": "code",
   "execution_count": 203,
   "metadata": {},
   "outputs": [],
   "source": [
    "def remove_punctuation(df):\n",
    "    df['review_en'] = df['review_en'].str.replace('[^\\w\\s]','', regex=True)\n",
    "\n",
    "remove_punctuation(df)"
   ]
  },
  {
   "cell_type": "markdown",
   "metadata": {},
   "source": [
    "Spelling correction"
   ]
  },
  {
   "cell_type": "code",
   "execution_count": 204,
   "metadata": {},
   "outputs": [],
   "source": [
    "# # pip install pyspellchecker\n",
    "# from spellchecker import SpellChecker\n",
    "# def spelling_correction(df):\n",
    "#     spell = SpellChecker()\n",
    "#     df['review_en'] = [[spell.correction(word) for word in row] for row in df['review_en'].str.split(\" \").to_list()]\n",
    "#     df['review_en'] = df['review_en'].apply(lambda x: \" \".join(x))\n",
    "\n",
    "# spelling_correction(df)"
   ]
  },
  {
   "cell_type": "markdown",
   "metadata": {},
   "source": [
    "Stopwords removal"
   ]
  },
  {
   "cell_type": "code",
   "execution_count": 205,
   "metadata": {},
   "outputs": [],
   "source": [
    "from nltk.corpus import stopwords\n",
    "\n",
    "def remove_stopwords(df):\n",
    "    stop = stopwords.words('english')\n",
    "    df['review_without_stopwords'] = df['review_en'].apply(lambda x: ' '.join([word for word in x.split() if word not in (stop)]))\n",
    "\n",
    "remove_stopwords(df)"
   ]
  },
  {
   "cell_type": "markdown",
   "metadata": {},
   "source": [
    "Tokenization"
   ]
  },
  {
   "cell_type": "code",
   "execution_count": 206,
   "metadata": {},
   "outputs": [],
   "source": [
    "import nltk\n",
    "\n",
    "def tokenize(df, column_to_tokenize):\n",
    "    # Adds a column 'tokenized_rev' that contains for each entry a python list of words contained in the review\n",
    "    df['tokenized_rev'] = df.apply(lambda row: nltk.word_tokenize(row[column_to_tokenize]), axis=1)\n",
    "\n",
    "tokenize(df, 'review_without_stopwords')"
   ]
  },
  {
   "cell_type": "markdown",
   "metadata": {},
   "source": [
    "Lemmatization"
   ]
  },
  {
   "cell_type": "code",
   "execution_count": 207,
   "metadata": {},
   "outputs": [
    {
     "name": "stderr",
     "output_type": "stream",
     "text": [
      "[nltk_data] Downloading package averaged_perceptron_tagger_eng to\n",
      "[nltk_data]     /Users/Alberto/nltk_data...\n",
      "[nltk_data]   Package averaged_perceptron_tagger_eng is already up-to-\n",
      "[nltk_data]       date!\n",
      "[nltk_data] Downloading package wordnet to /Users/Alberto/nltk_data...\n",
      "[nltk_data]   Package wordnet is already up-to-date!\n",
      "[nltk_data] Downloading package punkt to /Users/Alberto/nltk_data...\n",
      "[nltk_data]   Package punkt is already up-to-date!\n"
     ]
    }
   ],
   "source": [
    "import nltk\n",
    "nltk.download('averaged_perceptron_tagger_eng')\n",
    "nltk.download('wordnet')\n",
    "nltk.download('punkt')  # If working with tokenized data\n",
    "from nltk.stem import WordNetLemmatizer\n",
    "from nltk.corpus import wordnet\n",
    "from nltk import pos_tag\n",
    "from nltk.corpus import wordnet\n",
    "\n",
    "# Function to map NLTK POS tags to WordNet POS tags\n",
    "def get_wordnet_pos(tag):\n",
    "    if tag.startswith('J'):\n",
    "        return wordnet.ADJ\n",
    "    elif tag.startswith('V'):\n",
    "        return wordnet.VERB\n",
    "    elif tag.startswith('N'):\n",
    "        return wordnet.NOUN\n",
    "    elif tag.startswith('R'):\n",
    "        return wordnet.ADV\n",
    "    else:\n",
    "        return wordnet.NOUN  # Default as noun\n",
    "\n",
    "# Lemmatization function with POS tagging\n",
    "def lemmatize_col(df, list_column_to_lemmatize):\n",
    "    lmtzr = WordNetLemmatizer()\n",
    "    # Tokenize and apply lemmatization with POS\n",
    "    df['lemmatized'] = df[list_column_to_lemmatize].apply(lambda lst: [lmtzr.lemmatize(word, get_wordnet_pos(tag)) for word, tag in pos_tag(lst)]\n",
    "    )\n",
    "\n",
    "lemmatize_col(df, 'tokenized_rev')"
   ]
  }
 ],
 "metadata": {
  "kernelspec": {
   "display_name": "base",
   "language": "python",
   "name": "python3"
  },
  "language_info": {
   "codemirror_mode": {
    "name": "ipython",
    "version": 3
   },
   "file_extension": ".py",
   "mimetype": "text/x-python",
   "name": "python",
   "nbconvert_exporter": "python",
   "pygments_lexer": "ipython3",
   "version": "3.11.8"
  }
 },
 "nbformat": 4,
 "nbformat_minor": 2
}
