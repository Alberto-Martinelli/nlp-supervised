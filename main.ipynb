{
 "cells": [
  {
   "cell_type": "markdown",
   "metadata": {},
   "source": [
    "# 1) Data cleaning"
   ]
  },
  {
   "cell_type": "markdown",
   "metadata": {},
   "source": [
    "### Read files into dataframe"
   ]
  },
  {
   "cell_type": "code",
   "execution_count": 53,
   "metadata": {},
   "outputs": [
    {
     "data": {
      "text/html": [
       "<div>\n",
       "<style scoped>\n",
       "    .dataframe tbody tr th:only-of-type {\n",
       "        vertical-align: middle;\n",
       "    }\n",
       "\n",
       "    .dataframe tbody tr th {\n",
       "        vertical-align: top;\n",
       "    }\n",
       "\n",
       "    .dataframe thead th {\n",
       "        text-align: right;\n",
       "    }\n",
       "</style>\n",
       "<table border=\"1\" class=\"dataframe\">\n",
       "  <thead>\n",
       "    <tr style=\"text-align: right;\">\n",
       "      <th></th>\n",
       "      <th>score</th>\n",
       "      <th>username</th>\n",
       "      <th>review_fr</th>\n",
       "      <th>company</th>\n",
       "      <th>product</th>\n",
       "      <th>type</th>\n",
       "      <th>date_publication</th>\n",
       "      <th>date_exp</th>\n",
       "      <th>review_en</th>\n",
       "      <th>review_corrected_fr</th>\n",
       "      <th>review_corrected_en</th>\n",
       "    </tr>\n",
       "  </thead>\n",
       "  <tbody>\n",
       "    <tr>\n",
       "      <th>0</th>\n",
       "      <td>NaN</td>\n",
       "      <td>estelle-51227</td>\n",
       "      <td>j'ai quitté mon ancien contrat d'assurance che...</td>\n",
       "      <td>Néoliane Santé</td>\n",
       "      <td>sante</td>\n",
       "      <td>test</td>\n",
       "      <td>12/01/2017</td>\n",
       "      <td>01/01/2017</td>\n",
       "      <td>I left my former insurance contract at General...</td>\n",
       "      <td>NaN</td>\n",
       "      <td>NaN</td>\n",
       "    </tr>\n",
       "    <tr>\n",
       "      <th>1</th>\n",
       "      <td>NaN</td>\n",
       "      <td>leadum-51107</td>\n",
       "      <td>j'ai souscrit à cette mutuelle l'année dernier...</td>\n",
       "      <td>Néoliane Santé</td>\n",
       "      <td>sante</td>\n",
       "      <td>test</td>\n",
       "      <td>09/01/2017</td>\n",
       "      <td>01/01/2017</td>\n",
       "      <td>I subscribed to this mutual a year last year a...</td>\n",
       "      <td>NaN</td>\n",
       "      <td>NaN</td>\n",
       "    </tr>\n",
       "    <tr>\n",
       "      <th>2</th>\n",
       "      <td>NaN</td>\n",
       "      <td>enora-49520</td>\n",
       "      <td>Impossible d'avoir le bon service , ils raccro...</td>\n",
       "      <td>Néoliane Santé</td>\n",
       "      <td>sante</td>\n",
       "      <td>test</td>\n",
       "      <td>24/11/2016</td>\n",
       "      <td>01/11/2016</td>\n",
       "      <td>Impossible to have the right service, they han...</td>\n",
       "      <td>NaN</td>\n",
       "      <td>NaN</td>\n",
       "    </tr>\n",
       "    <tr>\n",
       "      <th>3</th>\n",
       "      <td>NaN</td>\n",
       "      <td>bea-139295</td>\n",
       "      <td>Génération est une mutuelle très chère pour un...</td>\n",
       "      <td>Génération</td>\n",
       "      <td>sante</td>\n",
       "      <td>test</td>\n",
       "      <td>09/11/2021</td>\n",
       "      <td>01/11/2021</td>\n",
       "      <td>Generation is a very expensive mutual for a re...</td>\n",
       "      <td>NaN</td>\n",
       "      <td>NaN</td>\n",
       "    </tr>\n",
       "    <tr>\n",
       "      <th>4</th>\n",
       "      <td>NaN</td>\n",
       "      <td>anna-139192</td>\n",
       "      <td>je viens d apprendre que je suis radié... j ap...</td>\n",
       "      <td>Génération</td>\n",
       "      <td>sante</td>\n",
       "      <td>test</td>\n",
       "      <td>08/11/2021</td>\n",
       "      <td>01/11/2021</td>\n",
       "      <td>I just learned that I am struck off ... I call...</td>\n",
       "      <td>NaN</td>\n",
       "      <td>NaN</td>\n",
       "    </tr>\n",
       "  </tbody>\n",
       "</table>\n",
       "</div>"
      ],
      "text/plain": [
       "   score       username                                          review_fr  \\\n",
       "0    NaN  estelle-51227  j'ai quitté mon ancien contrat d'assurance che...   \n",
       "1    NaN   leadum-51107  j'ai souscrit à cette mutuelle l'année dernier...   \n",
       "2    NaN    enora-49520  Impossible d'avoir le bon service , ils raccro...   \n",
       "3    NaN     bea-139295  Génération est une mutuelle très chère pour un...   \n",
       "4    NaN    anna-139192  je viens d apprendre que je suis radié... j ap...   \n",
       "\n",
       "          company product  type date_publication    date_exp  \\\n",
       "0  Néoliane Santé   sante  test       12/01/2017  01/01/2017   \n",
       "1  Néoliane Santé   sante  test       09/01/2017  01/01/2017   \n",
       "2  Néoliane Santé   sante  test       24/11/2016  01/11/2016   \n",
       "3      Génération   sante  test       09/11/2021  01/11/2021   \n",
       "4      Génération   sante  test       08/11/2021  01/11/2021   \n",
       "\n",
       "                                           review_en review_corrected_fr  \\\n",
       "0  I left my former insurance contract at General...                 NaN   \n",
       "1  I subscribed to this mutual a year last year a...                 NaN   \n",
       "2  Impossible to have the right service, they han...                 NaN   \n",
       "3  Generation is a very expensive mutual for a re...                 NaN   \n",
       "4  I just learned that I am struck off ... I call...                 NaN   \n",
       "\n",
       "  review_corrected_en  \n",
       "0                 NaN  \n",
       "1                 NaN  \n",
       "2                 NaN  \n",
       "3                 NaN  \n",
       "4                 NaN  "
      ]
     },
     "execution_count": 53,
     "metadata": {},
     "output_type": "execute_result"
    }
   ],
   "source": [
    "import pandas as pd \n",
    "import os\n",
    "import glob\n",
    "\n",
    "path = os.getcwd()\n",
    "folder_name = \"data\" \n",
    "xlsx_files = glob.glob(os.path.join(path+\"/\"+folder_name, \"*.xlsx\"))\n",
    "\n",
    "li = []\n",
    "col_names = ['score', 'username', 'review_fr', 'company', 'product', 'type', 'date_publication', 'date_exp', 'review_en', 'review_corrected_fr', 'review_corrected_en']\n",
    "for f in xlsx_files:\n",
    "    df = pd.read_excel(f, index_col=None, header=0, names=col_names)\n",
    "    li.append(df)\n",
    "\n",
    "dataframe = pd.concat(li, axis=0, ignore_index=True)\n",
    "dataframe.head()\n"
   ]
  },
  {
   "cell_type": "markdown",
   "metadata": {},
   "source": [
    "### Data cleaning"
   ]
  },
  {
   "cell_type": "code",
   "execution_count": 54,
   "metadata": {},
   "outputs": [
    {
     "name": "stdout",
     "output_type": "stream",
     "text": [
      "score                  10331\n",
      "username                   1\n",
      "review_fr                  0\n",
      "company                    0\n",
      "product                    0\n",
      "type                       0\n",
      "date_publication           0\n",
      "date_exp                   0\n",
      "review_en                  2\n",
      "review_corrected_fr    34000\n",
      "review_corrected_en    34004\n",
      "dtype: int64\n",
      "Total number of rows: 34435\n"
     ]
    }
   ],
   "source": [
    "print(dataframe.isna().sum())\n",
    "total_rows = dataframe.shape[0]\n",
    "print(f\"Total number of rows: {total_rows}\")"
   ]
  },
  {
   "cell_type": "markdown",
   "metadata": {},
   "source": [
    "Handling missing values"
   ]
  },
  {
   "cell_type": "code",
   "execution_count": null,
   "metadata": {},
   "outputs": [],
   "source": [
    "df.dropna(subset=['score', 'review_en'], inplace=True)\n",
    "\n",
    "#remove columns not needed\n",
    "df.drop(columns=['username', 'review_fr', 'company', 'product', 'type', 'date_publication', 'date_exp', 'review_corrected_fr', 'review_corrected_en'], inplace=True)"
   ]
  },
  {
   "cell_type": "markdown",
   "metadata": {},
   "source": [
    "Lowercasing"
   ]
  },
  {
   "cell_type": "code",
   "execution_count": 57,
   "metadata": {},
   "outputs": [],
   "source": [
    "def lowercase(frame):\n",
    "    frame['review_en'] = frame['review_en'].map(lambda r: r.lower())\n",
    "\n",
    "lowercase(df)"
   ]
  },
  {
   "cell_type": "markdown",
   "metadata": {},
   "source": [
    "Remove punctuation"
   ]
  },
  {
   "cell_type": "code",
   "execution_count": 58,
   "metadata": {},
   "outputs": [],
   "source": [
    "def remove_punctuation(df):\n",
    "    df['review_en'] = df['review_en'].str.replace('[^\\w\\s]','')\n",
    "\n",
    "remove_punctuation(df)"
   ]
  },
  {
   "cell_type": "markdown",
   "metadata": {},
   "source": [
    "Spelling correction"
   ]
  },
  {
   "cell_type": "code",
   "execution_count": 59,
   "metadata": {},
   "outputs": [],
   "source": [
    "# # pip install pyspellchecker\n",
    "# from spellchecker import SpellChecker\n",
    "# def spelling_correction(df):\n",
    "#     spell = SpellChecker()\n",
    "#     df['review_en'] = [[spell.correction(word) for word in row] for row in df['review_en'].str.split(\" \").to_list()]\n",
    "#     df['review_en'] = df['review_en'].apply(lambda x: \" \".join(x))\n",
    "\n",
    "# spelling_correction(df)"
   ]
  },
  {
   "cell_type": "markdown",
   "metadata": {},
   "source": [
    "Tokenization"
   ]
  },
  {
   "cell_type": "code",
   "execution_count": 60,
   "metadata": {},
   "outputs": [],
   "source": [
    "import nltk\n",
    "\n",
    "def tokenize(df):\n",
    "    # Adds a column 'tokenized_rev' that contains for each entry a python list of words contained in the review\n",
    "    df['tokenized_rev'] = df.apply(lambda row: nltk.word_tokenize(row['review_en']), axis=1)\n",
    "\n",
    "tokenize(df)"
   ]
  },
  {
   "cell_type": "markdown",
   "metadata": {},
   "source": [
    "Stopwords removal"
   ]
  },
  {
   "cell_type": "code",
   "execution_count": null,
   "metadata": {},
   "outputs": [
    {
     "data": {
      "text/html": [
       "<div>\n",
       "<style scoped>\n",
       "    .dataframe tbody tr th:only-of-type {\n",
       "        vertical-align: middle;\n",
       "    }\n",
       "\n",
       "    .dataframe tbody tr th {\n",
       "        vertical-align: top;\n",
       "    }\n",
       "\n",
       "    .dataframe thead th {\n",
       "        text-align: right;\n",
       "    }\n",
       "</style>\n",
       "<table border=\"1\" class=\"dataframe\">\n",
       "  <thead>\n",
       "    <tr style=\"text-align: right;\">\n",
       "      <th></th>\n",
       "      <th>score</th>\n",
       "      <th>review_en</th>\n",
       "      <th>tokenized_rev</th>\n",
       "      <th>review_without_stopwords</th>\n",
       "    </tr>\n",
       "  </thead>\n",
       "  <tbody>\n",
       "    <tr>\n",
       "      <th>0</th>\n",
       "      <td>4</td>\n",
       "      <td>new member and having been in contact with pop...</td>\n",
       "      <td>[new, member, and, having, been, in, contact, ...</td>\n",
       "      <td>new member contact pope, completely satisfied ...</td>\n",
       "    </tr>\n",
       "    <tr>\n",
       "      <th>1</th>\n",
       "      <td>1</td>\n",
       "      <td>latable telephone service, impossibility of ha...</td>\n",
       "      <td>[latable, telephone, service, ,, impossibility...</td>\n",
       "      <td>latable telephone service, impossibility answe...</td>\n",
       "    </tr>\n",
       "    <tr>\n",
       "      <th>2</th>\n",
       "      <td>5</td>\n",
       "      <td>i am very satisfied with all the services offe...</td>\n",
       "      <td>[i, am, very, satisfied, with, all, the, servi...</td>\n",
       "      <td>satisfied services offered gmf. customer many ...</td>\n",
       "    </tr>\n",
       "    <tr>\n",
       "      <th>3</th>\n",
       "      <td>4</td>\n",
       "      <td>i am satisfied the price suits me very well i ...</td>\n",
       "      <td>[i, am, satisfied, the, price, suits, me, very...</td>\n",
       "      <td>satisfied price suits well knew april thanks w...</td>\n",
       "    </tr>\n",
       "    <tr>\n",
       "      <th>4</th>\n",
       "      <td>4</td>\n",
       "      <td>..i.... . nickel for the moment, no sinister w...</td>\n",
       "      <td>[.., i, ...., ., nickel, for, the, moment, ,, ...</td>\n",
       "      <td>..i.... . nickel moment, sinister see use..l h...</td>\n",
       "    </tr>\n",
       "  </tbody>\n",
       "</table>\n",
       "</div>"
      ],
      "text/plain": [
       "   score                                          review_en  \\\n",
       "0      4  new member and having been in contact with pop...   \n",
       "1      1  latable telephone service, impossibility of ha...   \n",
       "2      5  i am very satisfied with all the services offe...   \n",
       "3      4  i am satisfied the price suits me very well i ...   \n",
       "4      4  ..i.... . nickel for the moment, no sinister w...   \n",
       "\n",
       "                                       tokenized_rev  \\\n",
       "0  [new, member, and, having, been, in, contact, ...   \n",
       "1  [latable, telephone, service, ,, impossibility...   \n",
       "2  [i, am, very, satisfied, with, all, the, servi...   \n",
       "3  [i, am, satisfied, the, price, suits, me, very...   \n",
       "4  [.., i, ...., ., nickel, for, the, moment, ,, ...   \n",
       "\n",
       "                            review_without_stopwords  \n",
       "0  new member contact pope, completely satisfied ...  \n",
       "1  latable telephone service, impossibility answe...  \n",
       "2  satisfied services offered gmf. customer many ...  \n",
       "3  satisfied price suits well knew april thanks w...  \n",
       "4  ..i.... . nickel moment, sinister see use..l h...  "
      ]
     },
     "execution_count": 62,
     "metadata": {},
     "output_type": "execute_result"
    }
   ],
   "source": [
    "from nltk.corpus import stopwords\n",
    "\n",
    "def remove_stopwords(df):\n",
    "    stop = stopwords.words('english')\n",
    "    df['review_without_stopwords'] = df['review_en'].apply(lambda x: ' '.join([word for word in x.split() if word not in (stop)]))\n",
    "\n",
    "remove_stopwords(df)"
   ]
  },
  {
   "cell_type": "markdown",
   "metadata": {},
   "source": [
    "Lemmatization"
   ]
  }
 ],
 "metadata": {
  "kernelspec": {
   "display_name": "base",
   "language": "python",
   "name": "python3"
  },
  "language_info": {
   "codemirror_mode": {
    "name": "ipython",
    "version": 3
   },
   "file_extension": ".py",
   "mimetype": "text/x-python",
   "name": "python",
   "nbconvert_exporter": "python",
   "pygments_lexer": "ipython3",
   "version": "3.11.8"
  }
 },
 "nbformat": 4,
 "nbformat_minor": 2
}
